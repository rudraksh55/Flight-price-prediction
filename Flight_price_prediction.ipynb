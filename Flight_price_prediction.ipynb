{
  "nbformat": 4,
  "nbformat_minor": 0,
  "metadata": {
    "colab": {
      "name": "Copy of Flight_price_prediction.ipynb",
      "provenance": [],
      "collapsed_sections": []
    },
    "kernelspec": {
      "display_name": "Python 3",
      "name": "python3"
    },
    "language_info": {
      "name": "python"
    }
  },
  "cells": [
    {
      "cell_type": "code",
      "metadata": {
        "id": "ZB8dbtK3BA3C"
      },
      "source": [
        "import numpy as np\n",
        "import pandas as pd\n",
        "import matplotlib.pyplot as plt\n",
        "import seaborn as sns\n",
        "\n",
        "sns.set()\n",
        "\n",
        "\n"
      ],
<<<<<<< HEAD
      "execution_count": 6,
      "outputs": []
    },
    {
      "cell_type": "markdown",
      "metadata": {
        "id": "ttcC22lyB8_Y"
      },
      "source": [
        "**Importing Dataset**"
      ]
=======
      "execution_count": 2,
      "outputs": []
>>>>>>> ceae804f99501933fcd618d89d45776980890ceb
    },
    {
      "cell_type": "code",
      "metadata": {
        "id": "U4uUU_08Bbaf"
      },
      "source": [
        "train_data=pd.read_excel(r'F:\\DataScience\\Machine learning\\EDA\\Data_Train.xlsx')\n"
      ],
      "execution_count": 13,
      "outputs": [
        {
          "output_type": "error",
          "ename": "FileNotFoundError",
          "evalue": "[Errno 2] No such file or directory: 'F:\\\\DataScience\\\\Machine learning\\\\EDA\\\\Data_Train.xlsx'",
          "traceback": [
            "\u001b[1;31m---------------------------------------------------------------------------\u001b[0m",
            "\u001b[1;31mFileNotFoundError\u001b[0m                         Traceback (most recent call last)",
            "\u001b[1;32m<ipython-input-13-ecdfa54c3278>\u001b[0m in \u001b[0;36m<module>\u001b[1;34m\u001b[0m\n\u001b[1;32m----> 1\u001b[1;33m \u001b[0mtrain_data\u001b[0m\u001b[1;33m=\u001b[0m\u001b[0mpd\u001b[0m\u001b[1;33m.\u001b[0m\u001b[0mread_excel\u001b[0m\u001b[1;33m(\u001b[0m\u001b[1;34mr'F:\\DataScience\\Machine learning\\EDA\\Data_Train.xlsx'\u001b[0m\u001b[1;33m)\u001b[0m\u001b[1;33m\u001b[0m\u001b[1;33m\u001b[0m\u001b[0m\n\u001b[0m",
            "\u001b[1;32m~\\AppData\\Local\\Programs\\Python\\Python39\\lib\\site-packages\\pandas\\util\\_decorators.py\u001b[0m in \u001b[0;36mwrapper\u001b[1;34m(*args, **kwargs)\u001b[0m\n\u001b[0;32m    297\u001b[0m                 )\n\u001b[0;32m    298\u001b[0m                 \u001b[0mwarnings\u001b[0m\u001b[1;33m.\u001b[0m\u001b[0mwarn\u001b[0m\u001b[1;33m(\u001b[0m\u001b[0mmsg\u001b[0m\u001b[1;33m,\u001b[0m \u001b[0mFutureWarning\u001b[0m\u001b[1;33m,\u001b[0m \u001b[0mstacklevel\u001b[0m\u001b[1;33m=\u001b[0m\u001b[0mstacklevel\u001b[0m\u001b[1;33m)\u001b[0m\u001b[1;33m\u001b[0m\u001b[1;33m\u001b[0m\u001b[0m\n\u001b[1;32m--> 299\u001b[1;33m             \u001b[1;32mreturn\u001b[0m \u001b[0mfunc\u001b[0m\u001b[1;33m(\u001b[0m\u001b[1;33m*\u001b[0m\u001b[0margs\u001b[0m\u001b[1;33m,\u001b[0m \u001b[1;33m**\u001b[0m\u001b[0mkwargs\u001b[0m\u001b[1;33m)\u001b[0m\u001b[1;33m\u001b[0m\u001b[1;33m\u001b[0m\u001b[0m\n\u001b[0m\u001b[0;32m    300\u001b[0m \u001b[1;33m\u001b[0m\u001b[0m\n\u001b[0;32m    301\u001b[0m         \u001b[1;32mreturn\u001b[0m \u001b[0mwrapper\u001b[0m\u001b[1;33m\u001b[0m\u001b[1;33m\u001b[0m\u001b[0m\n",
            "\u001b[1;32m~\\AppData\\Local\\Programs\\Python\\Python39\\lib\\site-packages\\pandas\\io\\excel\\_base.py\u001b[0m in \u001b[0;36mread_excel\u001b[1;34m(io, sheet_name, header, names, index_col, usecols, squeeze, dtype, engine, converters, true_values, false_values, skiprows, nrows, na_values, keep_default_na, na_filter, verbose, parse_dates, date_parser, thousands, comment, skipfooter, convert_float, mangle_dupe_cols, storage_options)\u001b[0m\n\u001b[0;32m    334\u001b[0m     \u001b[1;32mif\u001b[0m \u001b[1;32mnot\u001b[0m \u001b[0misinstance\u001b[0m\u001b[1;33m(\u001b[0m\u001b[0mio\u001b[0m\u001b[1;33m,\u001b[0m \u001b[0mExcelFile\u001b[0m\u001b[1;33m)\u001b[0m\u001b[1;33m:\u001b[0m\u001b[1;33m\u001b[0m\u001b[1;33m\u001b[0m\u001b[0m\n\u001b[0;32m    335\u001b[0m         \u001b[0mshould_close\u001b[0m \u001b[1;33m=\u001b[0m \u001b[1;32mTrue\u001b[0m\u001b[1;33m\u001b[0m\u001b[1;33m\u001b[0m\u001b[0m\n\u001b[1;32m--> 336\u001b[1;33m         \u001b[0mio\u001b[0m \u001b[1;33m=\u001b[0m \u001b[0mExcelFile\u001b[0m\u001b[1;33m(\u001b[0m\u001b[0mio\u001b[0m\u001b[1;33m,\u001b[0m \u001b[0mstorage_options\u001b[0m\u001b[1;33m=\u001b[0m\u001b[0mstorage_options\u001b[0m\u001b[1;33m,\u001b[0m \u001b[0mengine\u001b[0m\u001b[1;33m=\u001b[0m\u001b[0mengine\u001b[0m\u001b[1;33m)\u001b[0m\u001b[1;33m\u001b[0m\u001b[1;33m\u001b[0m\u001b[0m\n\u001b[0m\u001b[0;32m    337\u001b[0m     \u001b[1;32melif\u001b[0m \u001b[0mengine\u001b[0m \u001b[1;32mand\u001b[0m \u001b[0mengine\u001b[0m \u001b[1;33m!=\u001b[0m \u001b[0mio\u001b[0m\u001b[1;33m.\u001b[0m\u001b[0mengine\u001b[0m\u001b[1;33m:\u001b[0m\u001b[1;33m\u001b[0m\u001b[1;33m\u001b[0m\u001b[0m\n\u001b[0;32m    338\u001b[0m         raise ValueError(\n",
            "\u001b[1;32m~\\AppData\\Local\\Programs\\Python\\Python39\\lib\\site-packages\\pandas\\io\\excel\\_base.py\u001b[0m in \u001b[0;36m__init__\u001b[1;34m(self, path_or_buffer, engine, storage_options)\u001b[0m\n\u001b[0;32m   1069\u001b[0m                 \u001b[0mext\u001b[0m \u001b[1;33m=\u001b[0m \u001b[1;34m\"xls\"\u001b[0m\u001b[1;33m\u001b[0m\u001b[1;33m\u001b[0m\u001b[0m\n\u001b[0;32m   1070\u001b[0m             \u001b[1;32melse\u001b[0m\u001b[1;33m:\u001b[0m\u001b[1;33m\u001b[0m\u001b[1;33m\u001b[0m\u001b[0m\n\u001b[1;32m-> 1071\u001b[1;33m                 ext = inspect_excel_format(\n\u001b[0m\u001b[0;32m   1072\u001b[0m                     \u001b[0mcontent\u001b[0m\u001b[1;33m=\u001b[0m\u001b[0mpath_or_buffer\u001b[0m\u001b[1;33m,\u001b[0m \u001b[0mstorage_options\u001b[0m\u001b[1;33m=\u001b[0m\u001b[0mstorage_options\u001b[0m\u001b[1;33m\u001b[0m\u001b[1;33m\u001b[0m\u001b[0m\n\u001b[0;32m   1073\u001b[0m                 )\n",
            "\u001b[1;32m~\\AppData\\Local\\Programs\\Python\\Python39\\lib\\site-packages\\pandas\\io\\excel\\_base.py\u001b[0m in \u001b[0;36minspect_excel_format\u001b[1;34m(path, content, storage_options)\u001b[0m\n\u001b[0;32m    947\u001b[0m     \u001b[1;32massert\u001b[0m \u001b[0mcontent_or_path\u001b[0m \u001b[1;32mis\u001b[0m \u001b[1;32mnot\u001b[0m \u001b[1;32mNone\u001b[0m\u001b[1;33m\u001b[0m\u001b[1;33m\u001b[0m\u001b[0m\n\u001b[0;32m    948\u001b[0m \u001b[1;33m\u001b[0m\u001b[0m\n\u001b[1;32m--> 949\u001b[1;33m     with get_handle(\n\u001b[0m\u001b[0;32m    950\u001b[0m         \u001b[0mcontent_or_path\u001b[0m\u001b[1;33m,\u001b[0m \u001b[1;34m\"rb\"\u001b[0m\u001b[1;33m,\u001b[0m \u001b[0mstorage_options\u001b[0m\u001b[1;33m=\u001b[0m\u001b[0mstorage_options\u001b[0m\u001b[1;33m,\u001b[0m \u001b[0mis_text\u001b[0m\u001b[1;33m=\u001b[0m\u001b[1;32mFalse\u001b[0m\u001b[1;33m\u001b[0m\u001b[1;33m\u001b[0m\u001b[0m\n\u001b[0;32m    951\u001b[0m     ) as handle:\n",
            "\u001b[1;32m~\\AppData\\Local\\Programs\\Python\\Python39\\lib\\site-packages\\pandas\\io\\common.py\u001b[0m in \u001b[0;36mget_handle\u001b[1;34m(path_or_buf, mode, encoding, compression, memory_map, is_text, errors, storage_options)\u001b[0m\n\u001b[0;32m    649\u001b[0m         \u001b[1;32melse\u001b[0m\u001b[1;33m:\u001b[0m\u001b[1;33m\u001b[0m\u001b[1;33m\u001b[0m\u001b[0m\n\u001b[0;32m    650\u001b[0m             \u001b[1;31m# Binary mode\u001b[0m\u001b[1;33m\u001b[0m\u001b[1;33m\u001b[0m\u001b[1;33m\u001b[0m\u001b[0m\n\u001b[1;32m--> 651\u001b[1;33m             \u001b[0mhandle\u001b[0m \u001b[1;33m=\u001b[0m \u001b[0mopen\u001b[0m\u001b[1;33m(\u001b[0m\u001b[0mhandle\u001b[0m\u001b[1;33m,\u001b[0m \u001b[0mioargs\u001b[0m\u001b[1;33m.\u001b[0m\u001b[0mmode\u001b[0m\u001b[1;33m)\u001b[0m\u001b[1;33m\u001b[0m\u001b[1;33m\u001b[0m\u001b[0m\n\u001b[0m\u001b[0;32m    652\u001b[0m         \u001b[0mhandles\u001b[0m\u001b[1;33m.\u001b[0m\u001b[0mappend\u001b[0m\u001b[1;33m(\u001b[0m\u001b[0mhandle\u001b[0m\u001b[1;33m)\u001b[0m\u001b[1;33m\u001b[0m\u001b[1;33m\u001b[0m\u001b[0m\n\u001b[0;32m    653\u001b[0m \u001b[1;33m\u001b[0m\u001b[0m\n",
            "\u001b[1;31mFileNotFoundError\u001b[0m: [Errno 2] No such file or directory: 'F:\\\\DataScience\\\\Machine learning\\\\EDA\\\\Data_Train.xlsx'"
          ]
        }
      ]
    },
    {
      "cell_type": "code",
      "metadata": {
        "id": "21NDsR4QXX_c"
      },
      "source": [
<<<<<<< HEAD
=======
        "train_data=pd.read_excel(r'F:\\DataScience\\Machine learning\\EDA\\Data_Train.xlsx')\n"
      ],
      "execution_count": null,
      "outputs": []
    },
    {
      "cell_type": "code",
      "metadata": {
        "id": "21NDsR4QXX_c"
      },
      "source": [
>>>>>>> ceae804f99501933fcd618d89d45776980890ceb
        "pd.set_option('display.max_columns', None)"
      ],
      "execution_count": null,
      "outputs": []
    },
    {
      "cell_type": "code",
      "metadata": {
        "colab": {
          "base_uri": "https://localhost:8080/",
          "height": 598
        },
        "id": "y8aKjK5rBeJ8",
        "outputId": "7862ace9-e65a-491c-c401-502f95846c5e"
      },
      "source": [
        "train_data.head()"
      ],
      "execution_count": null,
      "outputs": [
        {
          "output_type": "execute_result",
          "data": {
            "text/html": [
              "<div>\n",
              "<style scoped>\n",
              "    .dataframe tbody tr th:only-of-type {\n",
              "        vertical-align: middle;\n",
              "    }\n",
              "\n",
              "    .dataframe tbody tr th {\n",
              "        vertical-align: top;\n",
              "    }\n",
              "\n",
              "    .dataframe thead th {\n",
              "        text-align: right;\n",
              "    }\n",
              "</style>\n",
              "<table border=\"1\" class=\"dataframe\">\n",
              "  <thead>\n",
              "    <tr style=\"text-align: right;\">\n",
              "      <th></th>\n",
              "      <th>Airline</th>\n",
              "      <th>Date_of_Journey</th>\n",
              "      <th>Source</th>\n",
              "      <th>Destination</th>\n",
              "      <th>Route</th>\n",
              "      <th>Dep_Time</th>\n",
              "      <th>Arrival_Time</th>\n",
              "      <th>Duration</th>\n",
              "      <th>Total_Stops</th>\n",
              "      <th>Additional_Info</th>\n",
              "      <th>Price</th>\n",
              "    </tr>\n",
              "  </thead>\n",
              "  <tbody>\n",
              "    <tr>\n",
              "      <th>0</th>\n",
              "      <td>IndiGo</td>\n",
              "      <td>24/03/2019</td>\n",
              "      <td>Banglore</td>\n",
              "      <td>New Delhi</td>\n",
              "      <td>BLR → DEL</td>\n",
              "      <td>22:20</td>\n",
              "      <td>01:10 22 Mar</td>\n",
              "      <td>2h 50m</td>\n",
              "      <td>non-stop</td>\n",
              "      <td>No info</td>\n",
              "      <td>3897</td>\n",
              "    </tr>\n",
              "    <tr>\n",
              "      <th>1</th>\n",
              "      <td>Air India</td>\n",
              "      <td>1/05/2019</td>\n",
              "      <td>Kolkata</td>\n",
              "      <td>Banglore</td>\n",
              "      <td>CCU → IXR → BBI → BLR</td>\n",
              "      <td>05:50</td>\n",
              "      <td>13:15</td>\n",
              "      <td>7h 25m</td>\n",
              "      <td>2 stops</td>\n",
              "      <td>No info</td>\n",
              "      <td>7662</td>\n",
              "    </tr>\n",
              "    <tr>\n",
              "      <th>2</th>\n",
              "      <td>Jet Airways</td>\n",
              "      <td>9/06/2019</td>\n",
              "      <td>Delhi</td>\n",
              "      <td>Cochin</td>\n",
              "      <td>DEL → LKO → BOM → COK</td>\n",
              "      <td>09:25</td>\n",
              "      <td>04:25 10 Jun</td>\n",
              "      <td>19h</td>\n",
              "      <td>2 stops</td>\n",
              "      <td>No info</td>\n",
              "      <td>13882</td>\n",
              "    </tr>\n",
              "    <tr>\n",
              "      <th>3</th>\n",
              "      <td>IndiGo</td>\n",
              "      <td>12/05/2019</td>\n",
              "      <td>Kolkata</td>\n",
              "      <td>Banglore</td>\n",
              "      <td>CCU → NAG → BLR</td>\n",
              "      <td>18:05</td>\n",
              "      <td>23:30</td>\n",
              "      <td>5h 25m</td>\n",
              "      <td>1 stop</td>\n",
              "      <td>No info</td>\n",
              "      <td>6218</td>\n",
              "    </tr>\n",
              "    <tr>\n",
              "      <th>4</th>\n",
              "      <td>IndiGo</td>\n",
              "      <td>01/03/2019</td>\n",
              "      <td>Banglore</td>\n",
              "      <td>New Delhi</td>\n",
              "      <td>BLR → NAG → DEL</td>\n",
              "      <td>16:50</td>\n",
              "      <td>21:35</td>\n",
              "      <td>4h 45m</td>\n",
              "      <td>1 stop</td>\n",
              "      <td>No info</td>\n",
              "      <td>13302</td>\n",
              "    </tr>\n",
              "  </tbody>\n",
              "</table>\n",
              "</div>"
            ],
            "text/plain": [
              "       Airline Date_of_Journey    Source Destination                  Route  \\\n",
              "0       IndiGo      24/03/2019  Banglore   New Delhi              BLR → DEL   \n",
              "1    Air India       1/05/2019   Kolkata    Banglore  CCU → IXR → BBI → BLR   \n",
              "2  Jet Airways       9/06/2019     Delhi      Cochin  DEL → LKO → BOM → COK   \n",
              "3       IndiGo      12/05/2019   Kolkata    Banglore        CCU → NAG → BLR   \n",
              "4       IndiGo      01/03/2019  Banglore   New Delhi        BLR → NAG → DEL   \n",
              "\n",
              "  Dep_Time  Arrival_Time Duration Total_Stops Additional_Info  Price  \n",
              "0    22:20  01:10 22 Mar   2h 50m    non-stop         No info   3897  \n",
              "1    05:50         13:15   7h 25m     2 stops         No info   7662  \n",
              "2    09:25  04:25 10 Jun      19h     2 stops         No info  13882  \n",
              "3    18:05         23:30   5h 25m      1 stop         No info   6218  \n",
              "4    16:50         21:35   4h 45m      1 stop         No info  13302  "
            ]
          },
          "metadata": {
            "tags": []
          },
          "execution_count": 132
        }
      ]
    },
    {
      "cell_type": "markdown",
      "metadata": {
        "id": "N3UW-WAvEYBI"
      },
      "source": [
        "**TRAIN DATA**"
      ]
    },
    {
      "cell_type": "code",
      "metadata": {
        "colab": {
          "base_uri": "https://localhost:8080/"
        },
        "id": "Qlt1vYTNBejw",
        "outputId": "f0aafd91-4499-4c14-ba83-4b9a18ec16e5"
      },
      "source": [
        "train_data.info()"
      ],
      "execution_count": null,
      "outputs": [
        {
          "output_type": "stream",
          "text": [
            "<class 'pandas.core.frame.DataFrame'>\n",
            "RangeIndex: 10683 entries, 0 to 10682\n",
            "Data columns (total 11 columns):\n",
            " #   Column           Non-Null Count  Dtype \n",
            "---  ------           --------------  ----- \n",
            " 0   Airline          10683 non-null  object\n",
            " 1   Date_of_Journey  10683 non-null  object\n",
            " 2   Source           10683 non-null  object\n",
            " 3   Destination      10683 non-null  object\n",
            " 4   Route            10682 non-null  object\n",
            " 5   Dep_Time         10683 non-null  object\n",
            " 6   Arrival_Time     10683 non-null  object\n",
            " 7   Duration         10683 non-null  object\n",
            " 8   Total_Stops      10682 non-null  object\n",
            " 9   Additional_Info  10683 non-null  object\n",
            " 10  Price            10683 non-null  int64 \n",
            "dtypes: int64(1), object(10)\n",
            "memory usage: 918.2+ KB\n"
          ],
          "name": "stdout"
        }
      ]
    },
    {
      "cell_type": "code",
      "metadata": {
        "colab": {
          "base_uri": "https://localhost:8080/"
        },
        "id": "GxaQhMzqMuTc",
        "outputId": "b6b9dbf4-c199-4184-a3c0-e9cb1881dbe8"
      },
      "source": [
        "train_data['Duration'].value_counts()"
      ],
      "execution_count": null,
      "outputs": [
        {
          "output_type": "execute_result",
          "data": {
            "text/plain": [
              "2h 50m     550\n",
              "1h 30m     386\n",
              "2h 45m     337\n",
              "2h 55m     337\n",
              "2h 35m     329\n",
              "          ... \n",
              "36h 25m      1\n",
              "40h 20m      1\n",
              "32h 20m      1\n",
              "37h 10m      1\n",
              "13h 35m      1\n",
              "Name: Duration, Length: 368, dtype: int64"
            ]
          },
          "metadata": {
            "tags": []
          },
          "execution_count": 134
        }
      ]
    },
    {
      "cell_type": "code",
      "metadata": {
        "id": "IV1J17hWBiyT"
      },
      "source": [
        "train_data.dropna(inplace=True)"
      ],
      "execution_count": null,
      "outputs": []
    },
    {
      "cell_type": "code",
      "metadata": {
        "colab": {
          "base_uri": "https://localhost:8080/"
        },
        "id": "rLDB-G6mLB7L",
        "outputId": "cd598f19-e419-493b-838f-3d30fb36c27e"
      },
      "source": [
        "train_data.isnull().sum()"
      ],
      "execution_count": null,
      "outputs": [
        {
          "output_type": "execute_result",
          "data": {
            "text/plain": [
              "Airline            0\n",
              "Date_of_Journey    0\n",
              "Source             0\n",
              "Destination        0\n",
              "Route              0\n",
              "Dep_Time           0\n",
              "Arrival_Time       0\n",
              "Duration           0\n",
              "Total_Stops        0\n",
              "Additional_Info    0\n",
              "Price              0\n",
              "dtype: int64"
            ]
          },
          "metadata": {
            "tags": []
          },
          "execution_count": 136
        }
      ]
    },
    {
      "cell_type": "markdown",
      "metadata": {
        "id": "Kj7DjjMlOC9n"
      },
      "source": [
        "**EDA**"
      ]
    },
    {
      "cell_type": "code",
      "metadata": {
        "id": "bxmLL-c7Pn9u"
      },
      "source": [
        "\n",
        "train_data[\"Journey_day\"] = pd.to_datetime(train_data.Date_of_Journey, format=\"%d/%m/%Y\").dt.day"
      ],
      "execution_count": null,
      "outputs": []
    },
    {
      "cell_type": "code",
      "metadata": {
        "id": "-v5ftrx3LCSC"
      },
      "source": [
        "train_data['Journey_month']=pd.to_datetime(train_data['Date_of_Journey'],format=\"%d/%m/%Y\").dt.month"
      ],
      "execution_count": null,
      "outputs": []
    },
    {
      "cell_type": "code",
      "metadata": {
        "colab": {
          "base_uri": "https://localhost:8080/",
          "height": 598
        },
        "id": "GN9N4mm0Rcaw",
        "outputId": "4ccf0080-c75f-49a8-d27b-c7987f90e404"
      },
      "source": [
        "train_data.head()"
      ],
      "execution_count": null,
      "outputs": [
        {
          "output_type": "execute_result",
          "data": {
            "text/html": [
              "<div>\n",
              "<style scoped>\n",
              "    .dataframe tbody tr th:only-of-type {\n",
              "        vertical-align: middle;\n",
              "    }\n",
              "\n",
              "    .dataframe tbody tr th {\n",
              "        vertical-align: top;\n",
              "    }\n",
              "\n",
              "    .dataframe thead th {\n",
              "        text-align: right;\n",
              "    }\n",
              "</style>\n",
              "<table border=\"1\" class=\"dataframe\">\n",
              "  <thead>\n",
              "    <tr style=\"text-align: right;\">\n",
              "      <th></th>\n",
              "      <th>Airline</th>\n",
              "      <th>Date_of_Journey</th>\n",
              "      <th>Source</th>\n",
              "      <th>Destination</th>\n",
              "      <th>Route</th>\n",
              "      <th>Dep_Time</th>\n",
              "      <th>Arrival_Time</th>\n",
              "      <th>Duration</th>\n",
              "      <th>Total_Stops</th>\n",
              "      <th>Additional_Info</th>\n",
              "      <th>Price</th>\n",
              "      <th>Journey_day</th>\n",
              "      <th>Journey_month</th>\n",
              "    </tr>\n",
              "  </thead>\n",
              "  <tbody>\n",
              "    <tr>\n",
              "      <th>0</th>\n",
              "      <td>IndiGo</td>\n",
              "      <td>24/03/2019</td>\n",
              "      <td>Banglore</td>\n",
              "      <td>New Delhi</td>\n",
              "      <td>BLR → DEL</td>\n",
              "      <td>22:20</td>\n",
              "      <td>01:10 22 Mar</td>\n",
              "      <td>2h 50m</td>\n",
              "      <td>non-stop</td>\n",
              "      <td>No info</td>\n",
              "      <td>3897</td>\n",
              "      <td>24</td>\n",
              "      <td>3</td>\n",
              "    </tr>\n",
              "    <tr>\n",
              "      <th>1</th>\n",
              "      <td>Air India</td>\n",
              "      <td>1/05/2019</td>\n",
              "      <td>Kolkata</td>\n",
              "      <td>Banglore</td>\n",
              "      <td>CCU → IXR → BBI → BLR</td>\n",
              "      <td>05:50</td>\n",
              "      <td>13:15</td>\n",
              "      <td>7h 25m</td>\n",
              "      <td>2 stops</td>\n",
              "      <td>No info</td>\n",
              "      <td>7662</td>\n",
              "      <td>1</td>\n",
              "      <td>5</td>\n",
              "    </tr>\n",
              "    <tr>\n",
              "      <th>2</th>\n",
              "      <td>Jet Airways</td>\n",
              "      <td>9/06/2019</td>\n",
              "      <td>Delhi</td>\n",
              "      <td>Cochin</td>\n",
              "      <td>DEL → LKO → BOM → COK</td>\n",
              "      <td>09:25</td>\n",
              "      <td>04:25 10 Jun</td>\n",
              "      <td>19h</td>\n",
              "      <td>2 stops</td>\n",
              "      <td>No info</td>\n",
              "      <td>13882</td>\n",
              "      <td>9</td>\n",
              "      <td>6</td>\n",
              "    </tr>\n",
              "    <tr>\n",
              "      <th>3</th>\n",
              "      <td>IndiGo</td>\n",
              "      <td>12/05/2019</td>\n",
              "      <td>Kolkata</td>\n",
              "      <td>Banglore</td>\n",
              "      <td>CCU → NAG → BLR</td>\n",
              "      <td>18:05</td>\n",
              "      <td>23:30</td>\n",
              "      <td>5h 25m</td>\n",
              "      <td>1 stop</td>\n",
              "      <td>No info</td>\n",
              "      <td>6218</td>\n",
              "      <td>12</td>\n",
              "      <td>5</td>\n",
              "    </tr>\n",
              "    <tr>\n",
              "      <th>4</th>\n",
              "      <td>IndiGo</td>\n",
              "      <td>01/03/2019</td>\n",
              "      <td>Banglore</td>\n",
              "      <td>New Delhi</td>\n",
              "      <td>BLR → NAG → DEL</td>\n",
              "      <td>16:50</td>\n",
              "      <td>21:35</td>\n",
              "      <td>4h 45m</td>\n",
              "      <td>1 stop</td>\n",
              "      <td>No info</td>\n",
              "      <td>13302</td>\n",
              "      <td>1</td>\n",
              "      <td>3</td>\n",
              "    </tr>\n",
              "  </tbody>\n",
              "</table>\n",
              "</div>"
            ],
            "text/plain": [
              "       Airline Date_of_Journey    Source Destination                  Route  \\\n",
              "0       IndiGo      24/03/2019  Banglore   New Delhi              BLR → DEL   \n",
              "1    Air India       1/05/2019   Kolkata    Banglore  CCU → IXR → BBI → BLR   \n",
              "2  Jet Airways       9/06/2019     Delhi      Cochin  DEL → LKO → BOM → COK   \n",
              "3       IndiGo      12/05/2019   Kolkata    Banglore        CCU → NAG → BLR   \n",
              "4       IndiGo      01/03/2019  Banglore   New Delhi        BLR → NAG → DEL   \n",
              "\n",
              "  Dep_Time  Arrival_Time Duration Total_Stops Additional_Info  Price  \\\n",
              "0    22:20  01:10 22 Mar   2h 50m    non-stop         No info   3897   \n",
              "1    05:50         13:15   7h 25m     2 stops         No info   7662   \n",
              "2    09:25  04:25 10 Jun      19h     2 stops         No info  13882   \n",
              "3    18:05         23:30   5h 25m      1 stop         No info   6218   \n",
              "4    16:50         21:35   4h 45m      1 stop         No info  13302   \n",
              "\n",
              "   Journey_day  Journey_month  \n",
              "0           24              3  \n",
              "1            1              5  \n",
              "2            9              6  \n",
              "3           12              5  \n",
              "4            1              3  "
            ]
          },
          "metadata": {
            "tags": []
          },
          "execution_count": 139
        }
      ]
    },
    {
      "cell_type": "code",
      "metadata": {
        "id": "VB6O4oqCRdw_"
      },
      "source": [
        "train_data.drop(['Date_of_Journey'],axis=1,inplace=True)"
      ],
      "execution_count": null,
      "outputs": []
    },
    {
      "cell_type": "code",
      "metadata": {
        "id": "THJQMm3HZAO0"
      },
      "source": [
        "#Extracting hour\n",
        "train_data['Dep_hour']=pd.to_datetime(train_data['Dep_Time']).dt.hour\n",
        "\n",
        "#Extracting minute\n",
        "train_data['Dep_min']=pd.to_datetime(train_data['Dep_Time']).dt.minute\n",
        "\n",
        "train_data.drop(['Dep_Time'],axis=1,inplace=True)"
      ],
      "execution_count": null,
      "outputs": []
    },
    {
      "cell_type": "code",
      "metadata": {
        "colab": {
          "base_uri": "https://localhost:8080/",
          "height": 598
        },
        "id": "6AuKF_hvZ1mS",
        "outputId": "aaa99f69-e6f8-4d0a-ceee-9b15645e1de2"
      },
      "source": [
        "train_data.head()"
      ],
      "execution_count": null,
      "outputs": [
        {
          "output_type": "execute_result",
          "data": {
            "text/html": [
              "<div>\n",
              "<style scoped>\n",
              "    .dataframe tbody tr th:only-of-type {\n",
              "        vertical-align: middle;\n",
              "    }\n",
              "\n",
              "    .dataframe tbody tr th {\n",
              "        vertical-align: top;\n",
              "    }\n",
              "\n",
              "    .dataframe thead th {\n",
              "        text-align: right;\n",
              "    }\n",
              "</style>\n",
              "<table border=\"1\" class=\"dataframe\">\n",
              "  <thead>\n",
              "    <tr style=\"text-align: right;\">\n",
              "      <th></th>\n",
              "      <th>Airline</th>\n",
              "      <th>Source</th>\n",
              "      <th>Destination</th>\n",
              "      <th>Route</th>\n",
              "      <th>Arrival_Time</th>\n",
              "      <th>Duration</th>\n",
              "      <th>Total_Stops</th>\n",
              "      <th>Additional_Info</th>\n",
              "      <th>Price</th>\n",
              "      <th>Journey_day</th>\n",
              "      <th>Journey_month</th>\n",
              "      <th>Dep_hour</th>\n",
              "      <th>Dep_min</th>\n",
              "    </tr>\n",
              "  </thead>\n",
              "  <tbody>\n",
              "    <tr>\n",
              "      <th>0</th>\n",
              "      <td>IndiGo</td>\n",
              "      <td>Banglore</td>\n",
              "      <td>New Delhi</td>\n",
              "      <td>BLR → DEL</td>\n",
              "      <td>01:10 22 Mar</td>\n",
              "      <td>2h 50m</td>\n",
              "      <td>non-stop</td>\n",
              "      <td>No info</td>\n",
              "      <td>3897</td>\n",
              "      <td>24</td>\n",
              "      <td>3</td>\n",
              "      <td>22</td>\n",
              "      <td>20</td>\n",
              "    </tr>\n",
              "    <tr>\n",
              "      <th>1</th>\n",
              "      <td>Air India</td>\n",
              "      <td>Kolkata</td>\n",
              "      <td>Banglore</td>\n",
              "      <td>CCU → IXR → BBI → BLR</td>\n",
              "      <td>13:15</td>\n",
              "      <td>7h 25m</td>\n",
              "      <td>2 stops</td>\n",
              "      <td>No info</td>\n",
              "      <td>7662</td>\n",
              "      <td>1</td>\n",
              "      <td>5</td>\n",
              "      <td>5</td>\n",
              "      <td>50</td>\n",
              "    </tr>\n",
              "    <tr>\n",
              "      <th>2</th>\n",
              "      <td>Jet Airways</td>\n",
              "      <td>Delhi</td>\n",
              "      <td>Cochin</td>\n",
              "      <td>DEL → LKO → BOM → COK</td>\n",
              "      <td>04:25 10 Jun</td>\n",
              "      <td>19h</td>\n",
              "      <td>2 stops</td>\n",
              "      <td>No info</td>\n",
              "      <td>13882</td>\n",
              "      <td>9</td>\n",
              "      <td>6</td>\n",
              "      <td>9</td>\n",
              "      <td>25</td>\n",
              "    </tr>\n",
              "    <tr>\n",
              "      <th>3</th>\n",
              "      <td>IndiGo</td>\n",
              "      <td>Kolkata</td>\n",
              "      <td>Banglore</td>\n",
              "      <td>CCU → NAG → BLR</td>\n",
              "      <td>23:30</td>\n",
              "      <td>5h 25m</td>\n",
              "      <td>1 stop</td>\n",
              "      <td>No info</td>\n",
              "      <td>6218</td>\n",
              "      <td>12</td>\n",
              "      <td>5</td>\n",
              "      <td>18</td>\n",
              "      <td>5</td>\n",
              "    </tr>\n",
              "    <tr>\n",
              "      <th>4</th>\n",
              "      <td>IndiGo</td>\n",
              "      <td>Banglore</td>\n",
              "      <td>New Delhi</td>\n",
              "      <td>BLR → NAG → DEL</td>\n",
              "      <td>21:35</td>\n",
              "      <td>4h 45m</td>\n",
              "      <td>1 stop</td>\n",
              "      <td>No info</td>\n",
              "      <td>13302</td>\n",
              "      <td>1</td>\n",
              "      <td>3</td>\n",
              "      <td>16</td>\n",
              "      <td>50</td>\n",
              "    </tr>\n",
              "  </tbody>\n",
              "</table>\n",
              "</div>"
            ],
            "text/plain": [
              "       Airline    Source Destination                  Route  Arrival_Time  \\\n",
              "0       IndiGo  Banglore   New Delhi              BLR → DEL  01:10 22 Mar   \n",
              "1    Air India   Kolkata    Banglore  CCU → IXR → BBI → BLR         13:15   \n",
              "2  Jet Airways     Delhi      Cochin  DEL → LKO → BOM → COK  04:25 10 Jun   \n",
              "3       IndiGo   Kolkata    Banglore        CCU → NAG → BLR         23:30   \n",
              "4       IndiGo  Banglore   New Delhi        BLR → NAG → DEL         21:35   \n",
              "\n",
              "  Duration Total_Stops Additional_Info  Price  Journey_day  Journey_month  \\\n",
              "0   2h 50m    non-stop         No info   3897           24              3   \n",
              "1   7h 25m     2 stops         No info   7662            1              5   \n",
              "2      19h     2 stops         No info  13882            9              6   \n",
              "3   5h 25m      1 stop         No info   6218           12              5   \n",
              "4   4h 45m      1 stop         No info  13302            1              3   \n",
              "\n",
              "   Dep_hour  Dep_min  \n",
              "0        22       20  \n",
              "1         5       50  \n",
              "2         9       25  \n",
              "3        18        5  \n",
              "4        16       50  "
            ]
          },
          "metadata": {
            "tags": []
          },
          "execution_count": 142
        }
      ]
    },
    {
      "cell_type": "code",
      "metadata": {
        "id": "MvYiEKU3Dn0D"
      },
      "source": [
        "# Extracting Hours\n",
        "train_data[\"Arrival_hour\"] = pd.to_datetime(train_data.Arrival_Time).dt.hour\n",
        "\n",
        "# Extracting Minutes\n",
        "train_data[\"Arrival_min\"] = pd.to_datetime(train_data.Arrival_Time).dt.minute\n",
        "\n",
        "# Now we can drop Arrival_Time as it is of no use\n",
        "train_data.drop([\"Arrival_Time\"], axis = 1, inplace = True)"
      ],
      "execution_count": null,
      "outputs": []
    },
    {
      "cell_type": "code",
      "metadata": {
        "colab": {
          "base_uri": "https://localhost:8080/",
          "height": 598
        },
        "id": "DXNaiWCIDpQY",
        "outputId": "a51a5586-42dd-4cd2-b55d-d386ed448da7"
      },
      "source": [
        "train_data.head()"
      ],
      "execution_count": null,
      "outputs": [
        {
          "output_type": "execute_result",
          "data": {
            "text/html": [
              "<div>\n",
              "<style scoped>\n",
              "    .dataframe tbody tr th:only-of-type {\n",
              "        vertical-align: middle;\n",
              "    }\n",
              "\n",
              "    .dataframe tbody tr th {\n",
              "        vertical-align: top;\n",
              "    }\n",
              "\n",
              "    .dataframe thead th {\n",
              "        text-align: right;\n",
              "    }\n",
              "</style>\n",
              "<table border=\"1\" class=\"dataframe\">\n",
              "  <thead>\n",
              "    <tr style=\"text-align: right;\">\n",
              "      <th></th>\n",
              "      <th>Airline</th>\n",
              "      <th>Source</th>\n",
              "      <th>Destination</th>\n",
              "      <th>Route</th>\n",
              "      <th>Duration</th>\n",
              "      <th>Total_Stops</th>\n",
              "      <th>Additional_Info</th>\n",
              "      <th>Price</th>\n",
              "      <th>Journey_day</th>\n",
              "      <th>Journey_month</th>\n",
              "      <th>Dep_hour</th>\n",
              "      <th>Dep_min</th>\n",
              "      <th>Arrival_hour</th>\n",
              "      <th>Arrival_min</th>\n",
              "    </tr>\n",
              "  </thead>\n",
              "  <tbody>\n",
              "    <tr>\n",
              "      <th>0</th>\n",
              "      <td>IndiGo</td>\n",
              "      <td>Banglore</td>\n",
              "      <td>New Delhi</td>\n",
              "      <td>BLR → DEL</td>\n",
              "      <td>2h 50m</td>\n",
              "      <td>non-stop</td>\n",
              "      <td>No info</td>\n",
              "      <td>3897</td>\n",
              "      <td>24</td>\n",
              "      <td>3</td>\n",
              "      <td>22</td>\n",
              "      <td>20</td>\n",
              "      <td>1</td>\n",
              "      <td>10</td>\n",
              "    </tr>\n",
              "    <tr>\n",
              "      <th>1</th>\n",
              "      <td>Air India</td>\n",
              "      <td>Kolkata</td>\n",
              "      <td>Banglore</td>\n",
              "      <td>CCU → IXR → BBI → BLR</td>\n",
              "      <td>7h 25m</td>\n",
              "      <td>2 stops</td>\n",
              "      <td>No info</td>\n",
              "      <td>7662</td>\n",
              "      <td>1</td>\n",
              "      <td>5</td>\n",
              "      <td>5</td>\n",
              "      <td>50</td>\n",
              "      <td>13</td>\n",
              "      <td>15</td>\n",
              "    </tr>\n",
              "    <tr>\n",
              "      <th>2</th>\n",
              "      <td>Jet Airways</td>\n",
              "      <td>Delhi</td>\n",
              "      <td>Cochin</td>\n",
              "      <td>DEL → LKO → BOM → COK</td>\n",
              "      <td>19h</td>\n",
              "      <td>2 stops</td>\n",
              "      <td>No info</td>\n",
              "      <td>13882</td>\n",
              "      <td>9</td>\n",
              "      <td>6</td>\n",
              "      <td>9</td>\n",
              "      <td>25</td>\n",
              "      <td>4</td>\n",
              "      <td>25</td>\n",
              "    </tr>\n",
              "    <tr>\n",
              "      <th>3</th>\n",
              "      <td>IndiGo</td>\n",
              "      <td>Kolkata</td>\n",
              "      <td>Banglore</td>\n",
              "      <td>CCU → NAG → BLR</td>\n",
              "      <td>5h 25m</td>\n",
              "      <td>1 stop</td>\n",
              "      <td>No info</td>\n",
              "      <td>6218</td>\n",
              "      <td>12</td>\n",
              "      <td>5</td>\n",
              "      <td>18</td>\n",
              "      <td>5</td>\n",
              "      <td>23</td>\n",
              "      <td>30</td>\n",
              "    </tr>\n",
              "    <tr>\n",
              "      <th>4</th>\n",
              "      <td>IndiGo</td>\n",
              "      <td>Banglore</td>\n",
              "      <td>New Delhi</td>\n",
              "      <td>BLR → NAG → DEL</td>\n",
              "      <td>4h 45m</td>\n",
              "      <td>1 stop</td>\n",
              "      <td>No info</td>\n",
              "      <td>13302</td>\n",
              "      <td>1</td>\n",
              "      <td>3</td>\n",
              "      <td>16</td>\n",
              "      <td>50</td>\n",
              "      <td>21</td>\n",
              "      <td>35</td>\n",
              "    </tr>\n",
              "  </tbody>\n",
              "</table>\n",
              "</div>"
            ],
            "text/plain": [
              "       Airline    Source Destination                  Route Duration  \\\n",
              "0       IndiGo  Banglore   New Delhi              BLR → DEL   2h 50m   \n",
              "1    Air India   Kolkata    Banglore  CCU → IXR → BBI → BLR   7h 25m   \n",
              "2  Jet Airways     Delhi      Cochin  DEL → LKO → BOM → COK      19h   \n",
              "3       IndiGo   Kolkata    Banglore        CCU → NAG → BLR   5h 25m   \n",
              "4       IndiGo  Banglore   New Delhi        BLR → NAG → DEL   4h 45m   \n",
              "\n",
              "  Total_Stops Additional_Info  Price  Journey_day  Journey_month  Dep_hour  \\\n",
              "0    non-stop         No info   3897           24              3        22   \n",
              "1     2 stops         No info   7662            1              5         5   \n",
              "2     2 stops         No info  13882            9              6         9   \n",
              "3      1 stop         No info   6218           12              5        18   \n",
              "4      1 stop         No info  13302            1              3        16   \n",
              "\n",
              "   Dep_min  Arrival_hour  Arrival_min  \n",
              "0       20             1           10  \n",
              "1       50            13           15  \n",
              "2       25             4           25  \n",
              "3        5            23           30  \n",
              "4       50            21           35  "
            ]
          },
          "metadata": {
            "tags": []
          },
          "execution_count": 144
        }
      ]
    },
    {
      "cell_type": "code",
      "metadata": {
        "id": "74in3wXgZugj"
      },
      "source": [
        "# Assigning and converting Duration column into list\n",
        "duration = list(train_data[\"Duration\"])\n",
        "\n",
        "for i in range(len(duration)):\n",
        "    if len(duration[i].split()) != 2:    # Check if duration contains only hour or mins\n",
        "        if \"h\" in duration[i]:\n",
        "            duration[i] = duration[i].strip() + \" 0m\"   # Adds 0 minute\n",
        "        else:\n",
        "            duration[i] = \"0h \" + duration[i]           # Adds 0 hour\n",
        "\n",
        "duration_hours = []\n",
        "duration_mins = []\n",
        "for i in range(len(duration)):\n",
        "    duration_hours.append(int(duration[i].split(sep = \"h\")[0]))    # Extract hours from duration\n",
        "    duration_mins.append(int(duration[i].split(sep = \"m\")[0].split()[-1]))   # Extracts only minutes from duration\n",
        "\n"
      ],
      "execution_count": null,
      "outputs": []
    },
    {
      "cell_type": "code",
      "metadata": {
        "id": "MhGsc8mzaPlz"
      },
      "source": [
        "train_data['Duration_hours']=duration_hours\n",
        "train_data['Duration_mins']=duration_mins"
      ],
      "execution_count": null,
      "outputs": []
    },
    {
      "cell_type": "code",
      "metadata": {
        "colab": {
          "base_uri": "https://localhost:8080/",
          "height": 598
        },
        "id": "720PrphhaP90",
        "outputId": "c2fc8a93-2b62-4c80-90fe-2e2164c270af"
      },
      "source": [
        "train_data.head()"
      ],
      "execution_count": null,
      "outputs": [
        {
          "output_type": "execute_result",
          "data": {
            "text/html": [
              "<div>\n",
              "<style scoped>\n",
              "    .dataframe tbody tr th:only-of-type {\n",
              "        vertical-align: middle;\n",
              "    }\n",
              "\n",
              "    .dataframe tbody tr th {\n",
              "        vertical-align: top;\n",
              "    }\n",
              "\n",
              "    .dataframe thead th {\n",
              "        text-align: right;\n",
              "    }\n",
              "</style>\n",
              "<table border=\"1\" class=\"dataframe\">\n",
              "  <thead>\n",
              "    <tr style=\"text-align: right;\">\n",
              "      <th></th>\n",
              "      <th>Airline</th>\n",
              "      <th>Source</th>\n",
              "      <th>Destination</th>\n",
              "      <th>Route</th>\n",
              "      <th>Duration</th>\n",
              "      <th>Total_Stops</th>\n",
              "      <th>Additional_Info</th>\n",
              "      <th>Price</th>\n",
              "      <th>Journey_day</th>\n",
              "      <th>Journey_month</th>\n",
              "      <th>Dep_hour</th>\n",
              "      <th>Dep_min</th>\n",
              "      <th>Arrival_hour</th>\n",
              "      <th>Arrival_min</th>\n",
              "      <th>Duration_hours</th>\n",
              "      <th>Duration_mins</th>\n",
              "    </tr>\n",
              "  </thead>\n",
              "  <tbody>\n",
              "    <tr>\n",
              "      <th>0</th>\n",
              "      <td>IndiGo</td>\n",
              "      <td>Banglore</td>\n",
              "      <td>New Delhi</td>\n",
              "      <td>BLR → DEL</td>\n",
              "      <td>2h 50m</td>\n",
              "      <td>non-stop</td>\n",
              "      <td>No info</td>\n",
              "      <td>3897</td>\n",
              "      <td>24</td>\n",
              "      <td>3</td>\n",
              "      <td>22</td>\n",
              "      <td>20</td>\n",
              "      <td>1</td>\n",
              "      <td>10</td>\n",
              "      <td>2</td>\n",
              "      <td>50</td>\n",
              "    </tr>\n",
              "    <tr>\n",
              "      <th>1</th>\n",
              "      <td>Air India</td>\n",
              "      <td>Kolkata</td>\n",
              "      <td>Banglore</td>\n",
              "      <td>CCU → IXR → BBI → BLR</td>\n",
              "      <td>7h 25m</td>\n",
              "      <td>2 stops</td>\n",
              "      <td>No info</td>\n",
              "      <td>7662</td>\n",
              "      <td>1</td>\n",
              "      <td>5</td>\n",
              "      <td>5</td>\n",
              "      <td>50</td>\n",
              "      <td>13</td>\n",
              "      <td>15</td>\n",
              "      <td>7</td>\n",
              "      <td>25</td>\n",
              "    </tr>\n",
              "    <tr>\n",
              "      <th>2</th>\n",
              "      <td>Jet Airways</td>\n",
              "      <td>Delhi</td>\n",
              "      <td>Cochin</td>\n",
              "      <td>DEL → LKO → BOM → COK</td>\n",
              "      <td>19h</td>\n",
              "      <td>2 stops</td>\n",
              "      <td>No info</td>\n",
              "      <td>13882</td>\n",
              "      <td>9</td>\n",
              "      <td>6</td>\n",
              "      <td>9</td>\n",
              "      <td>25</td>\n",
              "      <td>4</td>\n",
              "      <td>25</td>\n",
              "      <td>19</td>\n",
              "      <td>0</td>\n",
              "    </tr>\n",
              "    <tr>\n",
              "      <th>3</th>\n",
              "      <td>IndiGo</td>\n",
              "      <td>Kolkata</td>\n",
              "      <td>Banglore</td>\n",
              "      <td>CCU → NAG → BLR</td>\n",
              "      <td>5h 25m</td>\n",
              "      <td>1 stop</td>\n",
              "      <td>No info</td>\n",
              "      <td>6218</td>\n",
              "      <td>12</td>\n",
              "      <td>5</td>\n",
              "      <td>18</td>\n",
              "      <td>5</td>\n",
              "      <td>23</td>\n",
              "      <td>30</td>\n",
              "      <td>5</td>\n",
              "      <td>25</td>\n",
              "    </tr>\n",
              "    <tr>\n",
              "      <th>4</th>\n",
              "      <td>IndiGo</td>\n",
              "      <td>Banglore</td>\n",
              "      <td>New Delhi</td>\n",
              "      <td>BLR → NAG → DEL</td>\n",
              "      <td>4h 45m</td>\n",
              "      <td>1 stop</td>\n",
              "      <td>No info</td>\n",
              "      <td>13302</td>\n",
              "      <td>1</td>\n",
              "      <td>3</td>\n",
              "      <td>16</td>\n",
              "      <td>50</td>\n",
              "      <td>21</td>\n",
              "      <td>35</td>\n",
              "      <td>4</td>\n",
              "      <td>45</td>\n",
              "    </tr>\n",
              "  </tbody>\n",
              "</table>\n",
              "</div>"
            ],
            "text/plain": [
              "       Airline    Source Destination                  Route Duration  \\\n",
              "0       IndiGo  Banglore   New Delhi              BLR → DEL   2h 50m   \n",
              "1    Air India   Kolkata    Banglore  CCU → IXR → BBI → BLR   7h 25m   \n",
              "2  Jet Airways     Delhi      Cochin  DEL → LKO → BOM → COK      19h   \n",
              "3       IndiGo   Kolkata    Banglore        CCU → NAG → BLR   5h 25m   \n",
              "4       IndiGo  Banglore   New Delhi        BLR → NAG → DEL   4h 45m   \n",
              "\n",
              "  Total_Stops Additional_Info  Price  Journey_day  Journey_month  Dep_hour  \\\n",
              "0    non-stop         No info   3897           24              3        22   \n",
              "1     2 stops         No info   7662            1              5         5   \n",
              "2     2 stops         No info  13882            9              6         9   \n",
              "3      1 stop         No info   6218           12              5        18   \n",
              "4      1 stop         No info  13302            1              3        16   \n",
              "\n",
              "   Dep_min  Arrival_hour  Arrival_min  Duration_hours  Duration_mins  \n",
              "0       20             1           10               2             50  \n",
              "1       50            13           15               7             25  \n",
              "2       25             4           25              19              0  \n",
              "3        5            23           30               5             25  \n",
              "4       50            21           35               4             45  "
            ]
          },
          "metadata": {
            "tags": []
          },
          "execution_count": 147
        }
      ]
    },
    {
      "cell_type": "code",
      "metadata": {
        "id": "bFtx6-o3nGwN"
      },
      "source": [
        "train_data.drop(\"Duration\",axis=1,inplace=True)"
      ],
      "execution_count": null,
      "outputs": []
    },
    {
      "cell_type": "code",
      "metadata": {
        "colab": {
          "base_uri": "https://localhost:8080/",
          "height": 598
        },
        "id": "AWBLLF5JnZ7Z",
        "outputId": "b95a282b-233d-493c-de92-d98f6ac683a7"
      },
      "source": [
        "train_data.head()"
      ],
      "execution_count": null,
      "outputs": [
        {
          "output_type": "execute_result",
          "data": {
            "text/html": [
              "<div>\n",
              "<style scoped>\n",
              "    .dataframe tbody tr th:only-of-type {\n",
              "        vertical-align: middle;\n",
              "    }\n",
              "\n",
              "    .dataframe tbody tr th {\n",
              "        vertical-align: top;\n",
              "    }\n",
              "\n",
              "    .dataframe thead th {\n",
              "        text-align: right;\n",
              "    }\n",
              "</style>\n",
              "<table border=\"1\" class=\"dataframe\">\n",
              "  <thead>\n",
              "    <tr style=\"text-align: right;\">\n",
              "      <th></th>\n",
              "      <th>Airline</th>\n",
              "      <th>Source</th>\n",
              "      <th>Destination</th>\n",
              "      <th>Route</th>\n",
              "      <th>Total_Stops</th>\n",
              "      <th>Additional_Info</th>\n",
              "      <th>Price</th>\n",
              "      <th>Journey_day</th>\n",
              "      <th>Journey_month</th>\n",
              "      <th>Dep_hour</th>\n",
              "      <th>Dep_min</th>\n",
              "      <th>Arrival_hour</th>\n",
              "      <th>Arrival_min</th>\n",
              "      <th>Duration_hours</th>\n",
              "      <th>Duration_mins</th>\n",
              "    </tr>\n",
              "  </thead>\n",
              "  <tbody>\n",
              "    <tr>\n",
              "      <th>0</th>\n",
              "      <td>IndiGo</td>\n",
              "      <td>Banglore</td>\n",
              "      <td>New Delhi</td>\n",
              "      <td>BLR → DEL</td>\n",
              "      <td>non-stop</td>\n",
              "      <td>No info</td>\n",
              "      <td>3897</td>\n",
              "      <td>24</td>\n",
              "      <td>3</td>\n",
              "      <td>22</td>\n",
              "      <td>20</td>\n",
              "      <td>1</td>\n",
              "      <td>10</td>\n",
              "      <td>2</td>\n",
              "      <td>50</td>\n",
              "    </tr>\n",
              "    <tr>\n",
              "      <th>1</th>\n",
              "      <td>Air India</td>\n",
              "      <td>Kolkata</td>\n",
              "      <td>Banglore</td>\n",
              "      <td>CCU → IXR → BBI → BLR</td>\n",
              "      <td>2 stops</td>\n",
              "      <td>No info</td>\n",
              "      <td>7662</td>\n",
              "      <td>1</td>\n",
              "      <td>5</td>\n",
              "      <td>5</td>\n",
              "      <td>50</td>\n",
              "      <td>13</td>\n",
              "      <td>15</td>\n",
              "      <td>7</td>\n",
              "      <td>25</td>\n",
              "    </tr>\n",
              "    <tr>\n",
              "      <th>2</th>\n",
              "      <td>Jet Airways</td>\n",
              "      <td>Delhi</td>\n",
              "      <td>Cochin</td>\n",
              "      <td>DEL → LKO → BOM → COK</td>\n",
              "      <td>2 stops</td>\n",
              "      <td>No info</td>\n",
              "      <td>13882</td>\n",
              "      <td>9</td>\n",
              "      <td>6</td>\n",
              "      <td>9</td>\n",
              "      <td>25</td>\n",
              "      <td>4</td>\n",
              "      <td>25</td>\n",
              "      <td>19</td>\n",
              "      <td>0</td>\n",
              "    </tr>\n",
              "    <tr>\n",
              "      <th>3</th>\n",
              "      <td>IndiGo</td>\n",
              "      <td>Kolkata</td>\n",
              "      <td>Banglore</td>\n",
              "      <td>CCU → NAG → BLR</td>\n",
              "      <td>1 stop</td>\n",
              "      <td>No info</td>\n",
              "      <td>6218</td>\n",
              "      <td>12</td>\n",
              "      <td>5</td>\n",
              "      <td>18</td>\n",
              "      <td>5</td>\n",
              "      <td>23</td>\n",
              "      <td>30</td>\n",
              "      <td>5</td>\n",
              "      <td>25</td>\n",
              "    </tr>\n",
              "    <tr>\n",
              "      <th>4</th>\n",
              "      <td>IndiGo</td>\n",
              "      <td>Banglore</td>\n",
              "      <td>New Delhi</td>\n",
              "      <td>BLR → NAG → DEL</td>\n",
              "      <td>1 stop</td>\n",
              "      <td>No info</td>\n",
              "      <td>13302</td>\n",
              "      <td>1</td>\n",
              "      <td>3</td>\n",
              "      <td>16</td>\n",
              "      <td>50</td>\n",
              "      <td>21</td>\n",
              "      <td>35</td>\n",
              "      <td>4</td>\n",
              "      <td>45</td>\n",
              "    </tr>\n",
              "  </tbody>\n",
              "</table>\n",
              "</div>"
            ],
            "text/plain": [
              "       Airline    Source Destination                  Route Total_Stops  \\\n",
              "0       IndiGo  Banglore   New Delhi              BLR → DEL    non-stop   \n",
              "1    Air India   Kolkata    Banglore  CCU → IXR → BBI → BLR     2 stops   \n",
              "2  Jet Airways     Delhi      Cochin  DEL → LKO → BOM → COK     2 stops   \n",
              "3       IndiGo   Kolkata    Banglore        CCU → NAG → BLR      1 stop   \n",
              "4       IndiGo  Banglore   New Delhi        BLR → NAG → DEL      1 stop   \n",
              "\n",
              "  Additional_Info  Price  Journey_day  Journey_month  Dep_hour  Dep_min  \\\n",
              "0         No info   3897           24              3        22       20   \n",
              "1         No info   7662            1              5         5       50   \n",
              "2         No info  13882            9              6         9       25   \n",
              "3         No info   6218           12              5        18        5   \n",
              "4         No info  13302            1              3        16       50   \n",
              "\n",
              "   Arrival_hour  Arrival_min  Duration_hours  Duration_mins  \n",
              "0             1           10               2             50  \n",
              "1            13           15               7             25  \n",
              "2             4           25              19              0  \n",
              "3            23           30               5             25  \n",
              "4            21           35               4             45  "
            ]
          },
          "metadata": {
            "tags": []
          },
          "execution_count": 149
        }
      ]
    },
    {
      "cell_type": "markdown",
      "metadata": {
        "id": "zIDo8iOBoRh7"
      },
      "source": [
        "**Handling Categorical Data**"
      ]
    },
    {
      "cell_type": "code",
      "metadata": {
        "colab": {
          "base_uri": "https://localhost:8080/"
        },
        "id": "WKJhhDeYnv-W",
        "outputId": "0d9613f5-c292-4531-fce8-8bd7f5f7dd70"
      },
      "source": [
        "train_data['Airline'].value_counts()"
      ],
      "execution_count": null,
      "outputs": [
        {
          "output_type": "execute_result",
          "data": {
            "text/plain": [
              "Jet Airways                          3849\n",
              "IndiGo                               2053\n",
              "Air India                            1751\n",
              "Multiple carriers                    1196\n",
              "SpiceJet                              818\n",
              "Vistara                               479\n",
              "Air Asia                              319\n",
              "GoAir                                 194\n",
              "Multiple carriers Premium economy      13\n",
              "Jet Airways Business                    6\n",
              "Vistara Premium economy                 3\n",
              "Trujet                                  1\n",
              "Name: Airline, dtype: int64"
            ]
          },
          "metadata": {
            "tags": []
          },
          "execution_count": 150
        }
      ]
    },
    {
      "cell_type": "code",
      "metadata": {
        "colab": {
          "base_uri": "https://localhost:8080/",
          "height": 334
        },
        "id": "1zpkOjGWn6a8",
        "outputId": "9f1a2cc4-a4fe-47e5-a6ea-ae6462c1e3fe"
      },
      "source": [
        "\n",
        "#Jet Airways  has highest Price\n",
        "sns.catplot(y = \"Price\", x = \"Airline\", data = train_data.sort_values(\"Price\", ascending = False), kind=\"boxen\", height = 6, aspect = 3)\n",
        "plt.show()\n",
        "\n",
        "\n",
        "\n"
      ],
      "execution_count": null,
      "outputs": [
        {
          "output_type": "display_data",
          "data": {
            "image/png": "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\n",
            "text/plain": [
              "<Figure size 1296x432 with 1 Axes>"
            ]
          },
          "metadata": {
            "tags": []
          }
        }
      ]
    },
    {
      "cell_type": "code",
      "metadata": {
        "colab": {
          "base_uri": "https://localhost:8080/",
          "height": 238
        },
        "id": "mmqsWr5Bn6x7",
        "outputId": "8d4247ad-09ce-47bf-9012-87ee6b280e22"
      },
      "source": [
        "Airline=train_data['Airline']\n",
        "\n",
        "Airline=pd.get_dummies(Airline,drop_first=True)\n",
        "\n",
        "Airline.head()\n"
      ],
      "execution_count": null,
      "outputs": [
        {
          "output_type": "execute_result",
          "data": {
            "text/html": [
              "<div>\n",
              "<style scoped>\n",
              "    .dataframe tbody tr th:only-of-type {\n",
              "        vertical-align: middle;\n",
              "    }\n",
              "\n",
              "    .dataframe tbody tr th {\n",
              "        vertical-align: top;\n",
              "    }\n",
              "\n",
              "    .dataframe thead th {\n",
              "        text-align: right;\n",
              "    }\n",
              "</style>\n",
              "<table border=\"1\" class=\"dataframe\">\n",
              "  <thead>\n",
              "    <tr style=\"text-align: right;\">\n",
              "      <th></th>\n",
              "      <th>Air India</th>\n",
              "      <th>GoAir</th>\n",
              "      <th>IndiGo</th>\n",
              "      <th>Jet Airways</th>\n",
              "      <th>Jet Airways Business</th>\n",
              "      <th>Multiple carriers</th>\n",
              "      <th>Multiple carriers Premium economy</th>\n",
              "      <th>SpiceJet</th>\n",
              "      <th>Trujet</th>\n",
              "      <th>Vistara</th>\n",
              "      <th>Vistara Premium economy</th>\n",
              "    </tr>\n",
              "  </thead>\n",
              "  <tbody>\n",
              "    <tr>\n",
              "      <th>0</th>\n",
              "      <td>0</td>\n",
              "      <td>0</td>\n",
              "      <td>1</td>\n",
              "      <td>0</td>\n",
              "      <td>0</td>\n",
              "      <td>0</td>\n",
              "      <td>0</td>\n",
              "      <td>0</td>\n",
              "      <td>0</td>\n",
              "      <td>0</td>\n",
              "      <td>0</td>\n",
              "    </tr>\n",
              "    <tr>\n",
              "      <th>1</th>\n",
              "      <td>1</td>\n",
              "      <td>0</td>\n",
              "      <td>0</td>\n",
              "      <td>0</td>\n",
              "      <td>0</td>\n",
              "      <td>0</td>\n",
              "      <td>0</td>\n",
              "      <td>0</td>\n",
              "      <td>0</td>\n",
              "      <td>0</td>\n",
              "      <td>0</td>\n",
              "    </tr>\n",
              "    <tr>\n",
              "      <th>2</th>\n",
              "      <td>0</td>\n",
              "      <td>0</td>\n",
              "      <td>0</td>\n",
              "      <td>1</td>\n",
              "      <td>0</td>\n",
              "      <td>0</td>\n",
              "      <td>0</td>\n",
              "      <td>0</td>\n",
              "      <td>0</td>\n",
              "      <td>0</td>\n",
              "      <td>0</td>\n",
              "    </tr>\n",
              "    <tr>\n",
              "      <th>3</th>\n",
              "      <td>0</td>\n",
              "      <td>0</td>\n",
              "      <td>1</td>\n",
              "      <td>0</td>\n",
              "      <td>0</td>\n",
              "      <td>0</td>\n",
              "      <td>0</td>\n",
              "      <td>0</td>\n",
              "      <td>0</td>\n",
              "      <td>0</td>\n",
              "      <td>0</td>\n",
              "    </tr>\n",
              "    <tr>\n",
              "      <th>4</th>\n",
              "      <td>0</td>\n",
              "      <td>0</td>\n",
              "      <td>1</td>\n",
              "      <td>0</td>\n",
              "      <td>0</td>\n",
              "      <td>0</td>\n",
              "      <td>0</td>\n",
              "      <td>0</td>\n",
              "      <td>0</td>\n",
              "      <td>0</td>\n",
              "      <td>0</td>\n",
              "    </tr>\n",
              "  </tbody>\n",
              "</table>\n",
              "</div>"
            ],
            "text/plain": [
              "   Air India  GoAir  IndiGo  Jet Airways  Jet Airways Business  \\\n",
              "0          0      0       1            0                     0   \n",
              "1          1      0       0            0                     0   \n",
              "2          0      0       0            1                     0   \n",
              "3          0      0       1            0                     0   \n",
              "4          0      0       1            0                     0   \n",
              "\n",
              "   Multiple carriers  Multiple carriers Premium economy  SpiceJet  Trujet  \\\n",
              "0                  0                                  0         0       0   \n",
              "1                  0                                  0         0       0   \n",
              "2                  0                                  0         0       0   \n",
              "3                  0                                  0         0       0   \n",
              "4                  0                                  0         0       0   \n",
              "\n",
              "   Vistara  Vistara Premium economy  \n",
              "0        0                        0  \n",
              "1        0                        0  \n",
              "2        0                        0  \n",
              "3        0                        0  \n",
              "4        0                        0  "
            ]
          },
          "metadata": {
            "tags": []
          },
          "execution_count": 152
        }
      ]
    },
    {
      "cell_type": "code",
      "metadata": {
        "colab": {
          "base_uri": "https://localhost:8080/"
        },
        "id": "JPptgr4QrpTj",
        "outputId": "97769ad0-f53f-43d3-fdfa-6b70fb6b0f3f"
      },
      "source": [
        "train_data['Source'].value_counts()"
      ],
      "execution_count": null,
      "outputs": [
        {
          "output_type": "execute_result",
          "data": {
            "text/plain": [
              "Delhi       4536\n",
              "Kolkata     2871\n",
              "Banglore    2197\n",
              "Mumbai       697\n",
              "Chennai      381\n",
              "Name: Source, dtype: int64"
            ]
          },
          "metadata": {
            "tags": []
          },
          "execution_count": 153
        }
      ]
    },
    {
      "cell_type": "code",
      "metadata": {
        "colab": {
          "base_uri": "https://localhost:8080/",
          "height": 334
        },
        "id": "Cy3W84IgtW3f",
        "outputId": "b9c22818-ac34-4910-b767-6d12e41eea5e"
      },
      "source": [
        "sns.catplot(y = \"Price\", x = \"Source\", data = train_data.sort_values(\"Price\", ascending = False), kind=\"boxen\", height = 6, aspect = 3)\n",
        "plt.show()"
      ],
      "execution_count": null,
      "outputs": [
        {
          "output_type": "display_data",
          "data": {
            "image/png": "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\n",
            "text/plain": [
              "<Figure size 1296x432 with 1 Axes>"
            ]
          },
          "metadata": {
            "tags": []
          }
        }
      ]
    },
    {
      "cell_type": "code",
      "metadata": {
        "colab": {
          "base_uri": "https://localhost:8080/",
          "height": 204
        },
        "id": "Bysw-LVKu6UZ",
        "outputId": "ab35c0ab-3f73-458d-d878-d76b11031592"
      },
      "source": [
        "Source=train_data['Source']\n",
        "\n",
        "Source=pd.get_dummies(Source,drop_first=True)\n",
        "\n",
        "Source.head()"
      ],
      "execution_count": null,
      "outputs": [
        {
          "output_type": "execute_result",
          "data": {
            "text/html": [
              "<div>\n",
              "<style scoped>\n",
              "    .dataframe tbody tr th:only-of-type {\n",
              "        vertical-align: middle;\n",
              "    }\n",
              "\n",
              "    .dataframe tbody tr th {\n",
              "        vertical-align: top;\n",
              "    }\n",
              "\n",
              "    .dataframe thead th {\n",
              "        text-align: right;\n",
              "    }\n",
              "</style>\n",
              "<table border=\"1\" class=\"dataframe\">\n",
              "  <thead>\n",
              "    <tr style=\"text-align: right;\">\n",
              "      <th></th>\n",
              "      <th>Chennai</th>\n",
              "      <th>Delhi</th>\n",
              "      <th>Kolkata</th>\n",
              "      <th>Mumbai</th>\n",
              "    </tr>\n",
              "  </thead>\n",
              "  <tbody>\n",
              "    <tr>\n",
              "      <th>0</th>\n",
              "      <td>0</td>\n",
              "      <td>0</td>\n",
              "      <td>0</td>\n",
              "      <td>0</td>\n",
              "    </tr>\n",
              "    <tr>\n",
              "      <th>1</th>\n",
              "      <td>0</td>\n",
              "      <td>0</td>\n",
              "      <td>1</td>\n",
              "      <td>0</td>\n",
              "    </tr>\n",
              "    <tr>\n",
              "      <th>2</th>\n",
              "      <td>0</td>\n",
              "      <td>1</td>\n",
              "      <td>0</td>\n",
              "      <td>0</td>\n",
              "    </tr>\n",
              "    <tr>\n",
              "      <th>3</th>\n",
              "      <td>0</td>\n",
              "      <td>0</td>\n",
              "      <td>1</td>\n",
              "      <td>0</td>\n",
              "    </tr>\n",
              "    <tr>\n",
              "      <th>4</th>\n",
              "      <td>0</td>\n",
              "      <td>0</td>\n",
              "      <td>0</td>\n",
              "      <td>0</td>\n",
              "    </tr>\n",
              "  </tbody>\n",
              "</table>\n",
              "</div>"
            ],
            "text/plain": [
              "   Chennai  Delhi  Kolkata  Mumbai\n",
              "0        0      0        0       0\n",
              "1        0      0        1       0\n",
              "2        0      1        0       0\n",
              "3        0      0        1       0\n",
              "4        0      0        0       0"
            ]
          },
          "metadata": {
            "tags": []
          },
          "execution_count": 155
        }
      ]
    },
    {
      "cell_type": "code",
      "metadata": {
        "colab": {
          "base_uri": "https://localhost:8080/"
        },
        "id": "YLj6GCIgu7xl",
        "outputId": "51180619-07d8-4ac0-9f76-da6909598f73"
      },
      "source": [
        "train_data['Destination'].value_counts()"
      ],
      "execution_count": null,
      "outputs": [
        {
          "output_type": "execute_result",
          "data": {
            "text/plain": [
              "Cochin       4536\n",
              "Banglore     2871\n",
              "Delhi        1265\n",
              "New Delhi     932\n",
              "Hyderabad     697\n",
              "Kolkata       381\n",
              "Name: Destination, dtype: int64"
            ]
          },
          "metadata": {
            "tags": []
          },
          "execution_count": 156
        }
      ]
    },
    {
      "cell_type": "code",
      "metadata": {
        "colab": {
          "base_uri": "https://localhost:8080/",
          "height": 204
        },
        "id": "HV_PCIlXvBD9",
        "outputId": "3e68228d-11fa-4703-b49c-4273e123effc"
      },
      "source": [
        "destination=train_data['Destination']\n",
        "\n",
        "destination=pd.get_dummies(destination,drop_first=True)\n",
        "\n",
        "destination.head()"
      ],
      "execution_count": null,
      "outputs": [
        {
          "output_type": "execute_result",
          "data": {
            "text/html": [
              "<div>\n",
              "<style scoped>\n",
              "    .dataframe tbody tr th:only-of-type {\n",
              "        vertical-align: middle;\n",
              "    }\n",
              "\n",
              "    .dataframe tbody tr th {\n",
              "        vertical-align: top;\n",
              "    }\n",
              "\n",
              "    .dataframe thead th {\n",
              "        text-align: right;\n",
              "    }\n",
              "</style>\n",
              "<table border=\"1\" class=\"dataframe\">\n",
              "  <thead>\n",
              "    <tr style=\"text-align: right;\">\n",
              "      <th></th>\n",
              "      <th>Cochin</th>\n",
              "      <th>Delhi</th>\n",
              "      <th>Hyderabad</th>\n",
              "      <th>Kolkata</th>\n",
              "      <th>New Delhi</th>\n",
              "    </tr>\n",
              "  </thead>\n",
              "  <tbody>\n",
              "    <tr>\n",
              "      <th>0</th>\n",
              "      <td>0</td>\n",
              "      <td>0</td>\n",
              "      <td>0</td>\n",
              "      <td>0</td>\n",
              "      <td>1</td>\n",
              "    </tr>\n",
              "    <tr>\n",
              "      <th>1</th>\n",
              "      <td>0</td>\n",
              "      <td>0</td>\n",
              "      <td>0</td>\n",
              "      <td>0</td>\n",
              "      <td>0</td>\n",
              "    </tr>\n",
              "    <tr>\n",
              "      <th>2</th>\n",
              "      <td>1</td>\n",
              "      <td>0</td>\n",
              "      <td>0</td>\n",
              "      <td>0</td>\n",
              "      <td>0</td>\n",
              "    </tr>\n",
              "    <tr>\n",
              "      <th>3</th>\n",
              "      <td>0</td>\n",
              "      <td>0</td>\n",
              "      <td>0</td>\n",
              "      <td>0</td>\n",
              "      <td>0</td>\n",
              "    </tr>\n",
              "    <tr>\n",
              "      <th>4</th>\n",
              "      <td>0</td>\n",
              "      <td>0</td>\n",
              "      <td>0</td>\n",
              "      <td>0</td>\n",
              "      <td>1</td>\n",
              "    </tr>\n",
              "  </tbody>\n",
              "</table>\n",
              "</div>"
            ],
            "text/plain": [
              "   Cochin  Delhi  Hyderabad  Kolkata  New Delhi\n",
              "0       0      0          0        0          1\n",
              "1       0      0          0        0          0\n",
              "2       1      0          0        0          0\n",
              "3       0      0          0        0          0\n",
              "4       0      0          0        0          1"
            ]
          },
          "metadata": {
            "tags": []
          },
          "execution_count": 157
        }
      ]
    },
    {
      "cell_type": "code",
      "metadata": {
        "colab": {
          "base_uri": "https://localhost:8080/"
        },
        "id": "jnWAq_duvM4B",
        "outputId": "f0c3d5da-fcd1-4e94-abd5-631ad5244aa0"
      },
      "source": [
        "train_data['Route']"
      ],
      "execution_count": null,
      "outputs": [
        {
          "output_type": "execute_result",
          "data": {
            "text/plain": [
              "0                    BLR → DEL\n",
              "1        CCU → IXR → BBI → BLR\n",
              "2        DEL → LKO → BOM → COK\n",
              "3              CCU → NAG → BLR\n",
              "4              BLR → NAG → DEL\n",
              "                 ...          \n",
              "10678                CCU → BLR\n",
              "10679                CCU → BLR\n",
              "10680                BLR → DEL\n",
              "10681                BLR → DEL\n",
              "10682    DEL → GOI → BOM → COK\n",
              "Name: Route, Length: 10682, dtype: object"
            ]
          },
          "metadata": {
            "tags": []
          },
          "execution_count": 158
        }
      ]
    },
    {
      "cell_type": "code",
      "metadata": {
        "id": "mAkGP9dKv-mT"
      },
      "source": [
        "train_data.drop([\"Route\",\"Additional_Info\"],axis=1,inplace=True)"
      ],
      "execution_count": null,
      "outputs": []
    },
    {
      "cell_type": "code",
      "metadata": {
        "colab": {
          "base_uri": "https://localhost:8080/"
        },
        "id": "z3XBo9vivnmL",
        "outputId": "a9bcbef2-1e2a-4be0-dc0c-134d643337af"
      },
      "source": [
        "train_data['Total_Stops'].value_counts()"
      ],
      "execution_count": null,
      "outputs": [
        {
          "output_type": "execute_result",
          "data": {
            "text/plain": [
              "1 stop      5625\n",
              "non-stop    3491\n",
              "2 stops     1520\n",
              "3 stops       45\n",
              "4 stops        1\n",
              "Name: Total_Stops, dtype: int64"
            ]
          },
          "metadata": {
            "tags": []
          },
          "execution_count": 160
        }
      ]
    },
    {
      "cell_type": "code",
      "metadata": {
        "id": "UbCs5VodxC6U"
      },
      "source": [
        "#here is ordinal cateogry handling by label encoding\n",
        "\n",
        "train_data.replace({'non-stop':0 ,'1 stop':1,'2 stops':2,'3 stops':3,'4 stops':4 },inplace=True)\n",
        "\n"
      ],
      "execution_count": null,
      "outputs": []
    },
    {
      "cell_type": "code",
      "metadata": {
        "colab": {
          "base_uri": "https://localhost:8080/",
          "height": 241
        },
        "id": "USLjWYdtze0g",
        "outputId": "01556f8e-42e5-45d2-c505-cad611fd653c"
      },
      "source": [
        "train_data.head()"
      ],
      "execution_count": null,
      "outputs": [
        {
          "output_type": "execute_result",
          "data": {
            "text/html": [
              "<div>\n",
              "<style scoped>\n",
              "    .dataframe tbody tr th:only-of-type {\n",
              "        vertical-align: middle;\n",
              "    }\n",
              "\n",
              "    .dataframe tbody tr th {\n",
              "        vertical-align: top;\n",
              "    }\n",
              "\n",
              "    .dataframe thead th {\n",
              "        text-align: right;\n",
              "    }\n",
              "</style>\n",
              "<table border=\"1\" class=\"dataframe\">\n",
              "  <thead>\n",
              "    <tr style=\"text-align: right;\">\n",
              "      <th></th>\n",
              "      <th>Airline</th>\n",
              "      <th>Source</th>\n",
              "      <th>Destination</th>\n",
              "      <th>Total_Stops</th>\n",
              "      <th>Price</th>\n",
              "      <th>Journey_day</th>\n",
              "      <th>Journey_month</th>\n",
              "      <th>Dep_hour</th>\n",
              "      <th>Dep_min</th>\n",
              "      <th>Arrival_hour</th>\n",
              "      <th>Arrival_min</th>\n",
              "      <th>Duration_hours</th>\n",
              "      <th>Duration_mins</th>\n",
              "    </tr>\n",
              "  </thead>\n",
              "  <tbody>\n",
              "    <tr>\n",
              "      <th>0</th>\n",
              "      <td>IndiGo</td>\n",
              "      <td>Banglore</td>\n",
              "      <td>New Delhi</td>\n",
              "      <td>0</td>\n",
              "      <td>3897</td>\n",
              "      <td>24</td>\n",
              "      <td>3</td>\n",
              "      <td>22</td>\n",
              "      <td>20</td>\n",
              "      <td>1</td>\n",
              "      <td>10</td>\n",
              "      <td>2</td>\n",
              "      <td>50</td>\n",
              "    </tr>\n",
              "    <tr>\n",
              "      <th>1</th>\n",
              "      <td>Air India</td>\n",
              "      <td>Kolkata</td>\n",
              "      <td>Banglore</td>\n",
              "      <td>2</td>\n",
              "      <td>7662</td>\n",
              "      <td>1</td>\n",
              "      <td>5</td>\n",
              "      <td>5</td>\n",
              "      <td>50</td>\n",
              "      <td>13</td>\n",
              "      <td>15</td>\n",
              "      <td>7</td>\n",
              "      <td>25</td>\n",
              "    </tr>\n",
              "    <tr>\n",
              "      <th>2</th>\n",
              "      <td>Jet Airways</td>\n",
              "      <td>Delhi</td>\n",
              "      <td>Cochin</td>\n",
              "      <td>2</td>\n",
              "      <td>13882</td>\n",
              "      <td>9</td>\n",
              "      <td>6</td>\n",
              "      <td>9</td>\n",
              "      <td>25</td>\n",
              "      <td>4</td>\n",
              "      <td>25</td>\n",
              "      <td>19</td>\n",
              "      <td>0</td>\n",
              "    </tr>\n",
              "    <tr>\n",
              "      <th>3</th>\n",
              "      <td>IndiGo</td>\n",
              "      <td>Kolkata</td>\n",
              "      <td>Banglore</td>\n",
              "      <td>1</td>\n",
              "      <td>6218</td>\n",
              "      <td>12</td>\n",
              "      <td>5</td>\n",
              "      <td>18</td>\n",
              "      <td>5</td>\n",
              "      <td>23</td>\n",
              "      <td>30</td>\n",
              "      <td>5</td>\n",
              "      <td>25</td>\n",
              "    </tr>\n",
              "    <tr>\n",
              "      <th>4</th>\n",
              "      <td>IndiGo</td>\n",
              "      <td>Banglore</td>\n",
              "      <td>New Delhi</td>\n",
              "      <td>1</td>\n",
              "      <td>13302</td>\n",
              "      <td>1</td>\n",
              "      <td>3</td>\n",
              "      <td>16</td>\n",
              "      <td>50</td>\n",
              "      <td>21</td>\n",
              "      <td>35</td>\n",
              "      <td>4</td>\n",
              "      <td>45</td>\n",
              "    </tr>\n",
              "  </tbody>\n",
              "</table>\n",
              "</div>"
            ],
            "text/plain": [
              "       Airline    Source Destination  Total_Stops  Price  Journey_day  \\\n",
              "0       IndiGo  Banglore   New Delhi            0   3897           24   \n",
              "1    Air India   Kolkata    Banglore            2   7662            1   \n",
              "2  Jet Airways     Delhi      Cochin            2  13882            9   \n",
              "3       IndiGo   Kolkata    Banglore            1   6218           12   \n",
              "4       IndiGo  Banglore   New Delhi            1  13302            1   \n",
              "\n",
              "   Journey_month  Dep_hour  Dep_min  Arrival_hour  Arrival_min  \\\n",
              "0              3        22       20             1           10   \n",
              "1              5         5       50            13           15   \n",
              "2              6         9       25             4           25   \n",
              "3              5        18        5            23           30   \n",
              "4              3        16       50            21           35   \n",
              "\n",
              "   Duration_hours  Duration_mins  \n",
              "0               2             50  \n",
              "1               7             25  \n",
              "2              19              0  \n",
              "3               5             25  \n",
              "4               4             45  "
            ]
          },
          "metadata": {
            "tags": []
          },
          "execution_count": 162
        }
      ]
    },
    {
      "cell_type": "code",
      "metadata": {
        "id": "-pNLn7DJzgq5"
      },
      "source": [
        "#Concatenate all dataframe in one\n",
        "\n",
        "data_train=pd.concat([train_data,Airline,Source,destination],axis=1)\n"
      ],
      "execution_count": null,
      "outputs": []
    },
    {
      "cell_type": "code",
      "metadata": {
        "colab": {
          "base_uri": "https://localhost:8080/",
          "height": 292
        },
        "id": "tMO3ONlLAe3v",
        "outputId": "af52a70d-a684-416c-efc0-d4fa7ef13667"
      },
      "source": [
        "data_train.head()"
      ],
      "execution_count": null,
      "outputs": [
        {
          "output_type": "execute_result",
          "data": {
            "text/html": [
              "<div>\n",
              "<style scoped>\n",
              "    .dataframe tbody tr th:only-of-type {\n",
              "        vertical-align: middle;\n",
              "    }\n",
              "\n",
              "    .dataframe tbody tr th {\n",
              "        vertical-align: top;\n",
              "    }\n",
              "\n",
              "    .dataframe thead th {\n",
              "        text-align: right;\n",
              "    }\n",
              "</style>\n",
              "<table border=\"1\" class=\"dataframe\">\n",
              "  <thead>\n",
              "    <tr style=\"text-align: right;\">\n",
              "      <th></th>\n",
              "      <th>Airline</th>\n",
              "      <th>Source</th>\n",
              "      <th>Destination</th>\n",
              "      <th>Total_Stops</th>\n",
              "      <th>Price</th>\n",
              "      <th>Journey_day</th>\n",
              "      <th>Journey_month</th>\n",
              "      <th>Dep_hour</th>\n",
              "      <th>Dep_min</th>\n",
              "      <th>Arrival_hour</th>\n",
              "      <th>Arrival_min</th>\n",
              "      <th>Duration_hours</th>\n",
              "      <th>Duration_mins</th>\n",
              "      <th>Air India</th>\n",
              "      <th>GoAir</th>\n",
              "      <th>IndiGo</th>\n",
              "      <th>Jet Airways</th>\n",
              "      <th>Jet Airways Business</th>\n",
              "      <th>Multiple carriers</th>\n",
              "      <th>Multiple carriers Premium economy</th>\n",
              "      <th>SpiceJet</th>\n",
              "      <th>Trujet</th>\n",
              "      <th>Vistara</th>\n",
              "      <th>Vistara Premium economy</th>\n",
              "      <th>Chennai</th>\n",
              "      <th>Delhi</th>\n",
              "      <th>Kolkata</th>\n",
              "      <th>Mumbai</th>\n",
              "      <th>Cochin</th>\n",
              "      <th>Delhi</th>\n",
              "      <th>Hyderabad</th>\n",
              "      <th>Kolkata</th>\n",
              "      <th>New Delhi</th>\n",
              "    </tr>\n",
              "  </thead>\n",
              "  <tbody>\n",
              "    <tr>\n",
              "      <th>0</th>\n",
              "      <td>IndiGo</td>\n",
              "      <td>Banglore</td>\n",
              "      <td>New Delhi</td>\n",
              "      <td>0</td>\n",
              "      <td>3897</td>\n",
              "      <td>24</td>\n",
              "      <td>3</td>\n",
              "      <td>22</td>\n",
              "      <td>20</td>\n",
              "      <td>1</td>\n",
              "      <td>10</td>\n",
              "      <td>2</td>\n",
              "      <td>50</td>\n",
              "      <td>0</td>\n",
              "      <td>0</td>\n",
              "      <td>1</td>\n",
              "      <td>0</td>\n",
              "      <td>0</td>\n",
              "      <td>0</td>\n",
              "      <td>0</td>\n",
              "      <td>0</td>\n",
              "      <td>0</td>\n",
              "      <td>0</td>\n",
              "      <td>0</td>\n",
              "      <td>0</td>\n",
              "      <td>0</td>\n",
              "      <td>0</td>\n",
              "      <td>0</td>\n",
              "      <td>0</td>\n",
              "      <td>0</td>\n",
              "      <td>0</td>\n",
              "      <td>0</td>\n",
              "      <td>1</td>\n",
              "    </tr>\n",
              "    <tr>\n",
              "      <th>1</th>\n",
              "      <td>Air India</td>\n",
              "      <td>Kolkata</td>\n",
              "      <td>Banglore</td>\n",
              "      <td>2</td>\n",
              "      <td>7662</td>\n",
              "      <td>1</td>\n",
              "      <td>5</td>\n",
              "      <td>5</td>\n",
              "      <td>50</td>\n",
              "      <td>13</td>\n",
              "      <td>15</td>\n",
              "      <td>7</td>\n",
              "      <td>25</td>\n",
              "      <td>1</td>\n",
              "      <td>0</td>\n",
              "      <td>0</td>\n",
              "      <td>0</td>\n",
              "      <td>0</td>\n",
              "      <td>0</td>\n",
              "      <td>0</td>\n",
              "      <td>0</td>\n",
              "      <td>0</td>\n",
              "      <td>0</td>\n",
              "      <td>0</td>\n",
              "      <td>0</td>\n",
              "      <td>0</td>\n",
              "      <td>1</td>\n",
              "      <td>0</td>\n",
              "      <td>0</td>\n",
              "      <td>0</td>\n",
              "      <td>0</td>\n",
              "      <td>0</td>\n",
              "      <td>0</td>\n",
              "    </tr>\n",
              "    <tr>\n",
              "      <th>2</th>\n",
              "      <td>Jet Airways</td>\n",
              "      <td>Delhi</td>\n",
              "      <td>Cochin</td>\n",
              "      <td>2</td>\n",
              "      <td>13882</td>\n",
              "      <td>9</td>\n",
              "      <td>6</td>\n",
              "      <td>9</td>\n",
              "      <td>25</td>\n",
              "      <td>4</td>\n",
              "      <td>25</td>\n",
              "      <td>19</td>\n",
              "      <td>0</td>\n",
              "      <td>0</td>\n",
              "      <td>0</td>\n",
              "      <td>0</td>\n",
              "      <td>1</td>\n",
              "      <td>0</td>\n",
              "      <td>0</td>\n",
              "      <td>0</td>\n",
              "      <td>0</td>\n",
              "      <td>0</td>\n",
              "      <td>0</td>\n",
              "      <td>0</td>\n",
              "      <td>0</td>\n",
              "      <td>1</td>\n",
              "      <td>0</td>\n",
              "      <td>0</td>\n",
              "      <td>1</td>\n",
              "      <td>0</td>\n",
              "      <td>0</td>\n",
              "      <td>0</td>\n",
              "      <td>0</td>\n",
              "    </tr>\n",
              "    <tr>\n",
              "      <th>3</th>\n",
              "      <td>IndiGo</td>\n",
              "      <td>Kolkata</td>\n",
              "      <td>Banglore</td>\n",
              "      <td>1</td>\n",
              "      <td>6218</td>\n",
              "      <td>12</td>\n",
              "      <td>5</td>\n",
              "      <td>18</td>\n",
              "      <td>5</td>\n",
              "      <td>23</td>\n",
              "      <td>30</td>\n",
              "      <td>5</td>\n",
              "      <td>25</td>\n",
              "      <td>0</td>\n",
              "      <td>0</td>\n",
              "      <td>1</td>\n",
              "      <td>0</td>\n",
              "      <td>0</td>\n",
              "      <td>0</td>\n",
              "      <td>0</td>\n",
              "      <td>0</td>\n",
              "      <td>0</td>\n",
              "      <td>0</td>\n",
              "      <td>0</td>\n",
              "      <td>0</td>\n",
              "      <td>0</td>\n",
              "      <td>1</td>\n",
              "      <td>0</td>\n",
              "      <td>0</td>\n",
              "      <td>0</td>\n",
              "      <td>0</td>\n",
              "      <td>0</td>\n",
              "      <td>0</td>\n",
              "    </tr>\n",
              "    <tr>\n",
              "      <th>4</th>\n",
              "      <td>IndiGo</td>\n",
              "      <td>Banglore</td>\n",
              "      <td>New Delhi</td>\n",
              "      <td>1</td>\n",
              "      <td>13302</td>\n",
              "      <td>1</td>\n",
              "      <td>3</td>\n",
              "      <td>16</td>\n",
              "      <td>50</td>\n",
              "      <td>21</td>\n",
              "      <td>35</td>\n",
              "      <td>4</td>\n",
              "      <td>45</td>\n",
              "      <td>0</td>\n",
              "      <td>0</td>\n",
              "      <td>1</td>\n",
              "      <td>0</td>\n",
              "      <td>0</td>\n",
              "      <td>0</td>\n",
              "      <td>0</td>\n",
              "      <td>0</td>\n",
              "      <td>0</td>\n",
              "      <td>0</td>\n",
              "      <td>0</td>\n",
              "      <td>0</td>\n",
              "      <td>0</td>\n",
              "      <td>0</td>\n",
              "      <td>0</td>\n",
              "      <td>0</td>\n",
              "      <td>0</td>\n",
              "      <td>0</td>\n",
              "      <td>0</td>\n",
              "      <td>1</td>\n",
              "    </tr>\n",
              "  </tbody>\n",
              "</table>\n",
              "</div>"
            ],
            "text/plain": [
              "       Airline    Source Destination  Total_Stops  Price  Journey_day  \\\n",
              "0       IndiGo  Banglore   New Delhi            0   3897           24   \n",
              "1    Air India   Kolkata    Banglore            2   7662            1   \n",
              "2  Jet Airways     Delhi      Cochin            2  13882            9   \n",
              "3       IndiGo   Kolkata    Banglore            1   6218           12   \n",
              "4       IndiGo  Banglore   New Delhi            1  13302            1   \n",
              "\n",
              "   Journey_month  Dep_hour  Dep_min  Arrival_hour  Arrival_min  \\\n",
              "0              3        22       20             1           10   \n",
              "1              5         5       50            13           15   \n",
              "2              6         9       25             4           25   \n",
              "3              5        18        5            23           30   \n",
              "4              3        16       50            21           35   \n",
              "\n",
              "   Duration_hours  Duration_mins  Air India  GoAir  IndiGo  Jet Airways  \\\n",
              "0               2             50          0      0       1            0   \n",
              "1               7             25          1      0       0            0   \n",
              "2              19              0          0      0       0            1   \n",
              "3               5             25          0      0       1            0   \n",
              "4               4             45          0      0       1            0   \n",
              "\n",
              "   Jet Airways Business  Multiple carriers  Multiple carriers Premium economy  \\\n",
              "0                     0                  0                                  0   \n",
              "1                     0                  0                                  0   \n",
              "2                     0                  0                                  0   \n",
              "3                     0                  0                                  0   \n",
              "4                     0                  0                                  0   \n",
              "\n",
              "   SpiceJet  Trujet  Vistara  Vistara Premium economy  Chennai  Delhi  \\\n",
              "0         0       0        0                        0        0      0   \n",
              "1         0       0        0                        0        0      0   \n",
              "2         0       0        0                        0        0      1   \n",
              "3         0       0        0                        0        0      0   \n",
              "4         0       0        0                        0        0      0   \n",
              "\n",
              "   Kolkata  Mumbai  Cochin  Delhi  Hyderabad  Kolkata  New Delhi  \n",
              "0        0       0       0      0          0        0          1  \n",
              "1        1       0       0      0          0        0          0  \n",
              "2        0       0       1      0          0        0          0  \n",
              "3        1       0       0      0          0        0          0  \n",
              "4        0       0       0      0          0        0          1  "
            ]
          },
          "metadata": {
            "tags": []
          },
          "execution_count": 164
        }
      ]
    },
    {
      "cell_type": "code",
      "metadata": {
        "id": "2r3jxcBRAyBN"
      },
      "source": [
        "data_train.drop([\"Airline\",\"Source\",\"Destination\"],axis=1,inplace=True)"
      ],
      "execution_count": null,
      "outputs": []
    },
    {
      "cell_type": "code",
      "metadata": {
        "colab": {
          "base_uri": "https://localhost:8080/",
          "height": 275
        },
        "id": "_wTl4fJxCRko",
        "outputId": "944f105f-756e-44e0-a72d-49050237d380"
      },
      "source": [
        "data_train.head()"
      ],
      "execution_count": null,
      "outputs": [
        {
          "output_type": "execute_result",
          "data": {
            "text/html": [
              "<div>\n",
              "<style scoped>\n",
              "    .dataframe tbody tr th:only-of-type {\n",
              "        vertical-align: middle;\n",
              "    }\n",
              "\n",
              "    .dataframe tbody tr th {\n",
              "        vertical-align: top;\n",
              "    }\n",
              "\n",
              "    .dataframe thead th {\n",
              "        text-align: right;\n",
              "    }\n",
              "</style>\n",
              "<table border=\"1\" class=\"dataframe\">\n",
              "  <thead>\n",
              "    <tr style=\"text-align: right;\">\n",
              "      <th></th>\n",
              "      <th>Total_Stops</th>\n",
              "      <th>Price</th>\n",
              "      <th>Journey_day</th>\n",
              "      <th>Journey_month</th>\n",
              "      <th>Dep_hour</th>\n",
              "      <th>Dep_min</th>\n",
              "      <th>Arrival_hour</th>\n",
              "      <th>Arrival_min</th>\n",
              "      <th>Duration_hours</th>\n",
              "      <th>Duration_mins</th>\n",
              "      <th>Air India</th>\n",
              "      <th>GoAir</th>\n",
              "      <th>IndiGo</th>\n",
              "      <th>Jet Airways</th>\n",
              "      <th>Jet Airways Business</th>\n",
              "      <th>Multiple carriers</th>\n",
              "      <th>Multiple carriers Premium economy</th>\n",
              "      <th>SpiceJet</th>\n",
              "      <th>Trujet</th>\n",
              "      <th>Vistara</th>\n",
              "      <th>Vistara Premium economy</th>\n",
              "      <th>Chennai</th>\n",
              "      <th>Delhi</th>\n",
              "      <th>Kolkata</th>\n",
              "      <th>Mumbai</th>\n",
              "      <th>Cochin</th>\n",
              "      <th>Delhi</th>\n",
              "      <th>Hyderabad</th>\n",
              "      <th>Kolkata</th>\n",
              "      <th>New Delhi</th>\n",
              "    </tr>\n",
              "  </thead>\n",
              "  <tbody>\n",
              "    <tr>\n",
              "      <th>0</th>\n",
              "      <td>0</td>\n",
              "      <td>3897</td>\n",
              "      <td>24</td>\n",
              "      <td>3</td>\n",
              "      <td>22</td>\n",
              "      <td>20</td>\n",
              "      <td>1</td>\n",
              "      <td>10</td>\n",
              "      <td>2</td>\n",
              "      <td>50</td>\n",
              "      <td>0</td>\n",
              "      <td>0</td>\n",
              "      <td>1</td>\n",
              "      <td>0</td>\n",
              "      <td>0</td>\n",
              "      <td>0</td>\n",
              "      <td>0</td>\n",
              "      <td>0</td>\n",
              "      <td>0</td>\n",
              "      <td>0</td>\n",
              "      <td>0</td>\n",
              "      <td>0</td>\n",
              "      <td>0</td>\n",
              "      <td>0</td>\n",
              "      <td>0</td>\n",
              "      <td>0</td>\n",
              "      <td>0</td>\n",
              "      <td>0</td>\n",
              "      <td>0</td>\n",
              "      <td>1</td>\n",
              "    </tr>\n",
              "    <tr>\n",
              "      <th>1</th>\n",
              "      <td>2</td>\n",
              "      <td>7662</td>\n",
              "      <td>1</td>\n",
              "      <td>5</td>\n",
              "      <td>5</td>\n",
              "      <td>50</td>\n",
              "      <td>13</td>\n",
              "      <td>15</td>\n",
              "      <td>7</td>\n",
              "      <td>25</td>\n",
              "      <td>1</td>\n",
              "      <td>0</td>\n",
              "      <td>0</td>\n",
              "      <td>0</td>\n",
              "      <td>0</td>\n",
              "      <td>0</td>\n",
              "      <td>0</td>\n",
              "      <td>0</td>\n",
              "      <td>0</td>\n",
              "      <td>0</td>\n",
              "      <td>0</td>\n",
              "      <td>0</td>\n",
              "      <td>0</td>\n",
              "      <td>1</td>\n",
              "      <td>0</td>\n",
              "      <td>0</td>\n",
              "      <td>0</td>\n",
              "      <td>0</td>\n",
              "      <td>0</td>\n",
              "      <td>0</td>\n",
              "    </tr>\n",
              "    <tr>\n",
              "      <th>2</th>\n",
              "      <td>2</td>\n",
              "      <td>13882</td>\n",
              "      <td>9</td>\n",
              "      <td>6</td>\n",
              "      <td>9</td>\n",
              "      <td>25</td>\n",
              "      <td>4</td>\n",
              "      <td>25</td>\n",
              "      <td>19</td>\n",
              "      <td>0</td>\n",
              "      <td>0</td>\n",
              "      <td>0</td>\n",
              "      <td>0</td>\n",
              "      <td>1</td>\n",
              "      <td>0</td>\n",
              "      <td>0</td>\n",
              "      <td>0</td>\n",
              "      <td>0</td>\n",
              "      <td>0</td>\n",
              "      <td>0</td>\n",
              "      <td>0</td>\n",
              "      <td>0</td>\n",
              "      <td>1</td>\n",
              "      <td>0</td>\n",
              "      <td>0</td>\n",
              "      <td>1</td>\n",
              "      <td>0</td>\n",
              "      <td>0</td>\n",
              "      <td>0</td>\n",
              "      <td>0</td>\n",
              "    </tr>\n",
              "    <tr>\n",
              "      <th>3</th>\n",
              "      <td>1</td>\n",
              "      <td>6218</td>\n",
              "      <td>12</td>\n",
              "      <td>5</td>\n",
              "      <td>18</td>\n",
              "      <td>5</td>\n",
              "      <td>23</td>\n",
              "      <td>30</td>\n",
              "      <td>5</td>\n",
              "      <td>25</td>\n",
              "      <td>0</td>\n",
              "      <td>0</td>\n",
              "      <td>1</td>\n",
              "      <td>0</td>\n",
              "      <td>0</td>\n",
              "      <td>0</td>\n",
              "      <td>0</td>\n",
              "      <td>0</td>\n",
              "      <td>0</td>\n",
              "      <td>0</td>\n",
              "      <td>0</td>\n",
              "      <td>0</td>\n",
              "      <td>0</td>\n",
              "      <td>1</td>\n",
              "      <td>0</td>\n",
              "      <td>0</td>\n",
              "      <td>0</td>\n",
              "      <td>0</td>\n",
              "      <td>0</td>\n",
              "      <td>0</td>\n",
              "    </tr>\n",
              "    <tr>\n",
              "      <th>4</th>\n",
              "      <td>1</td>\n",
              "      <td>13302</td>\n",
              "      <td>1</td>\n",
              "      <td>3</td>\n",
              "      <td>16</td>\n",
              "      <td>50</td>\n",
              "      <td>21</td>\n",
              "      <td>35</td>\n",
              "      <td>4</td>\n",
              "      <td>45</td>\n",
              "      <td>0</td>\n",
              "      <td>0</td>\n",
              "      <td>1</td>\n",
              "      <td>0</td>\n",
              "      <td>0</td>\n",
              "      <td>0</td>\n",
              "      <td>0</td>\n",
              "      <td>0</td>\n",
              "      <td>0</td>\n",
              "      <td>0</td>\n",
              "      <td>0</td>\n",
              "      <td>0</td>\n",
              "      <td>0</td>\n",
              "      <td>0</td>\n",
              "      <td>0</td>\n",
              "      <td>0</td>\n",
              "      <td>0</td>\n",
              "      <td>0</td>\n",
              "      <td>0</td>\n",
              "      <td>1</td>\n",
              "    </tr>\n",
              "  </tbody>\n",
              "</table>\n",
              "</div>"
            ],
            "text/plain": [
              "   Total_Stops  Price  Journey_day  Journey_month  Dep_hour  Dep_min  \\\n",
              "0            0   3897           24              3        22       20   \n",
              "1            2   7662            1              5         5       50   \n",
              "2            2  13882            9              6         9       25   \n",
              "3            1   6218           12              5        18        5   \n",
              "4            1  13302            1              3        16       50   \n",
              "\n",
              "   Arrival_hour  Arrival_min  Duration_hours  Duration_mins  Air India  GoAir  \\\n",
              "0             1           10               2             50          0      0   \n",
              "1            13           15               7             25          1      0   \n",
              "2             4           25              19              0          0      0   \n",
              "3            23           30               5             25          0      0   \n",
              "4            21           35               4             45          0      0   \n",
              "\n",
              "   IndiGo  Jet Airways  Jet Airways Business  Multiple carriers  \\\n",
              "0       1            0                     0                  0   \n",
              "1       0            0                     0                  0   \n",
              "2       0            1                     0                  0   \n",
              "3       1            0                     0                  0   \n",
              "4       1            0                     0                  0   \n",
              "\n",
              "   Multiple carriers Premium economy  SpiceJet  Trujet  Vistara  \\\n",
              "0                                  0         0       0        0   \n",
              "1                                  0         0       0        0   \n",
              "2                                  0         0       0        0   \n",
              "3                                  0         0       0        0   \n",
              "4                                  0         0       0        0   \n",
              "\n",
              "   Vistara Premium economy  Chennai  Delhi  Kolkata  Mumbai  Cochin  Delhi  \\\n",
              "0                        0        0      0        0       0       0      0   \n",
              "1                        0        0      0        1       0       0      0   \n",
              "2                        0        0      1        0       0       1      0   \n",
              "3                        0        0      0        1       0       0      0   \n",
              "4                        0        0      0        0       0       0      0   \n",
              "\n",
              "   Hyderabad  Kolkata  New Delhi  \n",
              "0          0        0          1  \n",
              "1          0        0          0  \n",
              "2          0        0          0  \n",
              "3          0        0          0  \n",
              "4          0        0          1  "
            ]
          },
          "metadata": {
            "tags": []
          },
          "execution_count": 166
        }
      ]
    },
    {
      "cell_type": "code",
      "metadata": {
        "colab": {
          "base_uri": "https://localhost:8080/"
        },
        "id": "Z-tM0U2aCY5p",
        "outputId": "7cdf384f-befc-4d42-e863-d282bdb73559"
      },
      "source": [
        "data_train.shape"
      ],
      "execution_count": null,
      "outputs": [
        {
          "output_type": "execute_result",
          "data": {
            "text/plain": [
              "(10682, 30)"
            ]
          },
          "metadata": {
            "tags": []
          },
          "execution_count": 167
        }
      ]
    },
    {
      "cell_type": "markdown",
      "metadata": {
        "id": "OtI_HpENEF30"
      },
      "source": [
        "**TEST DATA**"
      ]
    },
    {
      "cell_type": "code",
      "metadata": {
        "id": "MbWNLMQJEEFF"
      },
      "source": [
        "test_data=pd.read_excel(r'F:\\DataScience\\Machine learning\\EDA\\Test_set.xlsx')"
      ],
      "execution_count": null,
      "outputs": []
    },
    {
      "cell_type": "code",
      "metadata": {
        "id": "KNcNmvwIXk_6"
      },
      "source": [
        "pd.set_option('display.max_columns', None)"
      ],
      "execution_count": null,
      "outputs": []
    },
    {
      "cell_type": "code",
      "metadata": {
        "colab": {
          "base_uri": "https://localhost:8080/",
          "height": 425
        },
        "id": "vtx1jF-AEb8E",
        "outputId": "58b6cf64-8087-4e48-ab54-87e7e227c814"
      },
      "source": [
        "test_data.head()"
      ],
      "execution_count": null,
      "outputs": [
        {
          "output_type": "execute_result",
          "data": {
            "text/html": [
              "<div>\n",
              "<style scoped>\n",
              "    .dataframe tbody tr th:only-of-type {\n",
              "        vertical-align: middle;\n",
              "    }\n",
              "\n",
              "    .dataframe tbody tr th {\n",
              "        vertical-align: top;\n",
              "    }\n",
              "\n",
              "    .dataframe thead th {\n",
              "        text-align: right;\n",
              "    }\n",
              "</style>\n",
              "<table border=\"1\" class=\"dataframe\">\n",
              "  <thead>\n",
              "    <tr style=\"text-align: right;\">\n",
              "      <th></th>\n",
              "      <th>Airline</th>\n",
              "      <th>Date_of_Journey</th>\n",
              "      <th>Source</th>\n",
              "      <th>Destination</th>\n",
              "      <th>Route</th>\n",
              "      <th>Dep_Time</th>\n",
              "      <th>Arrival_Time</th>\n",
              "      <th>Duration</th>\n",
              "      <th>Total_Stops</th>\n",
              "      <th>Additional_Info</th>\n",
              "    </tr>\n",
              "  </thead>\n",
              "  <tbody>\n",
              "    <tr>\n",
              "      <th>0</th>\n",
              "      <td>Jet Airways</td>\n",
              "      <td>6/06/2019</td>\n",
              "      <td>Delhi</td>\n",
              "      <td>Cochin</td>\n",
              "      <td>DEL → BOM → COK</td>\n",
              "      <td>17:30</td>\n",
              "      <td>04:25 07 Jun</td>\n",
              "      <td>10h 55m</td>\n",
              "      <td>1 stop</td>\n",
              "      <td>No info</td>\n",
              "    </tr>\n",
              "    <tr>\n",
              "      <th>1</th>\n",
              "      <td>IndiGo</td>\n",
              "      <td>12/05/2019</td>\n",
              "      <td>Kolkata</td>\n",
              "      <td>Banglore</td>\n",
              "      <td>CCU → MAA → BLR</td>\n",
              "      <td>06:20</td>\n",
              "      <td>10:20</td>\n",
              "      <td>4h</td>\n",
              "      <td>1 stop</td>\n",
              "      <td>No info</td>\n",
              "    </tr>\n",
              "    <tr>\n",
              "      <th>2</th>\n",
              "      <td>Jet Airways</td>\n",
              "      <td>21/05/2019</td>\n",
              "      <td>Delhi</td>\n",
              "      <td>Cochin</td>\n",
              "      <td>DEL → BOM → COK</td>\n",
              "      <td>19:15</td>\n",
              "      <td>19:00 22 May</td>\n",
              "      <td>23h 45m</td>\n",
              "      <td>1 stop</td>\n",
              "      <td>In-flight meal not included</td>\n",
              "    </tr>\n",
              "    <tr>\n",
              "      <th>3</th>\n",
              "      <td>Multiple carriers</td>\n",
              "      <td>21/05/2019</td>\n",
              "      <td>Delhi</td>\n",
              "      <td>Cochin</td>\n",
              "      <td>DEL → BOM → COK</td>\n",
              "      <td>08:00</td>\n",
              "      <td>21:00</td>\n",
              "      <td>13h</td>\n",
              "      <td>1 stop</td>\n",
              "      <td>No info</td>\n",
              "    </tr>\n",
              "    <tr>\n",
              "      <th>4</th>\n",
              "      <td>Air Asia</td>\n",
              "      <td>24/06/2019</td>\n",
              "      <td>Banglore</td>\n",
              "      <td>Delhi</td>\n",
              "      <td>BLR → DEL</td>\n",
              "      <td>23:55</td>\n",
              "      <td>02:45 25 Jun</td>\n",
              "      <td>2h 50m</td>\n",
              "      <td>non-stop</td>\n",
              "      <td>No info</td>\n",
              "    </tr>\n",
              "  </tbody>\n",
              "</table>\n",
              "</div>"
            ],
            "text/plain": [
              "             Airline Date_of_Journey    Source Destination            Route  \\\n",
              "0        Jet Airways       6/06/2019     Delhi      Cochin  DEL → BOM → COK   \n",
              "1             IndiGo      12/05/2019   Kolkata    Banglore  CCU → MAA → BLR   \n",
              "2        Jet Airways      21/05/2019     Delhi      Cochin  DEL → BOM → COK   \n",
              "3  Multiple carriers      21/05/2019     Delhi      Cochin  DEL → BOM → COK   \n",
              "4           Air Asia      24/06/2019  Banglore       Delhi        BLR → DEL   \n",
              "\n",
              "  Dep_Time  Arrival_Time Duration Total_Stops              Additional_Info  \n",
              "0    17:30  04:25 07 Jun  10h 55m      1 stop                      No info  \n",
              "1    06:20         10:20       4h      1 stop                      No info  \n",
              "2    19:15  19:00 22 May  23h 45m      1 stop  In-flight meal not included  \n",
              "3    08:00         21:00      13h      1 stop                      No info  \n",
              "4    23:55  02:45 25 Jun   2h 50m    non-stop                      No info  "
            ]
          },
          "metadata": {
            "tags": []
          },
          "execution_count": 169
        }
      ]
    },
    {
      "cell_type": "code",
      "metadata": {
        "colab": {
          "base_uri": "https://localhost:8080/"
        },
        "id": "9fUudJvcGWRL",
        "outputId": "bd7820fb-aefb-4d89-b0a4-281d0e6dbcee"
      },
      "source": [
        "# Preprocessing\n",
        "\n",
        "print(\"Test data Info\")\n",
        "print(\"-\"*75)\n",
        "print(test_data.info())\n",
        "\n",
        "print()\n",
        "print()\n",
        "\n",
        "print(\"Null values :\")\n",
        "print(\"-\"*80)\n",
        "test_data.dropna(inplace=True)\n",
        "print(test_data.isnull().sum())\n",
        "\n",
        "# EDA\n",
        "\n",
        "# Date_of_journey\n",
        "test_data[\"Journey_day\"] = pd.to_datetime(test_data.Date_of_Journey,format=\"%d/%m/%Y\").dt.day\n",
        "test_data[\"Journey_month\"] = pd.to_datetime(test_data[\"Date_of_Journey\"], format = \"%d/%m/%Y\").dt.month\n",
        "test_data.drop([\"Date_of_Journey\"], axis = 1, inplace = True)\n",
        "\n",
        "#DepTime\n",
        "test_data['Dep_hour']=pd.to_datetime(test_data.Dep_Time).dt.hour\n",
        "test_data['Dep_min']=pd.to_datetime(test_data.Dep_Time).dt.minute\n",
        "test_data.drop([\"Dep_Time\"],axis=1,inplace=True)\n",
        "\n",
        "#ArrivalTime\n",
        "test_data['Arrival_hour']=pd.to_datetime(test_data.Arrival_Time).dt.hour\n",
        "test_data['Arrival_min']=pd.to_datetime(test_data.Arrival_Time).dt.minute\n",
        "\n",
        "test_data.drop(['Arrival_Time'],axis=1,inplace=True)\n",
        "\n",
        "# Assigning and converting Duration column into list\n",
        "duration = list(test_data[\"Duration\"])\n",
        "\n",
        "for i in range(len(duration)):\n",
        "    if len(duration[i].split()) != 2:    # Check if duration contains only hour or mins\n",
        "        if \"h\" in duration[i]:\n",
        "            duration[i] = duration[i].strip() + \" 0m\"   # Adds 0 minute\n",
        "        else:\n",
        "            duration[i] = \"0h \" + duration[i]           # Adds 0 hour\n",
        "\n",
        "duration_hours = []\n",
        "duration_mins = []\n",
        "for i in range(len(duration)):\n",
        "    duration_hours.append(int(duration[i].split(sep = \"h\")[0]))    # Extract hours from duration\n",
        "    duration_mins.append(int(duration[i].split(sep = \"m\")[0].split()[-1]))   # Extracts only minutes from duration\n",
        "\n",
        "\n",
        "\n",
        "#Adding duration column in testdata\n",
        "test_data['Duration_hour'] = duration_hours\n",
        "test_data['Duration_min'] = duration_mins\n",
        "test_data.drop(['Duration'],axis=1, inplace=True)\n",
        "\n",
        "\n",
        "#Categorial data\n",
        "print(\"Airline\")\n",
        "print(\"-\"*80)\n",
        "print(test_data['Airline'].value_counts())\n",
        "Airline=pd.get_dummies(test_data['Airline'],drop_first=True)\n",
        "\n",
        "\n",
        "print(\"Source\")\n",
        "print(\"-\"*80)\n",
        "print(test_data['Source'].value_counts())\n",
        "Source=pd.get_dummies(test_data['Source'],drop_first=True)\n",
        "\n",
        "\n",
        "print(\"Destination\")\n",
        "print(\"-\"*80)\n",
        "print(test_data['Destination'].value_counts())\n",
        "Destination=pd.get_dummies(test_data['Destination'],drop_first=True)\n",
        "\n",
        "\n",
        "#Data cleaning\n",
        "#Route and Totals_Stops are realted ecah other\n",
        "#Addinfo have 80% no_info values\n",
        "test_data.drop([\"Route\",\"Additional_Info\"],axis=1,inplace=True)\n",
        "\n",
        "#Replacing total_stops\n",
        "test_data.replace({\"non-stop\":0,\"1 stop\":1,\"2 stops\":2,\"3 stops\":3,\"4 stops\":4},inplace=True)\n",
        "\n",
        "#concatenate all datafram in one\n",
        "\n",
        "data_test=pd.concat([test_data,Airline,Source,Destination],axis=1)\n",
        "\n",
        "data_test.drop([\"Airline\",\"Source\",\"Destination\"],axis=1,inplace=True)\n",
        "\n",
        "print()\n",
        "print()\n",
        "\n",
        "print(\"Shape of test data : \", data_test.shape)\n",
        "\n",
        "\n",
        "\n"
      ],
      "execution_count": null,
      "outputs": [
        {
          "output_type": "stream",
          "text": [
            "Test data Info\n",
            "---------------------------------------------------------------------------\n",
            "<class 'pandas.core.frame.DataFrame'>\n",
            "RangeIndex: 2671 entries, 0 to 2670\n",
            "Data columns (total 10 columns):\n",
            " #   Column           Non-Null Count  Dtype \n",
            "---  ------           --------------  ----- \n",
            " 0   Airline          2671 non-null   object\n",
            " 1   Date_of_Journey  2671 non-null   object\n",
            " 2   Source           2671 non-null   object\n",
            " 3   Destination      2671 non-null   object\n",
            " 4   Route            2671 non-null   object\n",
            " 5   Dep_Time         2671 non-null   object\n",
            " 6   Arrival_Time     2671 non-null   object\n",
            " 7   Duration         2671 non-null   object\n",
            " 8   Total_Stops      2671 non-null   object\n",
            " 9   Additional_Info  2671 non-null   object\n",
            "dtypes: object(10)\n",
            "memory usage: 208.8+ KB\n",
            "None\n",
            "\n",
            "\n",
            "Null values :\n",
            "--------------------------------------------------------------------------------\n",
            "Airline            0\n",
            "Date_of_Journey    0\n",
            "Source             0\n",
            "Destination        0\n",
            "Route              0\n",
            "Dep_Time           0\n",
            "Arrival_Time       0\n",
            "Duration           0\n",
            "Total_Stops        0\n",
            "Additional_Info    0\n",
            "dtype: int64\n",
            "Airline\n",
            "--------------------------------------------------------------------------------\n",
            "Jet Airways                          897\n",
            "IndiGo                               511\n",
            "Air India                            440\n",
            "Multiple carriers                    347\n",
            "SpiceJet                             208\n",
            "Vistara                              129\n",
            "Air Asia                              86\n",
            "GoAir                                 46\n",
            "Multiple carriers Premium economy      3\n",
            "Vistara Premium economy                2\n",
            "Jet Airways Business                   2\n",
            "Name: Airline, dtype: int64\n",
            "Source\n",
            "--------------------------------------------------------------------------------\n",
            "Delhi       1145\n",
            "Kolkata      710\n",
            "Banglore     555\n",
            "Mumbai       186\n",
            "Chennai       75\n",
            "Name: Source, dtype: int64\n",
            "Destination\n",
            "--------------------------------------------------------------------------------\n",
            "Cochin       1145\n",
            "Banglore      710\n",
            "Delhi         317\n",
            "New Delhi     238\n",
            "Hyderabad     186\n",
            "Kolkata        75\n",
            "Name: Destination, dtype: int64\n",
            "\n",
            "\n",
            "Shape of test data :  (2671, 28)\n"
          ],
          "name": "stdout"
        }
      ]
    },
    {
      "cell_type": "code",
      "metadata": {
        "colab": {
          "base_uri": "https://localhost:8080/",
          "height": 275
        },
        "id": "-sfjyAeaQGZI",
        "outputId": "2029d315-3355-420b-d814-ffdb05c156ac"
      },
      "source": [
        "data_test.head()\n"
      ],
      "execution_count": null,
      "outputs": [
        {
          "output_type": "execute_result",
          "data": {
            "text/html": [
              "<div>\n",
              "<style scoped>\n",
              "    .dataframe tbody tr th:only-of-type {\n",
              "        vertical-align: middle;\n",
              "    }\n",
              "\n",
              "    .dataframe tbody tr th {\n",
              "        vertical-align: top;\n",
              "    }\n",
              "\n",
              "    .dataframe thead th {\n",
              "        text-align: right;\n",
              "    }\n",
              "</style>\n",
              "<table border=\"1\" class=\"dataframe\">\n",
              "  <thead>\n",
              "    <tr style=\"text-align: right;\">\n",
              "      <th></th>\n",
              "      <th>Total_Stops</th>\n",
              "      <th>Journey_day</th>\n",
              "      <th>Journey_month</th>\n",
              "      <th>Dep_hour</th>\n",
              "      <th>Dep_min</th>\n",
              "      <th>Arrival_hour</th>\n",
              "      <th>Arrival_min</th>\n",
              "      <th>Duration_hour</th>\n",
              "      <th>Duration_min</th>\n",
              "      <th>Air India</th>\n",
              "      <th>GoAir</th>\n",
              "      <th>IndiGo</th>\n",
              "      <th>Jet Airways</th>\n",
              "      <th>Jet Airways Business</th>\n",
              "      <th>Multiple carriers</th>\n",
              "      <th>Multiple carriers Premium economy</th>\n",
              "      <th>SpiceJet</th>\n",
              "      <th>Vistara</th>\n",
              "      <th>Vistara Premium economy</th>\n",
              "      <th>Chennai</th>\n",
              "      <th>Delhi</th>\n",
              "      <th>Kolkata</th>\n",
              "      <th>Mumbai</th>\n",
              "      <th>Cochin</th>\n",
              "      <th>Delhi</th>\n",
              "      <th>Hyderabad</th>\n",
              "      <th>Kolkata</th>\n",
              "      <th>New Delhi</th>\n",
              "    </tr>\n",
              "  </thead>\n",
              "  <tbody>\n",
              "    <tr>\n",
              "      <th>0</th>\n",
              "      <td>1</td>\n",
              "      <td>6</td>\n",
              "      <td>6</td>\n",
              "      <td>17</td>\n",
              "      <td>30</td>\n",
              "      <td>4</td>\n",
              "      <td>25</td>\n",
              "      <td>10</td>\n",
              "      <td>55</td>\n",
              "      <td>0</td>\n",
              "      <td>0</td>\n",
              "      <td>0</td>\n",
              "      <td>1</td>\n",
              "      <td>0</td>\n",
              "      <td>0</td>\n",
              "      <td>0</td>\n",
              "      <td>0</td>\n",
              "      <td>0</td>\n",
              "      <td>0</td>\n",
              "      <td>0</td>\n",
              "      <td>1</td>\n",
              "      <td>0</td>\n",
              "      <td>0</td>\n",
              "      <td>1</td>\n",
              "      <td>0</td>\n",
              "      <td>0</td>\n",
              "      <td>0</td>\n",
              "      <td>0</td>\n",
              "    </tr>\n",
              "    <tr>\n",
              "      <th>1</th>\n",
              "      <td>1</td>\n",
              "      <td>12</td>\n",
              "      <td>5</td>\n",
              "      <td>6</td>\n",
              "      <td>20</td>\n",
              "      <td>10</td>\n",
              "      <td>20</td>\n",
              "      <td>4</td>\n",
              "      <td>0</td>\n",
              "      <td>0</td>\n",
              "      <td>0</td>\n",
              "      <td>1</td>\n",
              "      <td>0</td>\n",
              "      <td>0</td>\n",
              "      <td>0</td>\n",
              "      <td>0</td>\n",
              "      <td>0</td>\n",
              "      <td>0</td>\n",
              "      <td>0</td>\n",
              "      <td>0</td>\n",
              "      <td>0</td>\n",
              "      <td>1</td>\n",
              "      <td>0</td>\n",
              "      <td>0</td>\n",
              "      <td>0</td>\n",
              "      <td>0</td>\n",
              "      <td>0</td>\n",
              "      <td>0</td>\n",
              "    </tr>\n",
              "    <tr>\n",
              "      <th>2</th>\n",
              "      <td>1</td>\n",
              "      <td>21</td>\n",
              "      <td>5</td>\n",
              "      <td>19</td>\n",
              "      <td>15</td>\n",
              "      <td>19</td>\n",
              "      <td>0</td>\n",
              "      <td>23</td>\n",
              "      <td>45</td>\n",
              "      <td>0</td>\n",
              "      <td>0</td>\n",
              "      <td>0</td>\n",
              "      <td>1</td>\n",
              "      <td>0</td>\n",
              "      <td>0</td>\n",
              "      <td>0</td>\n",
              "      <td>0</td>\n",
              "      <td>0</td>\n",
              "      <td>0</td>\n",
              "      <td>0</td>\n",
              "      <td>1</td>\n",
              "      <td>0</td>\n",
              "      <td>0</td>\n",
              "      <td>1</td>\n",
              "      <td>0</td>\n",
              "      <td>0</td>\n",
              "      <td>0</td>\n",
              "      <td>0</td>\n",
              "    </tr>\n",
              "    <tr>\n",
              "      <th>3</th>\n",
              "      <td>1</td>\n",
              "      <td>21</td>\n",
              "      <td>5</td>\n",
              "      <td>8</td>\n",
              "      <td>0</td>\n",
              "      <td>21</td>\n",
              "      <td>0</td>\n",
              "      <td>13</td>\n",
              "      <td>0</td>\n",
              "      <td>0</td>\n",
              "      <td>0</td>\n",
              "      <td>0</td>\n",
              "      <td>0</td>\n",
              "      <td>0</td>\n",
              "      <td>1</td>\n",
              "      <td>0</td>\n",
              "      <td>0</td>\n",
              "      <td>0</td>\n",
              "      <td>0</td>\n",
              "      <td>0</td>\n",
              "      <td>1</td>\n",
              "      <td>0</td>\n",
              "      <td>0</td>\n",
              "      <td>1</td>\n",
              "      <td>0</td>\n",
              "      <td>0</td>\n",
              "      <td>0</td>\n",
              "      <td>0</td>\n",
              "    </tr>\n",
              "    <tr>\n",
              "      <th>4</th>\n",
              "      <td>0</td>\n",
              "      <td>24</td>\n",
              "      <td>6</td>\n",
              "      <td>23</td>\n",
              "      <td>55</td>\n",
              "      <td>2</td>\n",
              "      <td>45</td>\n",
              "      <td>2</td>\n",
              "      <td>50</td>\n",
              "      <td>0</td>\n",
              "      <td>0</td>\n",
              "      <td>0</td>\n",
              "      <td>0</td>\n",
              "      <td>0</td>\n",
              "      <td>0</td>\n",
              "      <td>0</td>\n",
              "      <td>0</td>\n",
              "      <td>0</td>\n",
              "      <td>0</td>\n",
              "      <td>0</td>\n",
              "      <td>0</td>\n",
              "      <td>0</td>\n",
              "      <td>0</td>\n",
              "      <td>0</td>\n",
              "      <td>1</td>\n",
              "      <td>0</td>\n",
              "      <td>0</td>\n",
              "      <td>0</td>\n",
              "    </tr>\n",
              "  </tbody>\n",
              "</table>\n",
              "</div>"
            ],
            "text/plain": [
              "   Total_Stops  Journey_day  Journey_month  Dep_hour  Dep_min  Arrival_hour  \\\n",
              "0            1            6              6        17       30             4   \n",
              "1            1           12              5         6       20            10   \n",
              "2            1           21              5        19       15            19   \n",
              "3            1           21              5         8        0            21   \n",
              "4            0           24              6        23       55             2   \n",
              "\n",
              "   Arrival_min  Duration_hour  Duration_min  Air India  GoAir  IndiGo  \\\n",
              "0           25             10            55          0      0       0   \n",
              "1           20              4             0          0      0       1   \n",
              "2            0             23            45          0      0       0   \n",
              "3            0             13             0          0      0       0   \n",
              "4           45              2            50          0      0       0   \n",
              "\n",
              "   Jet Airways  Jet Airways Business  Multiple carriers  \\\n",
              "0            1                     0                  0   \n",
              "1            0                     0                  0   \n",
              "2            1                     0                  0   \n",
              "3            0                     0                  1   \n",
              "4            0                     0                  0   \n",
              "\n",
              "   Multiple carriers Premium economy  SpiceJet  Vistara  \\\n",
              "0                                  0         0        0   \n",
              "1                                  0         0        0   \n",
              "2                                  0         0        0   \n",
              "3                                  0         0        0   \n",
              "4                                  0         0        0   \n",
              "\n",
              "   Vistara Premium economy  Chennai  Delhi  Kolkata  Mumbai  Cochin  Delhi  \\\n",
              "0                        0        0      1        0       0       1      0   \n",
              "1                        0        0      0        1       0       0      0   \n",
              "2                        0        0      1        0       0       1      0   \n",
              "3                        0        0      1        0       0       1      0   \n",
              "4                        0        0      0        0       0       0      1   \n",
              "\n",
              "   Hyderabad  Kolkata  New Delhi  \n",
              "0          0        0          0  \n",
              "1          0        0          0  \n",
              "2          0        0          0  \n",
              "3          0        0          0  \n",
              "4          0        0          0  "
            ]
          },
          "metadata": {
            "tags": []
          },
          "execution_count": 171
        }
      ]
    },
    {
      "cell_type": "markdown",
      "metadata": {
        "id": "JBhc5Nc50PPp"
      },
      "source": [
        "**Feature Selection**\n",
        "\n",
        "1. **Heatmap**\n",
        "2. **Feature_importamce_**\n",
        "3. **SelectBest**"
      ]
    },
    {
      "cell_type": "code",
      "metadata": {
        "colab": {
          "base_uri": "https://localhost:8080/"
        },
        "id": "matvqami09Lk",
        "outputId": "df410490-93fb-4ecc-d145-4322abca17a5"
      },
      "source": [
        "data_train.shape"
      ],
      "execution_count": null,
      "outputs": [
        {
          "output_type": "execute_result",
          "data": {
            "text/plain": [
              "(10682, 30)"
            ]
          },
          "metadata": {
            "tags": []
          },
          "execution_count": 172
        }
      ]
    },
    {
      "cell_type": "code",
      "metadata": {
        "colab": {
          "base_uri": "https://localhost:8080/"
        },
        "id": "3CpwknuLoHeM",
        "outputId": "0baa8185-36ab-43f8-8072-d8d71511a608"
      },
      "source": [
        "data_train.columns"
      ],
      "execution_count": null,
      "outputs": [
        {
          "output_type": "execute_result",
          "data": {
            "text/plain": [
              "Index(['Total_Stops', 'Price', 'Journey_day', 'Journey_month', 'Dep_hour',\n",
              "       'Dep_min', 'Arrival_hour', 'Arrival_min', 'Duration_hours',\n",
              "       'Duration_mins', 'Air India', 'GoAir', 'IndiGo', 'Jet Airways',\n",
              "       'Jet Airways Business', 'Multiple carriers',\n",
              "       'Multiple carriers Premium economy', 'SpiceJet', 'Trujet', 'Vistara',\n",
              "       'Vistara Premium economy', 'Chennai', 'Delhi', 'Kolkata', 'Mumbai',\n",
              "       'Cochin', 'Delhi', 'Hyderabad', 'Kolkata', 'New Delhi'],\n",
              "      dtype='object')"
            ]
          },
          "metadata": {
            "tags": []
          },
          "execution_count": 173
        }
      ]
    },
    {
      "cell_type": "code",
      "metadata": {
        "colab": {
          "base_uri": "https://localhost:8080/",
          "height": 275
        },
        "id": "yIIr0wrR0fXk",
        "outputId": "5bbb8faf-c6ae-4ea6-ddd2-0db14ced562d"
      },
      "source": [
        "X=data_train.loc[:,['Total_Stops', 'Price', 'Journey_day', 'Journey_month', 'Dep_hour',\n",
        "       'Dep_min', 'Arrival_hour', 'Arrival_min', 'Duration_hours',\n",
        "       'Duration_mins', 'Air India', 'GoAir', 'IndiGo', 'Jet Airways',\n",
        "       'Jet Airways Business', 'Multiple carriers',\n",
        "       'Multiple carriers Premium economy', 'SpiceJet', 'Trujet', 'Vistara',\n",
        "       'Vistara Premium economy', 'Chennai', 'Delhi', 'Kolkata', 'Mumbai',\n",
        "       'Cochin', 'Delhi', 'Hyderabad', 'Kolkata', 'New Delhi']]\n",
        "X.head()      "
      ],
      "execution_count": null,
      "outputs": [
        {
          "output_type": "execute_result",
          "data": {
            "text/html": [
              "<div>\n",
              "<style scoped>\n",
              "    .dataframe tbody tr th:only-of-type {\n",
              "        vertical-align: middle;\n",
              "    }\n",
              "\n",
              "    .dataframe tbody tr th {\n",
              "        vertical-align: top;\n",
              "    }\n",
              "\n",
              "    .dataframe thead th {\n",
              "        text-align: right;\n",
              "    }\n",
              "</style>\n",
              "<table border=\"1\" class=\"dataframe\">\n",
              "  <thead>\n",
              "    <tr style=\"text-align: right;\">\n",
              "      <th></th>\n",
              "      <th>Total_Stops</th>\n",
              "      <th>Price</th>\n",
              "      <th>Journey_day</th>\n",
              "      <th>Journey_month</th>\n",
              "      <th>Dep_hour</th>\n",
              "      <th>Dep_min</th>\n",
              "      <th>Arrival_hour</th>\n",
              "      <th>Arrival_min</th>\n",
              "      <th>Duration_hours</th>\n",
              "      <th>Duration_mins</th>\n",
              "      <th>Air India</th>\n",
              "      <th>GoAir</th>\n",
              "      <th>IndiGo</th>\n",
              "      <th>Jet Airways</th>\n",
              "      <th>Jet Airways Business</th>\n",
              "      <th>Multiple carriers</th>\n",
              "      <th>Multiple carriers Premium economy</th>\n",
              "      <th>SpiceJet</th>\n",
              "      <th>Trujet</th>\n",
              "      <th>Vistara</th>\n",
              "      <th>Vistara Premium economy</th>\n",
              "      <th>Chennai</th>\n",
              "      <th>Delhi</th>\n",
              "      <th>Delhi</th>\n",
              "      <th>Kolkata</th>\n",
              "      <th>Kolkata</th>\n",
              "      <th>Mumbai</th>\n",
              "      <th>Cochin</th>\n",
              "      <th>Delhi</th>\n",
              "      <th>Delhi</th>\n",
              "      <th>Hyderabad</th>\n",
              "      <th>Kolkata</th>\n",
              "      <th>Kolkata</th>\n",
              "      <th>New Delhi</th>\n",
              "    </tr>\n",
              "  </thead>\n",
              "  <tbody>\n",
              "    <tr>\n",
              "      <th>0</th>\n",
              "      <td>0</td>\n",
              "      <td>3897</td>\n",
              "      <td>24</td>\n",
              "      <td>3</td>\n",
              "      <td>22</td>\n",
              "      <td>20</td>\n",
              "      <td>1</td>\n",
              "      <td>10</td>\n",
              "      <td>2</td>\n",
              "      <td>50</td>\n",
              "      <td>0</td>\n",
              "      <td>0</td>\n",
              "      <td>1</td>\n",
              "      <td>0</td>\n",
              "      <td>0</td>\n",
              "      <td>0</td>\n",
              "      <td>0</td>\n",
              "      <td>0</td>\n",
              "      <td>0</td>\n",
              "      <td>0</td>\n",
              "      <td>0</td>\n",
              "      <td>0</td>\n",
              "      <td>0</td>\n",
              "      <td>0</td>\n",
              "      <td>0</td>\n",
              "      <td>0</td>\n",
              "      <td>0</td>\n",
              "      <td>0</td>\n",
              "      <td>0</td>\n",
              "      <td>0</td>\n",
              "      <td>0</td>\n",
              "      <td>0</td>\n",
              "      <td>0</td>\n",
              "      <td>1</td>\n",
              "    </tr>\n",
              "    <tr>\n",
              "      <th>1</th>\n",
              "      <td>2</td>\n",
              "      <td>7662</td>\n",
              "      <td>1</td>\n",
              "      <td>5</td>\n",
              "      <td>5</td>\n",
              "      <td>50</td>\n",
              "      <td>13</td>\n",
              "      <td>15</td>\n",
              "      <td>7</td>\n",
              "      <td>25</td>\n",
              "      <td>1</td>\n",
              "      <td>0</td>\n",
              "      <td>0</td>\n",
              "      <td>0</td>\n",
              "      <td>0</td>\n",
              "      <td>0</td>\n",
              "      <td>0</td>\n",
              "      <td>0</td>\n",
              "      <td>0</td>\n",
              "      <td>0</td>\n",
              "      <td>0</td>\n",
              "      <td>0</td>\n",
              "      <td>0</td>\n",
              "      <td>0</td>\n",
              "      <td>1</td>\n",
              "      <td>0</td>\n",
              "      <td>0</td>\n",
              "      <td>0</td>\n",
              "      <td>0</td>\n",
              "      <td>0</td>\n",
              "      <td>0</td>\n",
              "      <td>1</td>\n",
              "      <td>0</td>\n",
              "      <td>0</td>\n",
              "    </tr>\n",
              "    <tr>\n",
              "      <th>2</th>\n",
              "      <td>2</td>\n",
              "      <td>13882</td>\n",
              "      <td>9</td>\n",
              "      <td>6</td>\n",
              "      <td>9</td>\n",
              "      <td>25</td>\n",
              "      <td>4</td>\n",
              "      <td>25</td>\n",
              "      <td>19</td>\n",
              "      <td>0</td>\n",
              "      <td>0</td>\n",
              "      <td>0</td>\n",
              "      <td>0</td>\n",
              "      <td>1</td>\n",
              "      <td>0</td>\n",
              "      <td>0</td>\n",
              "      <td>0</td>\n",
              "      <td>0</td>\n",
              "      <td>0</td>\n",
              "      <td>0</td>\n",
              "      <td>0</td>\n",
              "      <td>0</td>\n",
              "      <td>1</td>\n",
              "      <td>0</td>\n",
              "      <td>0</td>\n",
              "      <td>0</td>\n",
              "      <td>0</td>\n",
              "      <td>1</td>\n",
              "      <td>1</td>\n",
              "      <td>0</td>\n",
              "      <td>0</td>\n",
              "      <td>0</td>\n",
              "      <td>0</td>\n",
              "      <td>0</td>\n",
              "    </tr>\n",
              "    <tr>\n",
              "      <th>3</th>\n",
              "      <td>1</td>\n",
              "      <td>6218</td>\n",
              "      <td>12</td>\n",
              "      <td>5</td>\n",
              "      <td>18</td>\n",
              "      <td>5</td>\n",
              "      <td>23</td>\n",
              "      <td>30</td>\n",
              "      <td>5</td>\n",
              "      <td>25</td>\n",
              "      <td>0</td>\n",
              "      <td>0</td>\n",
              "      <td>1</td>\n",
              "      <td>0</td>\n",
              "      <td>0</td>\n",
              "      <td>0</td>\n",
              "      <td>0</td>\n",
              "      <td>0</td>\n",
              "      <td>0</td>\n",
              "      <td>0</td>\n",
              "      <td>0</td>\n",
              "      <td>0</td>\n",
              "      <td>0</td>\n",
              "      <td>0</td>\n",
              "      <td>1</td>\n",
              "      <td>0</td>\n",
              "      <td>0</td>\n",
              "      <td>0</td>\n",
              "      <td>0</td>\n",
              "      <td>0</td>\n",
              "      <td>0</td>\n",
              "      <td>1</td>\n",
              "      <td>0</td>\n",
              "      <td>0</td>\n",
              "    </tr>\n",
              "    <tr>\n",
              "      <th>4</th>\n",
              "      <td>1</td>\n",
              "      <td>13302</td>\n",
              "      <td>1</td>\n",
              "      <td>3</td>\n",
              "      <td>16</td>\n",
              "      <td>50</td>\n",
              "      <td>21</td>\n",
              "      <td>35</td>\n",
              "      <td>4</td>\n",
              "      <td>45</td>\n",
              "      <td>0</td>\n",
              "      <td>0</td>\n",
              "      <td>1</td>\n",
              "      <td>0</td>\n",
              "      <td>0</td>\n",
              "      <td>0</td>\n",
              "      <td>0</td>\n",
              "      <td>0</td>\n",
              "      <td>0</td>\n",
              "      <td>0</td>\n",
              "      <td>0</td>\n",
              "      <td>0</td>\n",
              "      <td>0</td>\n",
              "      <td>0</td>\n",
              "      <td>0</td>\n",
              "      <td>0</td>\n",
              "      <td>0</td>\n",
              "      <td>0</td>\n",
              "      <td>0</td>\n",
              "      <td>0</td>\n",
              "      <td>0</td>\n",
              "      <td>0</td>\n",
              "      <td>0</td>\n",
              "      <td>1</td>\n",
              "    </tr>\n",
              "  </tbody>\n",
              "</table>\n",
              "</div>"
            ],
            "text/plain": [
              "   Total_Stops  Price  Journey_day  Journey_month  Dep_hour  Dep_min  \\\n",
              "0            0   3897           24              3        22       20   \n",
              "1            2   7662            1              5         5       50   \n",
              "2            2  13882            9              6         9       25   \n",
              "3            1   6218           12              5        18        5   \n",
              "4            1  13302            1              3        16       50   \n",
              "\n",
              "   Arrival_hour  Arrival_min  Duration_hours  Duration_mins  Air India  GoAir  \\\n",
              "0             1           10               2             50          0      0   \n",
              "1            13           15               7             25          1      0   \n",
              "2             4           25              19              0          0      0   \n",
              "3            23           30               5             25          0      0   \n",
              "4            21           35               4             45          0      0   \n",
              "\n",
              "   IndiGo  Jet Airways  Jet Airways Business  Multiple carriers  \\\n",
              "0       1            0                     0                  0   \n",
              "1       0            0                     0                  0   \n",
              "2       0            1                     0                  0   \n",
              "3       1            0                     0                  0   \n",
              "4       1            0                     0                  0   \n",
              "\n",
              "   Multiple carriers Premium economy  SpiceJet  Trujet  Vistara  \\\n",
              "0                                  0         0       0        0   \n",
              "1                                  0         0       0        0   \n",
              "2                                  0         0       0        0   \n",
              "3                                  0         0       0        0   \n",
              "4                                  0         0       0        0   \n",
              "\n",
              "   Vistara Premium economy  Chennai  Delhi  Delhi  Kolkata  Kolkata  Mumbai  \\\n",
              "0                        0        0      0      0        0        0       0   \n",
              "1                        0        0      0      0        1        0       0   \n",
              "2                        0        0      1      0        0        0       0   \n",
              "3                        0        0      0      0        1        0       0   \n",
              "4                        0        0      0      0        0        0       0   \n",
              "\n",
              "   Cochin  Delhi  Delhi  Hyderabad  Kolkata  Kolkata  New Delhi  \n",
              "0       0      0      0          0        0        0          1  \n",
              "1       0      0      0          0        1        0          0  \n",
              "2       1      1      0          0        0        0          0  \n",
              "3       0      0      0          0        1        0          0  \n",
              "4       0      0      0          0        0        0          1  "
            ]
          },
          "metadata": {
            "tags": []
          },
          "execution_count": 174
        }
      ]
    },
    {
      "cell_type": "code",
      "metadata": {
        "colab": {
          "base_uri": "https://localhost:8080/"
        },
        "id": "KmB1mJor1OFR",
        "outputId": "7c39fd36-d993-4341-c6b5-e1ae7c6c3ca8"
      },
      "source": [
        "y=data_train.iloc[:,1]\n",
        "y.head()"
      ],
      "execution_count": null,
      "outputs": [
        {
          "output_type": "execute_result",
          "data": {
            "text/plain": [
              "0     3897\n",
              "1     7662\n",
              "2    13882\n",
              "3     6218\n",
              "4    13302\n",
              "Name: Price, dtype: int64"
            ]
          },
          "metadata": {
            "tags": []
          },
          "execution_count": 175
        }
      ]
    },
    {
      "cell_type": "code",
      "metadata": {
        "colab": {
          "base_uri": "https://localhost:8080/",
          "height": 1000
        },
        "id": "Fo32xABs1dXu",
        "outputId": "3e307044-450a-4f4b-91d4-d2b7ee731efd"
      },
      "source": [
        "plt.figure(figsize=(18,18))\n",
        "sns.heatmap(train_data.corr(),annot=True,cmap='RdYlGn')\n",
        "\n",
        "plt.show()"
      ],
      "execution_count": null,
      "outputs": [
        {
          "output_type": "display_data",
          "data": {
            "image/png": "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\n",
            "text/plain": [
              "<Figure size 1296x1296 with 2 Axes>"
            ]
          },
          "metadata": {
            "tags": []
          }
        }
      ]
    },
    {
      "cell_type": "code",
      "metadata": {
        "colab": {
          "base_uri": "https://localhost:8080/"
        },
        "id": "iO6tnhSR7AY0",
        "outputId": "fad3bc45-230f-48a1-ce53-1c2facf51a8f"
      },
      "source": [
        "!pip install emlearn"
      ],
      "execution_count": null,
      "outputs": [
        {
          "output_type": "stream",
          "text": [
            "Requirement already satisfied: emlearn in /usr/local/lib/python3.7/dist-packages (0.12.2)\n",
            "Requirement already satisfied: pybind11>=2.2 in /usr/local/lib/python3.7/dist-packages (from emlearn) (2.6.2)\n",
            "Requirement already satisfied: numpy>=1.14.0 in /usr/local/lib/python3.7/dist-packages (from emlearn) (1.19.5)\n"
          ],
          "name": "stdout"
        }
      ]
    },
    {
      "cell_type": "code",
      "metadata": {
        "colab": {
          "base_uri": "https://localhost:8080/"
        },
        "id": "f9VpDc6z1wLn",
        "outputId": "5b28c675-8b5f-4698-ccdc-475598661931"
      },
      "source": [
        "from sklearn.ensemble import  ExtraTreesRegressor\n",
        "selection=ExtraTreesRegressor()\n",
        "selection.fit(X,y)"
      ],
      "execution_count": null,
      "outputs": [
        {
          "output_type": "execute_result",
          "data": {
            "text/plain": [
              "ExtraTreesRegressor(bootstrap=False, ccp_alpha=0.0, criterion='mse',\n",
              "                    max_depth=None, max_features='auto', max_leaf_nodes=None,\n",
              "                    max_samples=None, min_impurity_decrease=0.0,\n",
              "                    min_impurity_split=None, min_samples_leaf=1,\n",
              "                    min_samples_split=2, min_weight_fraction_leaf=0.0,\n",
              "                    n_estimators=100, n_jobs=None, oob_score=False,\n",
              "                    random_state=None, verbose=0, warm_start=False)"
            ]
          },
          "metadata": {
            "tags": []
          },
          "execution_count": 178
        }
      ]
    },
    {
      "cell_type": "code",
      "metadata": {
        "colab": {
          "base_uri": "https://localhost:8080/"
        },
        "id": "zFtU5ARE3zoT",
        "outputId": "a25c1c05-cf21-45ce-852c-93425969fadc"
      },
      "source": [
        "print(selection.feature_importances_)"
      ],
      "execution_count": null,
      "outputs": [
        {
          "output_type": "stream",
          "text": [
            "[1.61175636e-01 6.07812768e-01 4.10094234e-03 1.77447433e-03\n",
            " 1.38502620e-04 1.40344497e-04 4.03884897e-04 1.53148831e-04\n",
            " 7.05907871e-02 3.62286091e-04 9.35388643e-04 7.87142788e-06\n",
            " 6.21549708e-03 8.89938622e-02 3.05962252e-02 3.12259618e-03\n",
            " 7.07485883e-08 2.48479005e-04 7.86575504e-10 3.59282230e-04\n",
            " 5.62753084e-07 1.52406147e-05 2.63735305e-03 2.43852436e-03\n",
            " 1.52333838e-04 1.39235144e-05 9.30126197e-04 3.06401585e-03\n",
            " 4.70111996e-03 2.13780331e-03 1.59864416e-03 2.02822012e-04\n",
            " 8.29334319e-06 4.96718897e-03]\n"
          ],
          "name": "stdout"
        }
      ]
    },
    {
      "cell_type": "code",
      "metadata": {
        "colab": {
          "base_uri": "https://localhost:8080/",
          "height": 485
        },
        "id": "HB6mNTrQ8USn",
        "outputId": "73ee191f-e9b2-4e2b-ea8b-0543be9f8c2d"
      },
      "source": [
        "plt.figure(figsize = (12,8))\n",
        "feat_importances = pd.Series(selection.feature_importances_, index=X.columns)\n",
        "feat_importances.nlargest(20).plot(kind='barh')\n",
        "plt.show()\n"
      ],
      "execution_count": null,
      "outputs": [
        {
          "output_type": "display_data",
          "data": {
            "image/png": "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\n",
            "text/plain": [
              "<Figure size 864x576 with 1 Axes>"
            ]
          },
          "metadata": {
            "tags": []
          }
        }
      ]
    },
    {
      "cell_type": "markdown",
      "metadata": {
        "id": "isB9DJZf8nS3"
      },
      "source": [
        "**Fitting Model using Randomforest**"
      ]
    },
    {
      "cell_type": "code",
      "metadata": {
        "id": "a5dE3J9sMZfJ"
      },
      "source": [
        "from sklearn.model_selection import train_test_split\n",
        "X_train, X_test, y_train, y_test = train_test_split(X, y, test_size = 0.3, random_state = 42)"
      ],
      "execution_count": null,
      "outputs": []
    },
    {
      "cell_type": "code",
      "metadata": {
        "colab": {
          "base_uri": "https://localhost:8080/"
        },
        "id": "WWFRkwi3Mpto",
        "outputId": "6c6a3bb2-4c80-49c1-829a-7e5e7f5c1525"
      },
      "source": [
        "print(X_train.shape)\n",
        "print(y_train.shape)"
      ],
      "execution_count": null,
      "outputs": [
        {
          "output_type": "stream",
          "text": [
            "(7477, 34)\n",
            "(7477,)\n"
          ],
          "name": "stdout"
        }
      ]
    },
    {
      "cell_type": "code",
      "metadata": {
        "colab": {
          "base_uri": "https://localhost:8080/"
        },
        "id": "70RI3FElBtqA",
        "outputId": "a2643fbc-a45d-4e71-8fe9-344c9ce2b649"
      },
      "source": [
        "\n",
        "from sklearn.ensemble import RandomForestRegressor\n",
        "reg_rf = RandomForestRegressor()\n",
        "reg_rf.fit(X_train,y_train)"
      ],
      "execution_count": null,
      "outputs": [
        {
          "output_type": "execute_result",
          "data": {
            "text/plain": [
              "RandomForestRegressor(bootstrap=True, ccp_alpha=0.0, criterion='mse',\n",
              "                      max_depth=None, max_features='auto', max_leaf_nodes=None,\n",
              "                      max_samples=None, min_impurity_decrease=0.0,\n",
              "                      min_impurity_split=None, min_samples_leaf=1,\n",
              "                      min_samples_split=2, min_weight_fraction_leaf=0.0,\n",
              "                      n_estimators=100, n_jobs=None, oob_score=False,\n",
              "                      random_state=None, verbose=0, warm_start=False)"
            ]
          },
          "metadata": {
            "tags": []
          },
          "execution_count": 183
        }
      ]
    },
    {
      "cell_type": "code",
      "metadata": {
        "id": "6X2FnHXtHCez"
      },
      "source": [
        "\n",
        "y_pred = reg_rf.predict(X_test)"
      ],
      "execution_count": null,
      "outputs": []
    },
    {
      "cell_type": "code",
      "metadata": {
        "colab": {
          "base_uri": "https://localhost:8080/"
        },
        "id": "5RMtGQ2AB8X1",
        "outputId": "d39ad845-aac5-4a3b-eab0-ec92e4000f98"
      },
      "source": [
        "#Score over Traindata\n",
        "reg_rf.score(X_train, y_train)"
      ],
      "execution_count": null,
      "outputs": [
        {
          "output_type": "execute_result",
          "data": {
            "text/plain": [
              "0.9992921616066897"
            ]
          },
          "metadata": {
            "tags": []
          },
          "execution_count": 185
        }
      ]
    },
    {
      "cell_type": "code",
      "metadata": {
        "colab": {
          "base_uri": "https://localhost:8080/"
        },
        "id": "fk_vx7SODrq3",
        "outputId": "eab5a895-a32e-4b8a-fdc9-7f9a34ad47b9"
      },
      "source": [
        "#Score over Testdata\n",
        "reg_rf.score(X_test, y_test)"
      ],
      "execution_count": null,
      "outputs": [
        {
          "output_type": "execute_result",
          "data": {
            "text/plain": [
              "0.9996114221611445"
            ]
          },
          "metadata": {
            "tags": []
          },
          "execution_count": 186
        }
      ]
    },
    {
      "cell_type": "code",
      "metadata": {
        "colab": {
          "base_uri": "https://localhost:8080/",
          "height": 339
        },
        "id": "FLGFJ7U1NV3W",
        "outputId": "0caed856-ef00-406a-a4f9-935c2b0c3085"
      },
      "source": [
        "sns.distplot(y_test-y_pred)\n",
        "plt.show()"
      ],
      "execution_count": null,
      "outputs": [
        {
          "output_type": "stream",
          "text": [
            "/usr/local/lib/python3.7/dist-packages/seaborn/distributions.py:2557: FutureWarning: `distplot` is a deprecated function and will be removed in a future version. Please adapt your code to use either `displot` (a figure-level function with similar flexibility) or `histplot` (an axes-level function for histograms).\n",
            "  warnings.warn(msg, FutureWarning)\n"
          ],
          "name": "stderr"
        },
        {
          "output_type": "display_data",
          "data": {
            "image/png": "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\n",
            "text/plain": [
              "<Figure size 432x288 with 1 Axes>"
            ]
          },
          "metadata": {
            "tags": []
          }
        }
      ]
    },
    {
      "cell_type": "code",
      "metadata": {
        "colab": {
          "base_uri": "https://localhost:8080/",
          "height": 285
        },
        "id": "kESq5fDkNgWz",
        "outputId": "66e1488a-faf2-4350-c499-dc04635f0034"
      },
      "source": [
        "plt.scatter(y_test, y_pred, alpha = 0.5)\n",
        "plt.xlabel(\"y_test\")\n",
        "plt.ylabel(\"y_pred\")\n",
        "plt.show()"
      ],
      "execution_count": null,
      "outputs": [
        {
          "output_type": "display_data",
          "data": {
            "image/png": "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\n",
            "text/plain": [
              "<Figure size 432x288 with 1 Axes>"
            ]
          },
          "metadata": {
            "tags": []
          }
        }
      ]
    },
    {
      "cell_type": "code",
      "metadata": {
        "id": "rFWNpOPqNoFZ"
      },
      "source": [
        "from sklearn import metrics"
      ],
      "execution_count": null,
      "outputs": []
    },
    {
      "cell_type": "code",
      "metadata": {
        "colab": {
          "base_uri": "https://localhost:8080/"
        },
        "id": "FCHC5KzZNsHn",
        "outputId": "e3a3791f-0c5f-47ee-b648-04be245fb27b"
      },
      "source": [
        "print('MAE:', metrics.mean_absolute_error(y_test, y_pred))\n",
        "print('MSE:', metrics.mean_squared_error(y_test, y_pred))\n",
        "print('RMSE:', np.sqrt(metrics.mean_squared_error(y_test, y_pred)))"
      ],
      "execution_count": null,
      "outputs": [
        {
          "output_type": "stream",
          "text": [
            "MAE: 4.370873634945405\n",
            "MSE: 7927.347960842434\n",
            "RMSE: 89.035655559121\n"
          ],
          "name": "stdout"
        }
      ]
    },
    {
      "cell_type": "code",
      "metadata": {
        "colab": {
          "base_uri": "https://localhost:8080/"
        },
        "id": "4w6uAHAJNun-",
        "outputId": "1631f7ad-2dfb-4b97-d6bf-4e4909ed1015"
      },
      "source": [
        "\n",
        "metrics.r2_score(y_test, y_pred)"
      ],
      "execution_count": null,
      "outputs": [
        {
          "output_type": "execute_result",
          "data": {
            "text/plain": [
              "0.9996114221611445"
            ]
          },
          "metadata": {
            "tags": []
          },
          "execution_count": 191
        }
      ]
    },
    {
      "cell_type": "markdown",
      "metadata": {
        "id": "7d6Nv0C8QuPQ"
      },
      "source": [
        "**Hyperparameter Tuning**"
      ]
    },
    {
      "cell_type": "code",
      "metadata": {
        "id": "iZ9VSIYaN5nx"
      },
      "source": [
        "from sklearn.model_selection import RandomizedSearchCV\n"
      ],
      "execution_count": null,
      "outputs": []
    },
    {
      "cell_type": "code",
      "metadata": {
        "id": "_7Wyo5u0Q_QC"
      },
      "source": [
        "#Randomized Search CV\n",
        "\n",
        "# Number of trees in random forest\n",
        "n_estimators = [int(x) for x in np.linspace(start = 100, stop = 1200, num = 12)]\n",
        "# Number of features to consider at every split\n",
        "max_features = ['auto', 'sqrt']\n",
        "# Maximum number of levels in tree\n",
        "max_depth = [int(x) for x in np.linspace(10, 100, num = 6)]\n",
        "# Minimum number of samples required to split a node\n",
        "min_samples_split = [2, 5, 10, 15, 100]\n",
        "# Minimum number of samples required at each leaf node\n",
        "min_samples_leaf = [1, 2, 5, 10]"
      ],
      "execution_count": null,
      "outputs": []
    },
    {
      "cell_type": "code",
      "metadata": {
        "id": "-7vc8OkvRAlE"
      },
      "source": [
        "#create random grid\n",
        "random_grid = {'n_estimators': n_estimators,\n",
        "               'max_features': max_features,\n",
        "               'max_depth': max_depth,\n",
        "               'min_samples_split': min_samples_split,\n",
        "               'min_samples_leaf': min_samples_leaf}"
      ],
      "execution_count": null,
      "outputs": []
    },
    {
      "cell_type": "code",
      "metadata": {
        "id": "CFQgmi9SRBPM"
      },
      "source": [
        "rf_random = RandomizedSearchCV(estimator = reg_rf, param_distributions = random_grid,scoring='neg_mean_squared_error', n_iter = 10, cv = 5, verbose=2, random_state=42, n_jobs = 1)"
      ],
      "execution_count": null,
      "outputs": []
    },
    {
      "cell_type": "code",
      "metadata": {
        "colab": {
          "background_save": true,
          "base_uri": "https://localhost:8080/"
        },
        "id": "8XvU6pf7RiDm",
        "outputId": "eace4a8e-adf7-4863-905b-df349c94b70c"
      },
      "source": [
        "rf_random.fit(X_train,y_train)"
      ],
      "execution_count": null,
      "outputs": [
        {
          "output_type": "stream",
          "text": [
            "Fitting 10 folds for each of 50 candidates, totalling 500 fits\n",
            "[CV] n_estimators=400, min_samples_split=100, min_samples_leaf=10, max_features=sqrt, max_depth=10 \n"
          ],
          "name": "stdout"
        },
        {
          "output_type": "stream",
          "text": [
            "[Parallel(n_jobs=1)]: Using backend SequentialBackend with 1 concurrent workers.\n"
          ],
          "name": "stderr"
        },
        {
          "output_type": "stream",
          "text": [
            "[CV]  n_estimators=400, min_samples_split=100, min_samples_leaf=10, max_features=sqrt, max_depth=10, total=   1.7s\n",
            "[CV] n_estimators=400, min_samples_split=100, min_samples_leaf=10, max_features=sqrt, max_depth=10 \n"
          ],
          "name": "stdout"
        },
        {
          "output_type": "stream",
          "text": [
            "[Parallel(n_jobs=1)]: Done   1 out of   1 | elapsed:    1.7s remaining:    0.0s\n"
          ],
          "name": "stderr"
        },
        {
          "output_type": "stream",
          "text": [
            "[CV]  n_estimators=400, min_samples_split=100, min_samples_leaf=10, max_features=sqrt, max_depth=10, total=   1.7s\n",
            "[CV] n_estimators=400, min_samples_split=100, min_samples_leaf=10, max_features=sqrt, max_depth=10 \n",
            "[CV]  n_estimators=400, min_samples_split=100, min_samples_leaf=10, max_features=sqrt, max_depth=10, total=   1.6s\n",
            "[CV] n_estimators=400, min_samples_split=100, min_samples_leaf=10, max_features=sqrt, max_depth=10 \n",
            "[CV]  n_estimators=400, min_samples_split=100, min_samples_leaf=10, max_features=sqrt, max_depth=10, total=   1.6s\n",
            "[CV] n_estimators=400, min_samples_split=100, min_samples_leaf=10, max_features=sqrt, max_depth=10 \n",
            "[CV]  n_estimators=400, min_samples_split=100, min_samples_leaf=10, max_features=sqrt, max_depth=10, total=   1.6s\n",
            "[CV] n_estimators=400, min_samples_split=100, min_samples_leaf=10, max_features=sqrt, max_depth=10 \n",
            "[CV]  n_estimators=400, min_samples_split=100, min_samples_leaf=10, max_features=sqrt, max_depth=10, total=   1.7s\n",
            "[CV] n_estimators=400, min_samples_split=100, min_samples_leaf=10, max_features=sqrt, max_depth=10 \n",
            "[CV]  n_estimators=400, min_samples_split=100, min_samples_leaf=10, max_features=sqrt, max_depth=10, total=   1.7s\n",
            "[CV] n_estimators=400, min_samples_split=100, min_samples_leaf=10, max_features=sqrt, max_depth=10 \n",
            "[CV]  n_estimators=400, min_samples_split=100, min_samples_leaf=10, max_features=sqrt, max_depth=10, total=   1.6s\n",
            "[CV] n_estimators=400, min_samples_split=100, min_samples_leaf=10, max_features=sqrt, max_depth=10 \n",
            "[CV]  n_estimators=400, min_samples_split=100, min_samples_leaf=10, max_features=sqrt, max_depth=10, total=   1.7s\n",
            "[CV] n_estimators=400, min_samples_split=100, min_samples_leaf=10, max_features=sqrt, max_depth=10 \n",
            "[CV]  n_estimators=400, min_samples_split=100, min_samples_leaf=10, max_features=sqrt, max_depth=10, total=   1.7s\n",
            "[CV] n_estimators=200, min_samples_split=5, min_samples_leaf=1, max_features=auto, max_depth=64 \n",
            "[CV]  n_estimators=200, min_samples_split=5, min_samples_leaf=1, max_features=auto, max_depth=64, total=   5.1s\n",
            "[CV] n_estimators=200, min_samples_split=5, min_samples_leaf=1, max_features=auto, max_depth=64 \n",
            "[CV]  n_estimators=200, min_samples_split=5, min_samples_leaf=1, max_features=auto, max_depth=64, total=   5.1s\n",
            "[CV] n_estimators=200, min_samples_split=5, min_samples_leaf=1, max_features=auto, max_depth=64 \n",
            "[CV]  n_estimators=200, min_samples_split=5, min_samples_leaf=1, max_features=auto, max_depth=64, total=   5.1s\n",
            "[CV] n_estimators=200, min_samples_split=5, min_samples_leaf=1, max_features=auto, max_depth=64 \n",
            "[CV]  n_estimators=200, min_samples_split=5, min_samples_leaf=1, max_features=auto, max_depth=64, total=   5.0s\n",
            "[CV] n_estimators=200, min_samples_split=5, min_samples_leaf=1, max_features=auto, max_depth=64 \n",
            "[CV]  n_estimators=200, min_samples_split=5, min_samples_leaf=1, max_features=auto, max_depth=64, total=   5.0s\n",
            "[CV] n_estimators=200, min_samples_split=5, min_samples_leaf=1, max_features=auto, max_depth=64 \n",
            "[CV]  n_estimators=200, min_samples_split=5, min_samples_leaf=1, max_features=auto, max_depth=64, total=   5.0s\n",
            "[CV] n_estimators=200, min_samples_split=5, min_samples_leaf=1, max_features=auto, max_depth=64 \n",
            "[CV]  n_estimators=200, min_samples_split=5, min_samples_leaf=1, max_features=auto, max_depth=64, total=   5.0s\n",
            "[CV] n_estimators=200, min_samples_split=5, min_samples_leaf=1, max_features=auto, max_depth=64 \n",
            "[CV]  n_estimators=200, min_samples_split=5, min_samples_leaf=1, max_features=auto, max_depth=64, total=   5.0s\n",
            "[CV] n_estimators=200, min_samples_split=5, min_samples_leaf=1, max_features=auto, max_depth=64 \n",
            "[CV]  n_estimators=200, min_samples_split=5, min_samples_leaf=1, max_features=auto, max_depth=64, total=   5.0s\n",
            "[CV] n_estimators=200, min_samples_split=5, min_samples_leaf=1, max_features=auto, max_depth=64 \n",
            "[CV]  n_estimators=200, min_samples_split=5, min_samples_leaf=1, max_features=auto, max_depth=64, total=   5.1s\n",
            "[CV] n_estimators=200, min_samples_split=15, min_samples_leaf=10, max_features=sqrt, max_depth=82 \n",
            "[CV]  n_estimators=200, min_samples_split=15, min_samples_leaf=10, max_features=sqrt, max_depth=82, total=   1.0s\n",
            "[CV] n_estimators=200, min_samples_split=15, min_samples_leaf=10, max_features=sqrt, max_depth=82 \n",
            "[CV]  n_estimators=200, min_samples_split=15, min_samples_leaf=10, max_features=sqrt, max_depth=82, total=   1.0s\n",
            "[CV] n_estimators=200, min_samples_split=15, min_samples_leaf=10, max_features=sqrt, max_depth=82 \n",
            "[CV]  n_estimators=200, min_samples_split=15, min_samples_leaf=10, max_features=sqrt, max_depth=82, total=   1.0s\n",
            "[CV] n_estimators=200, min_samples_split=15, min_samples_leaf=10, max_features=sqrt, max_depth=82 \n",
            "[CV]  n_estimators=200, min_samples_split=15, min_samples_leaf=10, max_features=sqrt, max_depth=82, total=   1.0s\n",
            "[CV] n_estimators=200, min_samples_split=15, min_samples_leaf=10, max_features=sqrt, max_depth=82 \n",
            "[CV]  n_estimators=200, min_samples_split=15, min_samples_leaf=10, max_features=sqrt, max_depth=82, total=   1.0s\n",
            "[CV] n_estimators=200, min_samples_split=15, min_samples_leaf=10, max_features=sqrt, max_depth=82 \n",
            "[CV]  n_estimators=200, min_samples_split=15, min_samples_leaf=10, max_features=sqrt, max_depth=82, total=   1.0s\n",
            "[CV] n_estimators=200, min_samples_split=15, min_samples_leaf=10, max_features=sqrt, max_depth=82 \n",
            "[CV]  n_estimators=200, min_samples_split=15, min_samples_leaf=10, max_features=sqrt, max_depth=82, total=   1.0s\n",
            "[CV] n_estimators=200, min_samples_split=15, min_samples_leaf=10, max_features=sqrt, max_depth=82 \n",
            "[CV]  n_estimators=200, min_samples_split=15, min_samples_leaf=10, max_features=sqrt, max_depth=82, total=   1.0s\n",
            "[CV] n_estimators=200, min_samples_split=15, min_samples_leaf=10, max_features=sqrt, max_depth=82 \n",
            "[CV]  n_estimators=200, min_samples_split=15, min_samples_leaf=10, max_features=sqrt, max_depth=82, total=   1.0s\n",
            "[CV] n_estimators=200, min_samples_split=15, min_samples_leaf=10, max_features=sqrt, max_depth=82 \n",
            "[CV]  n_estimators=200, min_samples_split=15, min_samples_leaf=10, max_features=sqrt, max_depth=82, total=   1.0s\n",
            "[CV] n_estimators=600, min_samples_split=15, min_samples_leaf=5, max_features=auto, max_depth=64 \n",
            "[CV]  n_estimators=600, min_samples_split=15, min_samples_leaf=5, max_features=auto, max_depth=64, total=  12.8s\n",
            "[CV] n_estimators=600, min_samples_split=15, min_samples_leaf=5, max_features=auto, max_depth=64 \n",
            "[CV]  n_estimators=600, min_samples_split=15, min_samples_leaf=5, max_features=auto, max_depth=64, total=  12.9s\n",
            "[CV] n_estimators=600, min_samples_split=15, min_samples_leaf=5, max_features=auto, max_depth=64 \n",
            "[CV]  n_estimators=600, min_samples_split=15, min_samples_leaf=5, max_features=auto, max_depth=64, total=  12.9s\n",
            "[CV] n_estimators=600, min_samples_split=15, min_samples_leaf=5, max_features=auto, max_depth=64 \n",
            "[CV]  n_estimators=600, min_samples_split=15, min_samples_leaf=5, max_features=auto, max_depth=64, total=  12.9s\n",
            "[CV] n_estimators=600, min_samples_split=15, min_samples_leaf=5, max_features=auto, max_depth=64 \n",
            "[CV]  n_estimators=600, min_samples_split=15, min_samples_leaf=5, max_features=auto, max_depth=64, total=  12.9s\n",
            "[CV] n_estimators=600, min_samples_split=15, min_samples_leaf=5, max_features=auto, max_depth=64 \n",
            "[CV]  n_estimators=600, min_samples_split=15, min_samples_leaf=5, max_features=auto, max_depth=64, total=  12.8s\n",
            "[CV] n_estimators=600, min_samples_split=15, min_samples_leaf=5, max_features=auto, max_depth=64 \n",
            "[CV]  n_estimators=600, min_samples_split=15, min_samples_leaf=5, max_features=auto, max_depth=64, total=  12.9s\n",
            "[CV] n_estimators=600, min_samples_split=15, min_samples_leaf=5, max_features=auto, max_depth=64 \n",
            "[CV]  n_estimators=600, min_samples_split=15, min_samples_leaf=5, max_features=auto, max_depth=64, total=  12.8s\n",
            "[CV] n_estimators=600, min_samples_split=15, min_samples_leaf=5, max_features=auto, max_depth=64 \n",
            "[CV]  n_estimators=600, min_samples_split=15, min_samples_leaf=5, max_features=auto, max_depth=64, total=  12.8s\n",
            "[CV] n_estimators=600, min_samples_split=15, min_samples_leaf=5, max_features=auto, max_depth=64 \n",
            "[CV]  n_estimators=600, min_samples_split=15, min_samples_leaf=5, max_features=auto, max_depth=64, total=  12.9s\n",
            "[CV] n_estimators=300, min_samples_split=5, min_samples_leaf=5, max_features=auto, max_depth=46 \n",
            "[CV]  n_estimators=300, min_samples_split=5, min_samples_leaf=5, max_features=auto, max_depth=46, total=   6.7s\n",
            "[CV] n_estimators=300, min_samples_split=5, min_samples_leaf=5, max_features=auto, max_depth=46 \n",
            "[CV]  n_estimators=300, min_samples_split=5, min_samples_leaf=5, max_features=auto, max_depth=46, total=   6.8s\n",
            "[CV] n_estimators=300, min_samples_split=5, min_samples_leaf=5, max_features=auto, max_depth=46 \n",
            "[CV]  n_estimators=300, min_samples_split=5, min_samples_leaf=5, max_features=auto, max_depth=46, total=   6.7s\n",
            "[CV] n_estimators=300, min_samples_split=5, min_samples_leaf=5, max_features=auto, max_depth=46 \n",
            "[CV]  n_estimators=300, min_samples_split=5, min_samples_leaf=5, max_features=auto, max_depth=46, total=   6.7s\n",
            "[CV] n_estimators=300, min_samples_split=5, min_samples_leaf=5, max_features=auto, max_depth=46 \n",
            "[CV]  n_estimators=300, min_samples_split=5, min_samples_leaf=5, max_features=auto, max_depth=46, total=   6.7s\n",
            "[CV] n_estimators=300, min_samples_split=5, min_samples_leaf=5, max_features=auto, max_depth=46 \n",
            "[CV]  n_estimators=300, min_samples_split=5, min_samples_leaf=5, max_features=auto, max_depth=46, total=   6.8s\n",
            "[CV] n_estimators=300, min_samples_split=5, min_samples_leaf=5, max_features=auto, max_depth=46 \n",
            "[CV]  n_estimators=300, min_samples_split=5, min_samples_leaf=5, max_features=auto, max_depth=46, total=   6.7s\n",
            "[CV] n_estimators=300, min_samples_split=5, min_samples_leaf=5, max_features=auto, max_depth=46 \n",
            "[CV]  n_estimators=300, min_samples_split=5, min_samples_leaf=5, max_features=auto, max_depth=46, total=   6.7s\n",
            "[CV] n_estimators=300, min_samples_split=5, min_samples_leaf=5, max_features=auto, max_depth=46 \n",
            "[CV]  n_estimators=300, min_samples_split=5, min_samples_leaf=5, max_features=auto, max_depth=46, total=   6.7s\n",
            "[CV] n_estimators=300, min_samples_split=5, min_samples_leaf=5, max_features=auto, max_depth=46 \n",
            "[CV]  n_estimators=300, min_samples_split=5, min_samples_leaf=5, max_features=auto, max_depth=46, total=   6.7s\n",
            "[CV] n_estimators=800, min_samples_split=100, min_samples_leaf=1, max_features=sqrt, max_depth=46 \n",
            "[CV]  n_estimators=800, min_samples_split=100, min_samples_leaf=1, max_features=sqrt, max_depth=46, total=   3.5s\n",
            "[CV] n_estimators=800, min_samples_split=100, min_samples_leaf=1, max_features=sqrt, max_depth=46 \n",
            "[CV]  n_estimators=800, min_samples_split=100, min_samples_leaf=1, max_features=sqrt, max_depth=46, total=   3.5s\n",
            "[CV] n_estimators=800, min_samples_split=100, min_samples_leaf=1, max_features=sqrt, max_depth=46 \n",
            "[CV]  n_estimators=800, min_samples_split=100, min_samples_leaf=1, max_features=sqrt, max_depth=46, total=   3.5s\n",
            "[CV] n_estimators=800, min_samples_split=100, min_samples_leaf=1, max_features=sqrt, max_depth=46 \n",
            "[CV]  n_estimators=800, min_samples_split=100, min_samples_leaf=1, max_features=sqrt, max_depth=46, total=   3.5s\n",
            "[CV] n_estimators=800, min_samples_split=100, min_samples_leaf=1, max_features=sqrt, max_depth=46 \n",
            "[CV]  n_estimators=800, min_samples_split=100, min_samples_leaf=1, max_features=sqrt, max_depth=46, total=   3.5s\n",
            "[CV] n_estimators=800, min_samples_split=100, min_samples_leaf=1, max_features=sqrt, max_depth=46 \n",
            "[CV]  n_estimators=800, min_samples_split=100, min_samples_leaf=1, max_features=sqrt, max_depth=46, total=   3.5s\n",
            "[CV] n_estimators=800, min_samples_split=100, min_samples_leaf=1, max_features=sqrt, max_depth=46 \n",
            "[CV]  n_estimators=800, min_samples_split=100, min_samples_leaf=1, max_features=sqrt, max_depth=46, total=   3.5s\n",
            "[CV] n_estimators=800, min_samples_split=100, min_samples_leaf=1, max_features=sqrt, max_depth=46 \n",
            "[CV]  n_estimators=800, min_samples_split=100, min_samples_leaf=1, max_features=sqrt, max_depth=46, total=   3.5s\n",
            "[CV] n_estimators=800, min_samples_split=100, min_samples_leaf=1, max_features=sqrt, max_depth=46 \n",
            "[CV]  n_estimators=800, min_samples_split=100, min_samples_leaf=1, max_features=sqrt, max_depth=46, total=   3.5s\n",
            "[CV] n_estimators=800, min_samples_split=100, min_samples_leaf=1, max_features=sqrt, max_depth=46 \n",
            "[CV]  n_estimators=800, min_samples_split=100, min_samples_leaf=1, max_features=sqrt, max_depth=46, total=   3.5s\n",
            "[CV] n_estimators=100, min_samples_split=100, min_samples_leaf=5, max_features=auto, max_depth=46 \n",
            "[CV]  n_estimators=100, min_samples_split=100, min_samples_leaf=5, max_features=auto, max_depth=46, total=   1.5s\n",
            "[CV] n_estimators=100, min_samples_split=100, min_samples_leaf=5, max_features=auto, max_depth=46 \n",
            "[CV]  n_estimators=100, min_samples_split=100, min_samples_leaf=5, max_features=auto, max_depth=46, total=   1.5s\n",
            "[CV] n_estimators=100, min_samples_split=100, min_samples_leaf=5, max_features=auto, max_depth=46 \n",
            "[CV]  n_estimators=100, min_samples_split=100, min_samples_leaf=5, max_features=auto, max_depth=46, total=   1.5s\n",
            "[CV] n_estimators=100, min_samples_split=100, min_samples_leaf=5, max_features=auto, max_depth=46 \n",
            "[CV]  n_estimators=100, min_samples_split=100, min_samples_leaf=5, max_features=auto, max_depth=46, total=   1.5s\n",
            "[CV] n_estimators=100, min_samples_split=100, min_samples_leaf=5, max_features=auto, max_depth=46 \n",
            "[CV]  n_estimators=100, min_samples_split=100, min_samples_leaf=5, max_features=auto, max_depth=46, total=   1.5s\n",
            "[CV] n_estimators=100, min_samples_split=100, min_samples_leaf=5, max_features=auto, max_depth=46 \n",
            "[CV]  n_estimators=100, min_samples_split=100, min_samples_leaf=5, max_features=auto, max_depth=46, total=   1.5s\n",
            "[CV] n_estimators=100, min_samples_split=100, min_samples_leaf=5, max_features=auto, max_depth=46 \n",
            "[CV]  n_estimators=100, min_samples_split=100, min_samples_leaf=5, max_features=auto, max_depth=46, total=   1.5s\n",
            "[CV] n_estimators=100, min_samples_split=100, min_samples_leaf=5, max_features=auto, max_depth=46 \n",
            "[CV]  n_estimators=100, min_samples_split=100, min_samples_leaf=5, max_features=auto, max_depth=46, total=   1.5s\n",
            "[CV] n_estimators=100, min_samples_split=100, min_samples_leaf=5, max_features=auto, max_depth=46 \n",
            "[CV]  n_estimators=100, min_samples_split=100, min_samples_leaf=5, max_features=auto, max_depth=46, total=   1.5s\n",
            "[CV] n_estimators=100, min_samples_split=100, min_samples_leaf=5, max_features=auto, max_depth=46 \n",
            "[CV]  n_estimators=100, min_samples_split=100, min_samples_leaf=5, max_features=auto, max_depth=46, total=   1.5s\n",
            "[CV] n_estimators=900, min_samples_split=10, min_samples_leaf=2, max_features=sqrt, max_depth=82 \n",
            "[CV]  n_estimators=900, min_samples_split=10, min_samples_leaf=2, max_features=sqrt, max_depth=82, total=   5.7s\n",
            "[CV] n_estimators=900, min_samples_split=10, min_samples_leaf=2, max_features=sqrt, max_depth=82 \n",
            "[CV]  n_estimators=900, min_samples_split=10, min_samples_leaf=2, max_features=sqrt, max_depth=82, total=   5.6s\n",
            "[CV] n_estimators=900, min_samples_split=10, min_samples_leaf=2, max_features=sqrt, max_depth=82 \n",
            "[CV]  n_estimators=900, min_samples_split=10, min_samples_leaf=2, max_features=sqrt, max_depth=82, total=   5.6s\n",
            "[CV] n_estimators=900, min_samples_split=10, min_samples_leaf=2, max_features=sqrt, max_depth=82 \n",
            "[CV]  n_estimators=900, min_samples_split=10, min_samples_leaf=2, max_features=sqrt, max_depth=82, total=   5.7s\n",
            "[CV] n_estimators=900, min_samples_split=10, min_samples_leaf=2, max_features=sqrt, max_depth=82 \n",
            "[CV]  n_estimators=900, min_samples_split=10, min_samples_leaf=2, max_features=sqrt, max_depth=82, total=   5.6s\n",
            "[CV] n_estimators=900, min_samples_split=10, min_samples_leaf=2, max_features=sqrt, max_depth=82 \n",
            "[CV]  n_estimators=900, min_samples_split=10, min_samples_leaf=2, max_features=sqrt, max_depth=82, total=   5.7s\n",
            "[CV] n_estimators=900, min_samples_split=10, min_samples_leaf=2, max_features=sqrt, max_depth=82 \n",
            "[CV]  n_estimators=900, min_samples_split=10, min_samples_leaf=2, max_features=sqrt, max_depth=82, total=   5.6s\n",
            "[CV] n_estimators=900, min_samples_split=10, min_samples_leaf=2, max_features=sqrt, max_depth=82 \n",
            "[CV]  n_estimators=900, min_samples_split=10, min_samples_leaf=2, max_features=sqrt, max_depth=82, total=   5.6s\n",
            "[CV] n_estimators=900, min_samples_split=10, min_samples_leaf=2, max_features=sqrt, max_depth=82 \n",
            "[CV]  n_estimators=900, min_samples_split=10, min_samples_leaf=2, max_features=sqrt, max_depth=82, total=   5.6s\n",
            "[CV] n_estimators=900, min_samples_split=10, min_samples_leaf=2, max_features=sqrt, max_depth=82 \n",
            "[CV]  n_estimators=900, min_samples_split=10, min_samples_leaf=2, max_features=sqrt, max_depth=82, total=   5.6s\n",
            "[CV] n_estimators=1000, min_samples_split=15, min_samples_leaf=10, max_features=sqrt, max_depth=28 \n",
            "[CV]  n_estimators=1000, min_samples_split=15, min_samples_leaf=10, max_features=sqrt, max_depth=28, total=   5.0s\n",
            "[CV] n_estimators=1000, min_samples_split=15, min_samples_leaf=10, max_features=sqrt, max_depth=28 \n",
            "[CV]  n_estimators=1000, min_samples_split=15, min_samples_leaf=10, max_features=sqrt, max_depth=28, total=   5.0s\n",
            "[CV] n_estimators=1000, min_samples_split=15, min_samples_leaf=10, max_features=sqrt, max_depth=28 \n",
            "[CV]  n_estimators=1000, min_samples_split=15, min_samples_leaf=10, max_features=sqrt, max_depth=28, total=   5.1s\n",
            "[CV] n_estimators=1000, min_samples_split=15, min_samples_leaf=10, max_features=sqrt, max_depth=28 \n",
            "[CV]  n_estimators=1000, min_samples_split=15, min_samples_leaf=10, max_features=sqrt, max_depth=28, total=   5.1s\n",
            "[CV] n_estimators=1000, min_samples_split=15, min_samples_leaf=10, max_features=sqrt, max_depth=28 \n",
            "[CV]  n_estimators=1000, min_samples_split=15, min_samples_leaf=10, max_features=sqrt, max_depth=28, total=   5.2s\n",
            "[CV] n_estimators=1000, min_samples_split=15, min_samples_leaf=10, max_features=sqrt, max_depth=28 \n",
            "[CV]  n_estimators=1000, min_samples_split=15, min_samples_leaf=10, max_features=sqrt, max_depth=28, total=   5.2s\n",
            "[CV] n_estimators=1000, min_samples_split=15, min_samples_leaf=10, max_features=sqrt, max_depth=28 \n",
            "[CV]  n_estimators=1000, min_samples_split=15, min_samples_leaf=10, max_features=sqrt, max_depth=28, total=   5.0s\n",
            "[CV] n_estimators=1000, min_samples_split=15, min_samples_leaf=10, max_features=sqrt, max_depth=28 \n",
            "[CV]  n_estimators=1000, min_samples_split=15, min_samples_leaf=10, max_features=sqrt, max_depth=28, total=   5.1s\n",
            "[CV] n_estimators=1000, min_samples_split=15, min_samples_leaf=10, max_features=sqrt, max_depth=28 \n",
            "[CV]  n_estimators=1000, min_samples_split=15, min_samples_leaf=10, max_features=sqrt, max_depth=28, total=   5.0s\n",
            "[CV] n_estimators=1000, min_samples_split=15, min_samples_leaf=10, max_features=sqrt, max_depth=28 \n",
            "[CV]  n_estimators=1000, min_samples_split=15, min_samples_leaf=10, max_features=sqrt, max_depth=28, total=   5.1s\n",
            "[CV] n_estimators=100, min_samples_split=2, min_samples_leaf=5, max_features=sqrt, max_depth=64 \n",
            "[CV]  n_estimators=100, min_samples_split=2, min_samples_leaf=5, max_features=sqrt, max_depth=64, total=   0.6s\n",
            "[CV] n_estimators=100, min_samples_split=2, min_samples_leaf=5, max_features=sqrt, max_depth=64 \n",
            "[CV]  n_estimators=100, min_samples_split=2, min_samples_leaf=5, max_features=sqrt, max_depth=64, total=   0.6s\n",
            "[CV] n_estimators=100, min_samples_split=2, min_samples_leaf=5, max_features=sqrt, max_depth=64 \n",
            "[CV]  n_estimators=100, min_samples_split=2, min_samples_leaf=5, max_features=sqrt, max_depth=64, total=   0.6s\n",
            "[CV] n_estimators=100, min_samples_split=2, min_samples_leaf=5, max_features=sqrt, max_depth=64 \n",
            "[CV]  n_estimators=100, min_samples_split=2, min_samples_leaf=5, max_features=sqrt, max_depth=64, total=   0.6s\n",
            "[CV] n_estimators=100, min_samples_split=2, min_samples_leaf=5, max_features=sqrt, max_depth=64 \n",
            "[CV]  n_estimators=100, min_samples_split=2, min_samples_leaf=5, max_features=sqrt, max_depth=64, total=   0.6s\n",
            "[CV] n_estimators=100, min_samples_split=2, min_samples_leaf=5, max_features=sqrt, max_depth=64 \n",
            "[CV]  n_estimators=100, min_samples_split=2, min_samples_leaf=5, max_features=sqrt, max_depth=64, total=   0.6s\n",
            "[CV] n_estimators=100, min_samples_split=2, min_samples_leaf=5, max_features=sqrt, max_depth=64 \n",
            "[CV]  n_estimators=100, min_samples_split=2, min_samples_leaf=5, max_features=sqrt, max_depth=64, total=   0.6s\n",
            "[CV] n_estimators=100, min_samples_split=2, min_samples_leaf=5, max_features=sqrt, max_depth=64 \n",
            "[CV]  n_estimators=100, min_samples_split=2, min_samples_leaf=5, max_features=sqrt, max_depth=64, total=   0.6s\n",
            "[CV] n_estimators=100, min_samples_split=2, min_samples_leaf=5, max_features=sqrt, max_depth=64 \n",
            "[CV]  n_estimators=100, min_samples_split=2, min_samples_leaf=5, max_features=sqrt, max_depth=64, total=   0.6s\n",
            "[CV] n_estimators=100, min_samples_split=2, min_samples_leaf=5, max_features=sqrt, max_depth=64 \n",
            "[CV]  n_estimators=100, min_samples_split=2, min_samples_leaf=5, max_features=sqrt, max_depth=64, total=   0.6s\n",
            "[CV] n_estimators=300, min_samples_split=5, min_samples_leaf=5, max_features=sqrt, max_depth=100 \n",
            "[CV]  n_estimators=300, min_samples_split=5, min_samples_leaf=5, max_features=sqrt, max_depth=100, total=   1.7s\n",
            "[CV] n_estimators=300, min_samples_split=5, min_samples_leaf=5, max_features=sqrt, max_depth=100 \n",
            "[CV]  n_estimators=300, min_samples_split=5, min_samples_leaf=5, max_features=sqrt, max_depth=100, total=   1.8s\n",
            "[CV] n_estimators=300, min_samples_split=5, min_samples_leaf=5, max_features=sqrt, max_depth=100 \n",
            "[CV]  n_estimators=300, min_samples_split=5, min_samples_leaf=5, max_features=sqrt, max_depth=100, total=   1.8s\n",
            "[CV] n_estimators=300, min_samples_split=5, min_samples_leaf=5, max_features=sqrt, max_depth=100 \n",
            "[CV]  n_estimators=300, min_samples_split=5, min_samples_leaf=5, max_features=sqrt, max_depth=100, total=   1.8s\n",
            "[CV] n_estimators=300, min_samples_split=5, min_samples_leaf=5, max_features=sqrt, max_depth=100 \n",
            "[CV]  n_estimators=300, min_samples_split=5, min_samples_leaf=5, max_features=sqrt, max_depth=100, total=   1.7s\n",
            "[CV] n_estimators=300, min_samples_split=5, min_samples_leaf=5, max_features=sqrt, max_depth=100 \n",
            "[CV]  n_estimators=300, min_samples_split=5, min_samples_leaf=5, max_features=sqrt, max_depth=100, total=   1.7s\n",
            "[CV] n_estimators=300, min_samples_split=5, min_samples_leaf=5, max_features=sqrt, max_depth=100 \n",
            "[CV]  n_estimators=300, min_samples_split=5, min_samples_leaf=5, max_features=sqrt, max_depth=100, total=   1.7s\n",
            "[CV] n_estimators=300, min_samples_split=5, min_samples_leaf=5, max_features=sqrt, max_depth=100 \n",
            "[CV]  n_estimators=300, min_samples_split=5, min_samples_leaf=5, max_features=sqrt, max_depth=100, total=   1.7s\n",
            "[CV] n_estimators=300, min_samples_split=5, min_samples_leaf=5, max_features=sqrt, max_depth=100 \n",
            "[CV]  n_estimators=300, min_samples_split=5, min_samples_leaf=5, max_features=sqrt, max_depth=100, total=   1.8s\n",
            "[CV] n_estimators=300, min_samples_split=5, min_samples_leaf=5, max_features=sqrt, max_depth=100 \n",
            "[CV]  n_estimators=300, min_samples_split=5, min_samples_leaf=5, max_features=sqrt, max_depth=100, total=   1.8s\n",
            "[CV] n_estimators=400, min_samples_split=10, min_samples_leaf=2, max_features=sqrt, max_depth=100 \n",
            "[CV]  n_estimators=400, min_samples_split=10, min_samples_leaf=2, max_features=sqrt, max_depth=100, total=   2.4s\n",
            "[CV] n_estimators=400, min_samples_split=10, min_samples_leaf=2, max_features=sqrt, max_depth=100 \n",
            "[CV]  n_estimators=400, min_samples_split=10, min_samples_leaf=2, max_features=sqrt, max_depth=100, total=   2.5s\n",
            "[CV] n_estimators=400, min_samples_split=10, min_samples_leaf=2, max_features=sqrt, max_depth=100 \n",
            "[CV]  n_estimators=400, min_samples_split=10, min_samples_leaf=2, max_features=sqrt, max_depth=100, total=   2.5s\n",
            "[CV] n_estimators=400, min_samples_split=10, min_samples_leaf=2, max_features=sqrt, max_depth=100 \n",
            "[CV]  n_estimators=400, min_samples_split=10, min_samples_leaf=2, max_features=sqrt, max_depth=100, total=   2.5s\n",
            "[CV] n_estimators=400, min_samples_split=10, min_samples_leaf=2, max_features=sqrt, max_depth=100 \n",
            "[CV]  n_estimators=400, min_samples_split=10, min_samples_leaf=2, max_features=sqrt, max_depth=100, total=   2.4s\n",
            "[CV] n_estimators=400, min_samples_split=10, min_samples_leaf=2, max_features=sqrt, max_depth=100 \n",
            "[CV]  n_estimators=400, min_samples_split=10, min_samples_leaf=2, max_features=sqrt, max_depth=100, total=   2.5s\n",
            "[CV] n_estimators=400, min_samples_split=10, min_samples_leaf=2, max_features=sqrt, max_depth=100 \n",
            "[CV]  n_estimators=400, min_samples_split=10, min_samples_leaf=2, max_features=sqrt, max_depth=100, total=   2.4s\n",
            "[CV] n_estimators=400, min_samples_split=10, min_samples_leaf=2, max_features=sqrt, max_depth=100 \n",
            "[CV]  n_estimators=400, min_samples_split=10, min_samples_leaf=2, max_features=sqrt, max_depth=100, total=   2.5s\n",
            "[CV] n_estimators=400, min_samples_split=10, min_samples_leaf=2, max_features=sqrt, max_depth=100 \n",
            "[CV]  n_estimators=400, min_samples_split=10, min_samples_leaf=2, max_features=sqrt, max_depth=100, total=   2.5s\n",
            "[CV] n_estimators=400, min_samples_split=10, min_samples_leaf=2, max_features=sqrt, max_depth=100 \n",
            "[CV]  n_estimators=400, min_samples_split=10, min_samples_leaf=2, max_features=sqrt, max_depth=100, total=   2.5s\n",
            "[CV] n_estimators=900, min_samples_split=2, min_samples_leaf=5, max_features=sqrt, max_depth=10 \n",
            "[CV]  n_estimators=900, min_samples_split=2, min_samples_leaf=5, max_features=sqrt, max_depth=10, total=   4.3s\n",
            "[CV] n_estimators=900, min_samples_split=2, min_samples_leaf=5, max_features=sqrt, max_depth=10 \n",
            "[CV]  n_estimators=900, min_samples_split=2, min_samples_leaf=5, max_features=sqrt, max_depth=10, total=   4.2s\n",
            "[CV] n_estimators=900, min_samples_split=2, min_samples_leaf=5, max_features=sqrt, max_depth=10 \n",
            "[CV]  n_estimators=900, min_samples_split=2, min_samples_leaf=5, max_features=sqrt, max_depth=10, total=   4.2s\n",
            "[CV] n_estimators=900, min_samples_split=2, min_samples_leaf=5, max_features=sqrt, max_depth=10 \n",
            "[CV]  n_estimators=900, min_samples_split=2, min_samples_leaf=5, max_features=sqrt, max_depth=10, total=   4.3s\n",
            "[CV] n_estimators=900, min_samples_split=2, min_samples_leaf=5, max_features=sqrt, max_depth=10 \n",
            "[CV]  n_estimators=900, min_samples_split=2, min_samples_leaf=5, max_features=sqrt, max_depth=10, total=   4.3s\n",
            "[CV] n_estimators=900, min_samples_split=2, min_samples_leaf=5, max_features=sqrt, max_depth=10 \n",
            "[CV]  n_estimators=900, min_samples_split=2, min_samples_leaf=5, max_features=sqrt, max_depth=10, total=   4.2s\n",
            "[CV] n_estimators=900, min_samples_split=2, min_samples_leaf=5, max_features=sqrt, max_depth=10 \n",
            "[CV]  n_estimators=900, min_samples_split=2, min_samples_leaf=5, max_features=sqrt, max_depth=10, total=   4.2s\n",
            "[CV] n_estimators=900, min_samples_split=2, min_samples_leaf=5, max_features=sqrt, max_depth=10 \n",
            "[CV]  n_estimators=900, min_samples_split=2, min_samples_leaf=5, max_features=sqrt, max_depth=10, total=   4.3s\n",
            "[CV] n_estimators=900, min_samples_split=2, min_samples_leaf=5, max_features=sqrt, max_depth=10 \n",
            "[CV]  n_estimators=900, min_samples_split=2, min_samples_leaf=5, max_features=sqrt, max_depth=10, total=   4.3s\n",
            "[CV] n_estimators=900, min_samples_split=2, min_samples_leaf=5, max_features=sqrt, max_depth=10 \n",
            "[CV]  n_estimators=900, min_samples_split=2, min_samples_leaf=5, max_features=sqrt, max_depth=10, total=   4.3s\n",
            "[CV] n_estimators=900, min_samples_split=5, min_samples_leaf=2, max_features=sqrt, max_depth=64 \n",
            "[CV]  n_estimators=900, min_samples_split=5, min_samples_leaf=2, max_features=sqrt, max_depth=64, total=   6.4s\n",
            "[CV] n_estimators=900, min_samples_split=5, min_samples_leaf=2, max_features=sqrt, max_depth=64 \n",
            "[CV]  n_estimators=900, min_samples_split=5, min_samples_leaf=2, max_features=sqrt, max_depth=64, total=   6.2s\n",
            "[CV] n_estimators=900, min_samples_split=5, min_samples_leaf=2, max_features=sqrt, max_depth=64 \n",
            "[CV]  n_estimators=900, min_samples_split=5, min_samples_leaf=2, max_features=sqrt, max_depth=64, total=   6.1s\n",
            "[CV] n_estimators=900, min_samples_split=5, min_samples_leaf=2, max_features=sqrt, max_depth=64 \n",
            "[CV]  n_estimators=900, min_samples_split=5, min_samples_leaf=2, max_features=sqrt, max_depth=64, total=   6.2s\n",
            "[CV] n_estimators=900, min_samples_split=5, min_samples_leaf=2, max_features=sqrt, max_depth=64 \n",
            "[CV]  n_estimators=900, min_samples_split=5, min_samples_leaf=2, max_features=sqrt, max_depth=64, total=   6.1s\n",
            "[CV] n_estimators=900, min_samples_split=5, min_samples_leaf=2, max_features=sqrt, max_depth=64 \n",
            "[CV]  n_estimators=900, min_samples_split=5, min_samples_leaf=2, max_features=sqrt, max_depth=64, total=   6.1s\n",
            "[CV] n_estimators=900, min_samples_split=5, min_samples_leaf=2, max_features=sqrt, max_depth=64 \n",
            "[CV]  n_estimators=900, min_samples_split=5, min_samples_leaf=2, max_features=sqrt, max_depth=64, total=   6.1s\n",
            "[CV] n_estimators=900, min_samples_split=5, min_samples_leaf=2, max_features=sqrt, max_depth=64 \n",
            "[CV]  n_estimators=900, min_samples_split=5, min_samples_leaf=2, max_features=sqrt, max_depth=64, total=   6.1s\n",
            "[CV] n_estimators=900, min_samples_split=5, min_samples_leaf=2, max_features=sqrt, max_depth=64 \n",
            "[CV]  n_estimators=900, min_samples_split=5, min_samples_leaf=2, max_features=sqrt, max_depth=64, total=   6.1s\n",
            "[CV] n_estimators=900, min_samples_split=5, min_samples_leaf=2, max_features=sqrt, max_depth=64 \n",
            "[CV]  n_estimators=900, min_samples_split=5, min_samples_leaf=2, max_features=sqrt, max_depth=64, total=   6.2s\n",
            "[CV] n_estimators=200, min_samples_split=15, min_samples_leaf=2, max_features=sqrt, max_depth=28 \n",
            "[CV]  n_estimators=200, min_samples_split=15, min_samples_leaf=2, max_features=sqrt, max_depth=28, total=   1.2s\n",
            "[CV] n_estimators=200, min_samples_split=15, min_samples_leaf=2, max_features=sqrt, max_depth=28 \n",
            "[CV]  n_estimators=200, min_samples_split=15, min_samples_leaf=2, max_features=sqrt, max_depth=28, total=   1.1s\n",
            "[CV] n_estimators=200, min_samples_split=15, min_samples_leaf=2, max_features=sqrt, max_depth=28 \n",
            "[CV]  n_estimators=200, min_samples_split=15, min_samples_leaf=2, max_features=sqrt, max_depth=28, total=   1.1s\n",
            "[CV] n_estimators=200, min_samples_split=15, min_samples_leaf=2, max_features=sqrt, max_depth=28 \n",
            "[CV]  n_estimators=200, min_samples_split=15, min_samples_leaf=2, max_features=sqrt, max_depth=28, total=   1.2s\n",
            "[CV] n_estimators=200, min_samples_split=15, min_samples_leaf=2, max_features=sqrt, max_depth=28 \n",
            "[CV]  n_estimators=200, min_samples_split=15, min_samples_leaf=2, max_features=sqrt, max_depth=28, total=   1.1s\n",
            "[CV] n_estimators=200, min_samples_split=15, min_samples_leaf=2, max_features=sqrt, max_depth=28 \n",
            "[CV]  n_estimators=200, min_samples_split=15, min_samples_leaf=2, max_features=sqrt, max_depth=28, total=   1.1s\n",
            "[CV] n_estimators=200, min_samples_split=15, min_samples_leaf=2, max_features=sqrt, max_depth=28 \n",
            "[CV]  n_estimators=200, min_samples_split=15, min_samples_leaf=2, max_features=sqrt, max_depth=28, total=   1.1s\n",
            "[CV] n_estimators=200, min_samples_split=15, min_samples_leaf=2, max_features=sqrt, max_depth=28 \n",
            "[CV]  n_estimators=200, min_samples_split=15, min_samples_leaf=2, max_features=sqrt, max_depth=28, total=   1.2s\n",
            "[CV] n_estimators=200, min_samples_split=15, min_samples_leaf=2, max_features=sqrt, max_depth=28 \n",
            "[CV]  n_estimators=200, min_samples_split=15, min_samples_leaf=2, max_features=sqrt, max_depth=28, total=   1.1s\n",
            "[CV] n_estimators=200, min_samples_split=15, min_samples_leaf=2, max_features=sqrt, max_depth=28 \n",
            "[CV]  n_estimators=200, min_samples_split=15, min_samples_leaf=2, max_features=sqrt, max_depth=28, total=   1.1s\n",
            "[CV] n_estimators=200, min_samples_split=2, min_samples_leaf=2, max_features=sqrt, max_depth=28 \n",
            "[CV]  n_estimators=200, min_samples_split=2, min_samples_leaf=2, max_features=sqrt, max_depth=28, total=   1.4s\n",
            "[CV] n_estimators=200, min_samples_split=2, min_samples_leaf=2, max_features=sqrt, max_depth=28 \n",
            "[CV]  n_estimators=200, min_samples_split=2, min_samples_leaf=2, max_features=sqrt, max_depth=28, total=   1.4s\n",
            "[CV] n_estimators=200, min_samples_split=2, min_samples_leaf=2, max_features=sqrt, max_depth=28 \n",
            "[CV]  n_estimators=200, min_samples_split=2, min_samples_leaf=2, max_features=sqrt, max_depth=28, total=   1.4s\n",
            "[CV] n_estimators=200, min_samples_split=2, min_samples_leaf=2, max_features=sqrt, max_depth=28 \n",
            "[CV]  n_estimators=200, min_samples_split=2, min_samples_leaf=2, max_features=sqrt, max_depth=28, total=   1.4s\n",
            "[CV] n_estimators=200, min_samples_split=2, min_samples_leaf=2, max_features=sqrt, max_depth=28 \n",
            "[CV]  n_estimators=200, min_samples_split=2, min_samples_leaf=2, max_features=sqrt, max_depth=28, total=   1.4s\n",
            "[CV] n_estimators=200, min_samples_split=2, min_samples_leaf=2, max_features=sqrt, max_depth=28 \n",
            "[CV]  n_estimators=200, min_samples_split=2, min_samples_leaf=2, max_features=sqrt, max_depth=28, total=   1.4s\n",
            "[CV] n_estimators=200, min_samples_split=2, min_samples_leaf=2, max_features=sqrt, max_depth=28 \n",
            "[CV]  n_estimators=200, min_samples_split=2, min_samples_leaf=2, max_features=sqrt, max_depth=28, total=   1.4s\n",
            "[CV] n_estimators=200, min_samples_split=2, min_samples_leaf=2, max_features=sqrt, max_depth=28 \n",
            "[CV]  n_estimators=200, min_samples_split=2, min_samples_leaf=2, max_features=sqrt, max_depth=28, total=   1.4s\n",
            "[CV] n_estimators=200, min_samples_split=2, min_samples_leaf=2, max_features=sqrt, max_depth=28 \n",
            "[CV]  n_estimators=200, min_samples_split=2, min_samples_leaf=2, max_features=sqrt, max_depth=28, total=   1.4s\n",
            "[CV] n_estimators=200, min_samples_split=2, min_samples_leaf=2, max_features=sqrt, max_depth=28 \n",
            "[CV]  n_estimators=200, min_samples_split=2, min_samples_leaf=2, max_features=sqrt, max_depth=28, total=   1.4s\n",
            "[CV] n_estimators=700, min_samples_split=5, min_samples_leaf=1, max_features=auto, max_depth=28 \n",
            "[CV]  n_estimators=700, min_samples_split=5, min_samples_leaf=1, max_features=auto, max_depth=28, total=  17.5s\n",
            "[CV] n_estimators=700, min_samples_split=5, min_samples_leaf=1, max_features=auto, max_depth=28 \n",
            "[CV]  n_estimators=700, min_samples_split=5, min_samples_leaf=1, max_features=auto, max_depth=28, total=  17.5s\n",
            "[CV] n_estimators=700, min_samples_split=5, min_samples_leaf=1, max_features=auto, max_depth=28 \n",
            "[CV]  n_estimators=700, min_samples_split=5, min_samples_leaf=1, max_features=auto, max_depth=28, total=  17.5s\n",
            "[CV] n_estimators=700, min_samples_split=5, min_samples_leaf=1, max_features=auto, max_depth=28 \n",
            "[CV]  n_estimators=700, min_samples_split=5, min_samples_leaf=1, max_features=auto, max_depth=28, total=  17.5s\n",
            "[CV] n_estimators=700, min_samples_split=5, min_samples_leaf=1, max_features=auto, max_depth=28 \n",
            "[CV]  n_estimators=700, min_samples_split=5, min_samples_leaf=1, max_features=auto, max_depth=28, total=  17.4s\n",
            "[CV] n_estimators=700, min_samples_split=5, min_samples_leaf=1, max_features=auto, max_depth=28 \n",
            "[CV]  n_estimators=700, min_samples_split=5, min_samples_leaf=1, max_features=auto, max_depth=28, total=  17.5s\n",
            "[CV] n_estimators=700, min_samples_split=5, min_samples_leaf=1, max_features=auto, max_depth=28 \n",
            "[CV]  n_estimators=700, min_samples_split=5, min_samples_leaf=1, max_features=auto, max_depth=28, total=  17.5s\n",
            "[CV] n_estimators=700, min_samples_split=5, min_samples_leaf=1, max_features=auto, max_depth=28 \n",
            "[CV]  n_estimators=700, min_samples_split=5, min_samples_leaf=1, max_features=auto, max_depth=28, total=  17.5s\n",
            "[CV] n_estimators=700, min_samples_split=5, min_samples_leaf=1, max_features=auto, max_depth=28 \n",
            "[CV]  n_estimators=700, min_samples_split=5, min_samples_leaf=1, max_features=auto, max_depth=28, total=  17.5s\n",
            "[CV] n_estimators=700, min_samples_split=5, min_samples_leaf=1, max_features=auto, max_depth=28 \n",
            "[CV]  n_estimators=700, min_samples_split=5, min_samples_leaf=1, max_features=auto, max_depth=28, total=  17.6s\n",
            "[CV] n_estimators=1200, min_samples_split=100, min_samples_leaf=10, max_features=auto, max_depth=10 \n",
            "[CV]  n_estimators=1200, min_samples_split=100, min_samples_leaf=10, max_features=auto, max_depth=10, total=  18.0s\n",
            "[CV] n_estimators=1200, min_samples_split=100, min_samples_leaf=10, max_features=auto, max_depth=10 \n",
            "[CV]  n_estimators=1200, min_samples_split=100, min_samples_leaf=10, max_features=auto, max_depth=10, total=  18.0s\n",
            "[CV] n_estimators=1200, min_samples_split=100, min_samples_leaf=10, max_features=auto, max_depth=10 \n",
            "[CV]  n_estimators=1200, min_samples_split=100, min_samples_leaf=10, max_features=auto, max_depth=10, total=  18.0s\n",
            "[CV] n_estimators=1200, min_samples_split=100, min_samples_leaf=10, max_features=auto, max_depth=10 \n",
            "[CV]  n_estimators=1200, min_samples_split=100, min_samples_leaf=10, max_features=auto, max_depth=10, total=  18.0s\n",
            "[CV] n_estimators=1200, min_samples_split=100, min_samples_leaf=10, max_features=auto, max_depth=10 \n",
            "[CV]  n_estimators=1200, min_samples_split=100, min_samples_leaf=10, max_features=auto, max_depth=10, total=  18.0s\n",
            "[CV] n_estimators=1200, min_samples_split=100, min_samples_leaf=10, max_features=auto, max_depth=10 \n",
            "[CV]  n_estimators=1200, min_samples_split=100, min_samples_leaf=10, max_features=auto, max_depth=10, total=  18.0s\n",
            "[CV] n_estimators=1200, min_samples_split=100, min_samples_leaf=10, max_features=auto, max_depth=10 \n",
            "[CV]  n_estimators=1200, min_samples_split=100, min_samples_leaf=10, max_features=auto, max_depth=10, total=  18.0s\n",
            "[CV] n_estimators=1200, min_samples_split=100, min_samples_leaf=10, max_features=auto, max_depth=10 \n",
            "[CV]  n_estimators=1200, min_samples_split=100, min_samples_leaf=10, max_features=auto, max_depth=10, total=  17.9s\n",
            "[CV] n_estimators=1200, min_samples_split=100, min_samples_leaf=10, max_features=auto, max_depth=10 \n",
            "[CV]  n_estimators=1200, min_samples_split=100, min_samples_leaf=10, max_features=auto, max_depth=10, total=  18.1s\n",
            "[CV] n_estimators=1200, min_samples_split=100, min_samples_leaf=10, max_features=auto, max_depth=10 \n",
            "[CV]  n_estimators=1200, min_samples_split=100, min_samples_leaf=10, max_features=auto, max_depth=10, total=  18.0s\n",
            "[CV] n_estimators=800, min_samples_split=10, min_samples_leaf=2, max_features=sqrt, max_depth=10 \n",
            "[CV]  n_estimators=800, min_samples_split=10, min_samples_leaf=2, max_features=sqrt, max_depth=10, total=   3.8s\n",
            "[CV] n_estimators=800, min_samples_split=10, min_samples_leaf=2, max_features=sqrt, max_depth=10 \n",
            "[CV]  n_estimators=800, min_samples_split=10, min_samples_leaf=2, max_features=sqrt, max_depth=10, total=   3.8s\n",
            "[CV] n_estimators=800, min_samples_split=10, min_samples_leaf=2, max_features=sqrt, max_depth=10 \n",
            "[CV]  n_estimators=800, min_samples_split=10, min_samples_leaf=2, max_features=sqrt, max_depth=10, total=   3.8s\n",
            "[CV] n_estimators=800, min_samples_split=10, min_samples_leaf=2, max_features=sqrt, max_depth=10 \n",
            "[CV]  n_estimators=800, min_samples_split=10, min_samples_leaf=2, max_features=sqrt, max_depth=10, total=   3.8s\n",
            "[CV] n_estimators=800, min_samples_split=10, min_samples_leaf=2, max_features=sqrt, max_depth=10 \n",
            "[CV]  n_estimators=800, min_samples_split=10, min_samples_leaf=2, max_features=sqrt, max_depth=10, total=   3.8s\n",
            "[CV] n_estimators=800, min_samples_split=10, min_samples_leaf=2, max_features=sqrt, max_depth=10 \n",
            "[CV]  n_estimators=800, min_samples_split=10, min_samples_leaf=2, max_features=sqrt, max_depth=10, total=   3.8s\n",
            "[CV] n_estimators=800, min_samples_split=10, min_samples_leaf=2, max_features=sqrt, max_depth=10 \n",
            "[CV]  n_estimators=800, min_samples_split=10, min_samples_leaf=2, max_features=sqrt, max_depth=10, total=   3.8s\n",
            "[CV] n_estimators=800, min_samples_split=10, min_samples_leaf=2, max_features=sqrt, max_depth=10 \n",
            "[CV]  n_estimators=800, min_samples_split=10, min_samples_leaf=2, max_features=sqrt, max_depth=10, total=   3.8s\n",
            "[CV] n_estimators=800, min_samples_split=10, min_samples_leaf=2, max_features=sqrt, max_depth=10 \n",
            "[CV]  n_estimators=800, min_samples_split=10, min_samples_leaf=2, max_features=sqrt, max_depth=10, total=   3.8s\n",
            "[CV] n_estimators=800, min_samples_split=10, min_samples_leaf=2, max_features=sqrt, max_depth=10 \n",
            "[CV]  n_estimators=800, min_samples_split=10, min_samples_leaf=2, max_features=sqrt, max_depth=10, total=   3.8s\n",
            "[CV] n_estimators=1100, min_samples_split=100, min_samples_leaf=2, max_features=sqrt, max_depth=28 \n",
            "[CV]  n_estimators=1100, min_samples_split=100, min_samples_leaf=2, max_features=sqrt, max_depth=28, total=   4.8s\n",
            "[CV] n_estimators=1100, min_samples_split=100, min_samples_leaf=2, max_features=sqrt, max_depth=28 \n",
            "[CV]  n_estimators=1100, min_samples_split=100, min_samples_leaf=2, max_features=sqrt, max_depth=28, total=   4.7s\n",
            "[CV] n_estimators=1100, min_samples_split=100, min_samples_leaf=2, max_features=sqrt, max_depth=28 \n",
            "[CV]  n_estimators=1100, min_samples_split=100, min_samples_leaf=2, max_features=sqrt, max_depth=28, total=   4.7s\n",
            "[CV] n_estimators=1100, min_samples_split=100, min_samples_leaf=2, max_features=sqrt, max_depth=28 \n",
            "[CV]  n_estimators=1100, min_samples_split=100, min_samples_leaf=2, max_features=sqrt, max_depth=28, total=   4.7s\n",
            "[CV] n_estimators=1100, min_samples_split=100, min_samples_leaf=2, max_features=sqrt, max_depth=28 \n",
            "[CV]  n_estimators=1100, min_samples_split=100, min_samples_leaf=2, max_features=sqrt, max_depth=28, total=   4.7s\n",
            "[CV] n_estimators=1100, min_samples_split=100, min_samples_leaf=2, max_features=sqrt, max_depth=28 \n",
            "[CV]  n_estimators=1100, min_samples_split=100, min_samples_leaf=2, max_features=sqrt, max_depth=28, total=   4.7s\n",
            "[CV] n_estimators=1100, min_samples_split=100, min_samples_leaf=2, max_features=sqrt, max_depth=28 \n",
            "[CV]  n_estimators=1100, min_samples_split=100, min_samples_leaf=2, max_features=sqrt, max_depth=28, total=   4.7s\n",
            "[CV] n_estimators=1100, min_samples_split=100, min_samples_leaf=2, max_features=sqrt, max_depth=28 \n",
            "[CV]  n_estimators=1100, min_samples_split=100, min_samples_leaf=2, max_features=sqrt, max_depth=28, total=   4.8s\n",
            "[CV] n_estimators=1100, min_samples_split=100, min_samples_leaf=2, max_features=sqrt, max_depth=28 \n",
            "[CV]  n_estimators=1100, min_samples_split=100, min_samples_leaf=2, max_features=sqrt, max_depth=28, total=   4.6s\n",
            "[CV] n_estimators=1100, min_samples_split=100, min_samples_leaf=2, max_features=sqrt, max_depth=28 \n",
            "[CV]  n_estimators=1100, min_samples_split=100, min_samples_leaf=2, max_features=sqrt, max_depth=28, total=   4.7s\n",
            "[CV] n_estimators=500, min_samples_split=100, min_samples_leaf=10, max_features=sqrt, max_depth=28 \n",
            "[CV]  n_estimators=500, min_samples_split=100, min_samples_leaf=10, max_features=sqrt, max_depth=28, total=   2.0s\n",
            "[CV] n_estimators=500, min_samples_split=100, min_samples_leaf=10, max_features=sqrt, max_depth=28 \n",
            "[CV]  n_estimators=500, min_samples_split=100, min_samples_leaf=10, max_features=sqrt, max_depth=28, total=   2.0s\n",
            "[CV] n_estimators=500, min_samples_split=100, min_samples_leaf=10, max_features=sqrt, max_depth=28 \n",
            "[CV]  n_estimators=500, min_samples_split=100, min_samples_leaf=10, max_features=sqrt, max_depth=28, total=   2.1s\n",
            "[CV] n_estimators=500, min_samples_split=100, min_samples_leaf=10, max_features=sqrt, max_depth=28 \n",
            "[CV]  n_estimators=500, min_samples_split=100, min_samples_leaf=10, max_features=sqrt, max_depth=28, total=   2.1s\n",
            "[CV] n_estimators=500, min_samples_split=100, min_samples_leaf=10, max_features=sqrt, max_depth=28 \n",
            "[CV]  n_estimators=500, min_samples_split=100, min_samples_leaf=10, max_features=sqrt, max_depth=28, total=   2.0s\n",
            "[CV] n_estimators=500, min_samples_split=100, min_samples_leaf=10, max_features=sqrt, max_depth=28 \n",
            "[CV]  n_estimators=500, min_samples_split=100, min_samples_leaf=10, max_features=sqrt, max_depth=28, total=   2.1s\n",
            "[CV] n_estimators=500, min_samples_split=100, min_samples_leaf=10, max_features=sqrt, max_depth=28 \n",
            "[CV]  n_estimators=500, min_samples_split=100, min_samples_leaf=10, max_features=sqrt, max_depth=28, total=   2.0s\n",
            "[CV] n_estimators=500, min_samples_split=100, min_samples_leaf=10, max_features=sqrt, max_depth=28 \n",
            "[CV]  n_estimators=500, min_samples_split=100, min_samples_leaf=10, max_features=sqrt, max_depth=28, total=   2.1s\n",
            "[CV] n_estimators=500, min_samples_split=100, min_samples_leaf=10, max_features=sqrt, max_depth=28 \n",
            "[CV]  n_estimators=500, min_samples_split=100, min_samples_leaf=10, max_features=sqrt, max_depth=28, total=   2.1s\n",
            "[CV] n_estimators=500, min_samples_split=100, min_samples_leaf=10, max_features=sqrt, max_depth=28 \n",
            "[CV]  n_estimators=500, min_samples_split=100, min_samples_leaf=10, max_features=sqrt, max_depth=28, total=   2.1s\n",
            "[CV] n_estimators=1000, min_samples_split=5, min_samples_leaf=1, max_features=sqrt, max_depth=46 \n",
            "[CV]  n_estimators=1000, min_samples_split=5, min_samples_leaf=1, max_features=sqrt, max_depth=46, total=   7.2s\n",
            "[CV] n_estimators=1000, min_samples_split=5, min_samples_leaf=1, max_features=sqrt, max_depth=46 \n",
            "[CV]  n_estimators=1000, min_samples_split=5, min_samples_leaf=1, max_features=sqrt, max_depth=46, total=   7.3s\n",
            "[CV] n_estimators=1000, min_samples_split=5, min_samples_leaf=1, max_features=sqrt, max_depth=46 \n",
            "[CV]  n_estimators=1000, min_samples_split=5, min_samples_leaf=1, max_features=sqrt, max_depth=46, total=   7.2s\n",
            "[CV] n_estimators=1000, min_samples_split=5, min_samples_leaf=1, max_features=sqrt, max_depth=46 \n",
            "[CV]  n_estimators=1000, min_samples_split=5, min_samples_leaf=1, max_features=sqrt, max_depth=46, total=   7.2s\n",
            "[CV] n_estimators=1000, min_samples_split=5, min_samples_leaf=1, max_features=sqrt, max_depth=46 \n",
            "[CV]  n_estimators=1000, min_samples_split=5, min_samples_leaf=1, max_features=sqrt, max_depth=46, total=   7.2s\n",
            "[CV] n_estimators=1000, min_samples_split=5, min_samples_leaf=1, max_features=sqrt, max_depth=46 \n",
            "[CV]  n_estimators=1000, min_samples_split=5, min_samples_leaf=1, max_features=sqrt, max_depth=46, total=   7.2s\n",
            "[CV] n_estimators=1000, min_samples_split=5, min_samples_leaf=1, max_features=sqrt, max_depth=46 \n",
            "[CV]  n_estimators=1000, min_samples_split=5, min_samples_leaf=1, max_features=sqrt, max_depth=46, total=   7.2s\n",
            "[CV] n_estimators=1000, min_samples_split=5, min_samples_leaf=1, max_features=sqrt, max_depth=46 \n",
            "[CV]  n_estimators=1000, min_samples_split=5, min_samples_leaf=1, max_features=sqrt, max_depth=46, total=   7.3s\n",
            "[CV] n_estimators=1000, min_samples_split=5, min_samples_leaf=1, max_features=sqrt, max_depth=46 \n",
            "[CV]  n_estimators=1000, min_samples_split=5, min_samples_leaf=1, max_features=sqrt, max_depth=46, total=   7.3s\n",
            "[CV] n_estimators=1000, min_samples_split=5, min_samples_leaf=1, max_features=sqrt, max_depth=46 \n",
            "[CV]  n_estimators=1000, min_samples_split=5, min_samples_leaf=1, max_features=sqrt, max_depth=46, total=   7.4s\n",
            "[CV] n_estimators=1000, min_samples_split=2, min_samples_leaf=2, max_features=sqrt, max_depth=46 \n",
            "[CV]  n_estimators=1000, min_samples_split=2, min_samples_leaf=2, max_features=sqrt, max_depth=46, total=   7.0s\n",
            "[CV] n_estimators=1000, min_samples_split=2, min_samples_leaf=2, max_features=sqrt, max_depth=46 \n",
            "[CV]  n_estimators=1000, min_samples_split=2, min_samples_leaf=2, max_features=sqrt, max_depth=46, total=   7.1s\n",
            "[CV] n_estimators=1000, min_samples_split=2, min_samples_leaf=2, max_features=sqrt, max_depth=46 \n",
            "[CV]  n_estimators=1000, min_samples_split=2, min_samples_leaf=2, max_features=sqrt, max_depth=46, total=   7.0s\n",
            "[CV] n_estimators=1000, min_samples_split=2, min_samples_leaf=2, max_features=sqrt, max_depth=46 \n",
            "[CV]  n_estimators=1000, min_samples_split=2, min_samples_leaf=2, max_features=sqrt, max_depth=46, total=   7.0s\n",
            "[CV] n_estimators=1000, min_samples_split=2, min_samples_leaf=2, max_features=sqrt, max_depth=46 \n",
            "[CV]  n_estimators=1000, min_samples_split=2, min_samples_leaf=2, max_features=sqrt, max_depth=46, total=   7.0s\n",
            "[CV] n_estimators=1000, min_samples_split=2, min_samples_leaf=2, max_features=sqrt, max_depth=46 \n",
            "[CV]  n_estimators=1000, min_samples_split=2, min_samples_leaf=2, max_features=sqrt, max_depth=46, total=   7.1s\n",
            "[CV] n_estimators=1000, min_samples_split=2, min_samples_leaf=2, max_features=sqrt, max_depth=46 \n",
            "[CV]  n_estimators=1000, min_samples_split=2, min_samples_leaf=2, max_features=sqrt, max_depth=46, total=   7.0s\n",
            "[CV] n_estimators=1000, min_samples_split=2, min_samples_leaf=2, max_features=sqrt, max_depth=46 \n",
            "[CV]  n_estimators=1000, min_samples_split=2, min_samples_leaf=2, max_features=sqrt, max_depth=46, total=   7.0s\n",
            "[CV] n_estimators=1000, min_samples_split=2, min_samples_leaf=2, max_features=sqrt, max_depth=46 \n",
            "[CV]  n_estimators=1000, min_samples_split=2, min_samples_leaf=2, max_features=sqrt, max_depth=46, total=   7.0s\n",
            "[CV] n_estimators=1000, min_samples_split=2, min_samples_leaf=2, max_features=sqrt, max_depth=46 \n",
            "[CV]  n_estimators=1000, min_samples_split=2, min_samples_leaf=2, max_features=sqrt, max_depth=46, total=   7.0s\n",
            "[CV] n_estimators=1200, min_samples_split=10, min_samples_leaf=10, max_features=sqrt, max_depth=82 \n",
            "[CV]  n_estimators=1200, min_samples_split=10, min_samples_leaf=10, max_features=sqrt, max_depth=82, total=   5.9s\n",
            "[CV] n_estimators=1200, min_samples_split=10, min_samples_leaf=10, max_features=sqrt, max_depth=82 \n",
            "[CV]  n_estimators=1200, min_samples_split=10, min_samples_leaf=10, max_features=sqrt, max_depth=82, total=   5.9s\n",
            "[CV] n_estimators=1200, min_samples_split=10, min_samples_leaf=10, max_features=sqrt, max_depth=82 \n",
            "[CV]  n_estimators=1200, min_samples_split=10, min_samples_leaf=10, max_features=sqrt, max_depth=82, total=   5.9s\n",
            "[CV] n_estimators=1200, min_samples_split=10, min_samples_leaf=10, max_features=sqrt, max_depth=82 \n",
            "[CV]  n_estimators=1200, min_samples_split=10, min_samples_leaf=10, max_features=sqrt, max_depth=82, total=   5.9s\n",
            "[CV] n_estimators=1200, min_samples_split=10, min_samples_leaf=10, max_features=sqrt, max_depth=82 \n",
            "[CV]  n_estimators=1200, min_samples_split=10, min_samples_leaf=10, max_features=sqrt, max_depth=82, total=   6.0s\n",
            "[CV] n_estimators=1200, min_samples_split=10, min_samples_leaf=10, max_features=sqrt, max_depth=82 \n",
            "[CV]  n_estimators=1200, min_samples_split=10, min_samples_leaf=10, max_features=sqrt, max_depth=82, total=   5.9s\n",
            "[CV] n_estimators=1200, min_samples_split=10, min_samples_leaf=10, max_features=sqrt, max_depth=82 \n",
            "[CV]  n_estimators=1200, min_samples_split=10, min_samples_leaf=10, max_features=sqrt, max_depth=82, total=   5.9s\n",
            "[CV] n_estimators=1200, min_samples_split=10, min_samples_leaf=10, max_features=sqrt, max_depth=82 \n",
            "[CV]  n_estimators=1200, min_samples_split=10, min_samples_leaf=10, max_features=sqrt, max_depth=82, total=   6.0s\n",
            "[CV] n_estimators=1200, min_samples_split=10, min_samples_leaf=10, max_features=sqrt, max_depth=82 \n",
            "[CV]  n_estimators=1200, min_samples_split=10, min_samples_leaf=10, max_features=sqrt, max_depth=82, total=   5.9s\n",
            "[CV] n_estimators=1200, min_samples_split=10, min_samples_leaf=10, max_features=sqrt, max_depth=82 \n",
            "[CV]  n_estimators=1200, min_samples_split=10, min_samples_leaf=10, max_features=sqrt, max_depth=82, total=   5.9s\n",
            "[CV] n_estimators=300, min_samples_split=15, min_samples_leaf=2, max_features=sqrt, max_depth=64 \n",
            "[CV]  n_estimators=300, min_samples_split=15, min_samples_leaf=2, max_features=sqrt, max_depth=64, total=   1.7s\n",
            "[CV] n_estimators=300, min_samples_split=15, min_samples_leaf=2, max_features=sqrt, max_depth=64 \n",
            "[CV]  n_estimators=300, min_samples_split=15, min_samples_leaf=2, max_features=sqrt, max_depth=64, total=   1.7s\n",
            "[CV] n_estimators=300, min_samples_split=15, min_samples_leaf=2, max_features=sqrt, max_depth=64 \n",
            "[CV]  n_estimators=300, min_samples_split=15, min_samples_leaf=2, max_features=sqrt, max_depth=64, total=   1.7s\n",
            "[CV] n_estimators=300, min_samples_split=15, min_samples_leaf=2, max_features=sqrt, max_depth=64 \n",
            "[CV]  n_estimators=300, min_samples_split=15, min_samples_leaf=2, max_features=sqrt, max_depth=64, total=   1.8s\n",
            "[CV] n_estimators=300, min_samples_split=15, min_samples_leaf=2, max_features=sqrt, max_depth=64 \n",
            "[CV]  n_estimators=300, min_samples_split=15, min_samples_leaf=2, max_features=sqrt, max_depth=64, total=   1.7s\n",
            "[CV] n_estimators=300, min_samples_split=15, min_samples_leaf=2, max_features=sqrt, max_depth=64 \n",
            "[CV]  n_estimators=300, min_samples_split=15, min_samples_leaf=2, max_features=sqrt, max_depth=64, total=   1.7s\n",
            "[CV] n_estimators=300, min_samples_split=15, min_samples_leaf=2, max_features=sqrt, max_depth=64 \n",
            "[CV]  n_estimators=300, min_samples_split=15, min_samples_leaf=2, max_features=sqrt, max_depth=64, total=   1.7s\n",
            "[CV] n_estimators=300, min_samples_split=15, min_samples_leaf=2, max_features=sqrt, max_depth=64 \n",
            "[CV]  n_estimators=300, min_samples_split=15, min_samples_leaf=2, max_features=sqrt, max_depth=64, total=   1.7s\n",
            "[CV] n_estimators=300, min_samples_split=15, min_samples_leaf=2, max_features=sqrt, max_depth=64 \n",
            "[CV]  n_estimators=300, min_samples_split=15, min_samples_leaf=2, max_features=sqrt, max_depth=64, total=   1.7s\n",
            "[CV] n_estimators=300, min_samples_split=15, min_samples_leaf=2, max_features=sqrt, max_depth=64 \n",
            "[CV]  n_estimators=300, min_samples_split=15, min_samples_leaf=2, max_features=sqrt, max_depth=64, total=   1.7s\n",
            "[CV] n_estimators=600, min_samples_split=5, min_samples_leaf=2, max_features=auto, max_depth=64 \n",
            "[CV]  n_estimators=600, min_samples_split=5, min_samples_leaf=2, max_features=auto, max_depth=64, total=  14.7s\n",
            "[CV] n_estimators=600, min_samples_split=5, min_samples_leaf=2, max_features=auto, max_depth=64 \n",
            "[CV]  n_estimators=600, min_samples_split=5, min_samples_leaf=2, max_features=auto, max_depth=64, total=  14.7s\n",
            "[CV] n_estimators=600, min_samples_split=5, min_samples_leaf=2, max_features=auto, max_depth=64 \n",
            "[CV]  n_estimators=600, min_samples_split=5, min_samples_leaf=2, max_features=auto, max_depth=64, total=  14.7s\n",
            "[CV] n_estimators=600, min_samples_split=5, min_samples_leaf=2, max_features=auto, max_depth=64 \n",
            "[CV]  n_estimators=600, min_samples_split=5, min_samples_leaf=2, max_features=auto, max_depth=64, total=  14.7s\n",
            "[CV] n_estimators=600, min_samples_split=5, min_samples_leaf=2, max_features=auto, max_depth=64 \n",
            "[CV]  n_estimators=600, min_samples_split=5, min_samples_leaf=2, max_features=auto, max_depth=64, total=  14.7s\n",
            "[CV] n_estimators=600, min_samples_split=5, min_samples_leaf=2, max_features=auto, max_depth=64 \n",
            "[CV]  n_estimators=600, min_samples_split=5, min_samples_leaf=2, max_features=auto, max_depth=64, total=  14.8s\n",
            "[CV] n_estimators=600, min_samples_split=5, min_samples_leaf=2, max_features=auto, max_depth=64 \n",
            "[CV]  n_estimators=600, min_samples_split=5, min_samples_leaf=2, max_features=auto, max_depth=64, total=  14.7s\n",
            "[CV] n_estimators=600, min_samples_split=5, min_samples_leaf=2, max_features=auto, max_depth=64 \n",
            "[CV]  n_estimators=600, min_samples_split=5, min_samples_leaf=2, max_features=auto, max_depth=64, total=  14.7s\n",
            "[CV] n_estimators=600, min_samples_split=5, min_samples_leaf=2, max_features=auto, max_depth=64 \n",
            "[CV]  n_estimators=600, min_samples_split=5, min_samples_leaf=2, max_features=auto, max_depth=64, total=  14.7s\n",
            "[CV] n_estimators=600, min_samples_split=5, min_samples_leaf=2, max_features=auto, max_depth=64 \n",
            "[CV]  n_estimators=600, min_samples_split=5, min_samples_leaf=2, max_features=auto, max_depth=64, total=  14.7s\n",
            "[CV] n_estimators=1100, min_samples_split=5, min_samples_leaf=2, max_features=auto, max_depth=82 \n",
            "[CV]  n_estimators=1100, min_samples_split=5, min_samples_leaf=2, max_features=auto, max_depth=82, total=  27.0s\n",
            "[CV] n_estimators=1100, min_samples_split=5, min_samples_leaf=2, max_features=auto, max_depth=82 \n",
            "[CV]  n_estimators=1100, min_samples_split=5, min_samples_leaf=2, max_features=auto, max_depth=82, total=  27.0s\n",
            "[CV] n_estimators=1100, min_samples_split=5, min_samples_leaf=2, max_features=auto, max_depth=82 \n",
            "[CV]  n_estimators=1100, min_samples_split=5, min_samples_leaf=2, max_features=auto, max_depth=82, total=  26.9s\n",
            "[CV] n_estimators=1100, min_samples_split=5, min_samples_leaf=2, max_features=auto, max_depth=82 \n",
            "[CV]  n_estimators=1100, min_samples_split=5, min_samples_leaf=2, max_features=auto, max_depth=82, total=  27.0s\n",
            "[CV] n_estimators=1100, min_samples_split=5, min_samples_leaf=2, max_features=auto, max_depth=82 \n",
            "[CV]  n_estimators=1100, min_samples_split=5, min_samples_leaf=2, max_features=auto, max_depth=82, total=  26.9s\n",
            "[CV] n_estimators=1100, min_samples_split=5, min_samples_leaf=2, max_features=auto, max_depth=82 \n",
            "[CV]  n_estimators=1100, min_samples_split=5, min_samples_leaf=2, max_features=auto, max_depth=82, total=  26.9s\n",
            "[CV] n_estimators=1100, min_samples_split=5, min_samples_leaf=2, max_features=auto, max_depth=82 \n",
            "[CV]  n_estimators=1100, min_samples_split=5, min_samples_leaf=2, max_features=auto, max_depth=82, total=  27.0s\n",
            "[CV] n_estimators=1100, min_samples_split=5, min_samples_leaf=2, max_features=auto, max_depth=82 \n",
            "[CV]  n_estimators=1100, min_samples_split=5, min_samples_leaf=2, max_features=auto, max_depth=82, total=  26.8s\n",
            "[CV] n_estimators=1100, min_samples_split=5, min_samples_leaf=2, max_features=auto, max_depth=82 \n",
            "[CV]  n_estimators=1100, min_samples_split=5, min_samples_leaf=2, max_features=auto, max_depth=82, total=  26.9s\n",
            "[CV] n_estimators=1100, min_samples_split=5, min_samples_leaf=2, max_features=auto, max_depth=82 \n",
            "[CV]  n_estimators=1100, min_samples_split=5, min_samples_leaf=2, max_features=auto, max_depth=82, total=  26.9s\n",
            "[CV] n_estimators=300, min_samples_split=100, min_samples_leaf=1, max_features=auto, max_depth=46 \n",
            "[CV]  n_estimators=300, min_samples_split=100, min_samples_leaf=1, max_features=auto, max_depth=46, total=   4.5s\n",
            "[CV] n_estimators=300, min_samples_split=100, min_samples_leaf=1, max_features=auto, max_depth=46 \n",
            "[CV]  n_estimators=300, min_samples_split=100, min_samples_leaf=1, max_features=auto, max_depth=46, total=   4.5s\n",
            "[CV] n_estimators=300, min_samples_split=100, min_samples_leaf=1, max_features=auto, max_depth=46 \n",
            "[CV]  n_estimators=300, min_samples_split=100, min_samples_leaf=1, max_features=auto, max_depth=46, total=   4.5s\n",
            "[CV] n_estimators=300, min_samples_split=100, min_samples_leaf=1, max_features=auto, max_depth=46 \n",
            "[CV]  n_estimators=300, min_samples_split=100, min_samples_leaf=1, max_features=auto, max_depth=46, total=   4.5s\n",
            "[CV] n_estimators=300, min_samples_split=100, min_samples_leaf=1, max_features=auto, max_depth=46 \n",
            "[CV]  n_estimators=300, min_samples_split=100, min_samples_leaf=1, max_features=auto, max_depth=46, total=   4.5s\n",
            "[CV] n_estimators=300, min_samples_split=100, min_samples_leaf=1, max_features=auto, max_depth=46 \n",
            "[CV]  n_estimators=300, min_samples_split=100, min_samples_leaf=1, max_features=auto, max_depth=46, total=   4.5s\n",
            "[CV] n_estimators=300, min_samples_split=100, min_samples_leaf=1, max_features=auto, max_depth=46 \n",
            "[CV]  n_estimators=300, min_samples_split=100, min_samples_leaf=1, max_features=auto, max_depth=46, total=   4.6s\n",
            "[CV] n_estimators=300, min_samples_split=100, min_samples_leaf=1, max_features=auto, max_depth=46 \n",
            "[CV]  n_estimators=300, min_samples_split=100, min_samples_leaf=1, max_features=auto, max_depth=46, total=   4.5s\n",
            "[CV] n_estimators=300, min_samples_split=100, min_samples_leaf=1, max_features=auto, max_depth=46 \n",
            "[CV]  n_estimators=300, min_samples_split=100, min_samples_leaf=1, max_features=auto, max_depth=46, total=   4.5s\n",
            "[CV] n_estimators=300, min_samples_split=100, min_samples_leaf=1, max_features=auto, max_depth=46 \n",
            "[CV]  n_estimators=300, min_samples_split=100, min_samples_leaf=1, max_features=auto, max_depth=46, total=   4.5s\n",
            "[CV] n_estimators=100, min_samples_split=5, min_samples_leaf=2, max_features=sqrt, max_depth=64 \n",
            "[CV]  n_estimators=100, min_samples_split=5, min_samples_leaf=2, max_features=sqrt, max_depth=64, total=   0.7s\n",
            "[CV] n_estimators=100, min_samples_split=5, min_samples_leaf=2, max_features=sqrt, max_depth=64 \n",
            "[CV]  n_estimators=100, min_samples_split=5, min_samples_leaf=2, max_features=sqrt, max_depth=64, total=   0.7s\n",
            "[CV] n_estimators=100, min_samples_split=5, min_samples_leaf=2, max_features=sqrt, max_depth=64 \n",
            "[CV]  n_estimators=100, min_samples_split=5, min_samples_leaf=2, max_features=sqrt, max_depth=64, total=   0.7s\n",
            "[CV] n_estimators=100, min_samples_split=5, min_samples_leaf=2, max_features=sqrt, max_depth=64 \n",
            "[CV]  n_estimators=100, min_samples_split=5, min_samples_leaf=2, max_features=sqrt, max_depth=64, total=   0.7s\n",
            "[CV] n_estimators=100, min_samples_split=5, min_samples_leaf=2, max_features=sqrt, max_depth=64 \n",
            "[CV]  n_estimators=100, min_samples_split=5, min_samples_leaf=2, max_features=sqrt, max_depth=64, total=   0.7s\n",
            "[CV] n_estimators=100, min_samples_split=5, min_samples_leaf=2, max_features=sqrt, max_depth=64 \n",
            "[CV]  n_estimators=100, min_samples_split=5, min_samples_leaf=2, max_features=sqrt, max_depth=64, total=   0.7s\n",
            "[CV] n_estimators=100, min_samples_split=5, min_samples_leaf=2, max_features=sqrt, max_depth=64 \n",
            "[CV]  n_estimators=100, min_samples_split=5, min_samples_leaf=2, max_features=sqrt, max_depth=64, total=   0.7s\n",
            "[CV] n_estimators=100, min_samples_split=5, min_samples_leaf=2, max_features=sqrt, max_depth=64 \n",
            "[CV]  n_estimators=100, min_samples_split=5, min_samples_leaf=2, max_features=sqrt, max_depth=64, total=   0.7s\n",
            "[CV] n_estimators=100, min_samples_split=5, min_samples_leaf=2, max_features=sqrt, max_depth=64 \n",
            "[CV]  n_estimators=100, min_samples_split=5, min_samples_leaf=2, max_features=sqrt, max_depth=64, total=   0.7s\n",
            "[CV] n_estimators=100, min_samples_split=5, min_samples_leaf=2, max_features=sqrt, max_depth=64 \n",
            "[CV]  n_estimators=100, min_samples_split=5, min_samples_leaf=2, max_features=sqrt, max_depth=64, total=   0.7s\n",
            "[CV] n_estimators=700, min_samples_split=100, min_samples_leaf=10, max_features=sqrt, max_depth=64 \n",
            "[CV]  n_estimators=700, min_samples_split=100, min_samples_leaf=10, max_features=sqrt, max_depth=64, total=   2.9s\n",
            "[CV] n_estimators=700, min_samples_split=100, min_samples_leaf=10, max_features=sqrt, max_depth=64 \n",
            "[CV]  n_estimators=700, min_samples_split=100, min_samples_leaf=10, max_features=sqrt, max_depth=64, total=   2.9s\n",
            "[CV] n_estimators=700, min_samples_split=100, min_samples_leaf=10, max_features=sqrt, max_depth=64 \n",
            "[CV]  n_estimators=700, min_samples_split=100, min_samples_leaf=10, max_features=sqrt, max_depth=64, total=   2.9s\n",
            "[CV] n_estimators=700, min_samples_split=100, min_samples_leaf=10, max_features=sqrt, max_depth=64 \n",
            "[CV]  n_estimators=700, min_samples_split=100, min_samples_leaf=10, max_features=sqrt, max_depth=64, total=   2.9s\n",
            "[CV] n_estimators=700, min_samples_split=100, min_samples_leaf=10, max_features=sqrt, max_depth=64 \n",
            "[CV]  n_estimators=700, min_samples_split=100, min_samples_leaf=10, max_features=sqrt, max_depth=64, total=   2.8s\n",
            "[CV] n_estimators=700, min_samples_split=100, min_samples_leaf=10, max_features=sqrt, max_depth=64 \n",
            "[CV]  n_estimators=700, min_samples_split=100, min_samples_leaf=10, max_features=sqrt, max_depth=64, total=   2.9s\n",
            "[CV] n_estimators=700, min_samples_split=100, min_samples_leaf=10, max_features=sqrt, max_depth=64 \n",
            "[CV]  n_estimators=700, min_samples_split=100, min_samples_leaf=10, max_features=sqrt, max_depth=64, total=   2.9s\n",
            "[CV] n_estimators=700, min_samples_split=100, min_samples_leaf=10, max_features=sqrt, max_depth=64 \n",
            "[CV]  n_estimators=700, min_samples_split=100, min_samples_leaf=10, max_features=sqrt, max_depth=64, total=   2.9s\n",
            "[CV] n_estimators=700, min_samples_split=100, min_samples_leaf=10, max_features=sqrt, max_depth=64 \n",
            "[CV]  n_estimators=700, min_samples_split=100, min_samples_leaf=10, max_features=sqrt, max_depth=64, total=   2.8s\n",
            "[CV] n_estimators=700, min_samples_split=100, min_samples_leaf=10, max_features=sqrt, max_depth=64 \n",
            "[CV]  n_estimators=700, min_samples_split=100, min_samples_leaf=10, max_features=sqrt, max_depth=64, total=   2.9s\n",
            "[CV] n_estimators=200, min_samples_split=100, min_samples_leaf=10, max_features=sqrt, max_depth=46 \n",
            "[CV]  n_estimators=200, min_samples_split=100, min_samples_leaf=10, max_features=sqrt, max_depth=46, total=   0.8s\n",
            "[CV] n_estimators=200, min_samples_split=100, min_samples_leaf=10, max_features=sqrt, max_depth=46 \n",
            "[CV]  n_estimators=200, min_samples_split=100, min_samples_leaf=10, max_features=sqrt, max_depth=46, total=   0.8s\n",
            "[CV] n_estimators=200, min_samples_split=100, min_samples_leaf=10, max_features=sqrt, max_depth=46 \n",
            "[CV]  n_estimators=200, min_samples_split=100, min_samples_leaf=10, max_features=sqrt, max_depth=46, total=   0.8s\n",
            "[CV] n_estimators=200, min_samples_split=100, min_samples_leaf=10, max_features=sqrt, max_depth=46 \n",
            "[CV]  n_estimators=200, min_samples_split=100, min_samples_leaf=10, max_features=sqrt, max_depth=46, total=   0.8s\n",
            "[CV] n_estimators=200, min_samples_split=100, min_samples_leaf=10, max_features=sqrt, max_depth=46 \n",
            "[CV]  n_estimators=200, min_samples_split=100, min_samples_leaf=10, max_features=sqrt, max_depth=46, total=   0.8s\n",
            "[CV] n_estimators=200, min_samples_split=100, min_samples_leaf=10, max_features=sqrt, max_depth=46 \n",
            "[CV]  n_estimators=200, min_samples_split=100, min_samples_leaf=10, max_features=sqrt, max_depth=46, total=   0.8s\n",
            "[CV] n_estimators=200, min_samples_split=100, min_samples_leaf=10, max_features=sqrt, max_depth=46 \n",
            "[CV]  n_estimators=200, min_samples_split=100, min_samples_leaf=10, max_features=sqrt, max_depth=46, total=   0.8s\n",
            "[CV] n_estimators=200, min_samples_split=100, min_samples_leaf=10, max_features=sqrt, max_depth=46 \n",
            "[CV]  n_estimators=200, min_samples_split=100, min_samples_leaf=10, max_features=sqrt, max_depth=46, total=   0.8s\n",
            "[CV] n_estimators=200, min_samples_split=100, min_samples_leaf=10, max_features=sqrt, max_depth=46 \n",
            "[CV]  n_estimators=200, min_samples_split=100, min_samples_leaf=10, max_features=sqrt, max_depth=46, total=   0.8s\n",
            "[CV] n_estimators=200, min_samples_split=100, min_samples_leaf=10, max_features=sqrt, max_depth=46 \n",
            "[CV]  n_estimators=200, min_samples_split=100, min_samples_leaf=10, max_features=sqrt, max_depth=46, total=   0.8s\n",
            "[CV] n_estimators=500, min_samples_split=2, min_samples_leaf=5, max_features=auto, max_depth=64 \n",
            "[CV]  n_estimators=500, min_samples_split=2, min_samples_leaf=5, max_features=auto, max_depth=64, total=  11.1s\n",
            "[CV] n_estimators=500, min_samples_split=2, min_samples_leaf=5, max_features=auto, max_depth=64 \n",
            "[CV]  n_estimators=500, min_samples_split=2, min_samples_leaf=5, max_features=auto, max_depth=64, total=  11.2s\n",
            "[CV] n_estimators=500, min_samples_split=2, min_samples_leaf=5, max_features=auto, max_depth=64 \n",
            "[CV]  n_estimators=500, min_samples_split=2, min_samples_leaf=5, max_features=auto, max_depth=64, total=  11.2s\n",
            "[CV] n_estimators=500, min_samples_split=2, min_samples_leaf=5, max_features=auto, max_depth=64 \n",
            "[CV]  n_estimators=500, min_samples_split=2, min_samples_leaf=5, max_features=auto, max_depth=64, total=  11.2s\n",
            "[CV] n_estimators=500, min_samples_split=2, min_samples_leaf=5, max_features=auto, max_depth=64 \n",
            "[CV]  n_estimators=500, min_samples_split=2, min_samples_leaf=5, max_features=auto, max_depth=64, total=  11.1s\n",
            "[CV] n_estimators=500, min_samples_split=2, min_samples_leaf=5, max_features=auto, max_depth=64 \n",
            "[CV]  n_estimators=500, min_samples_split=2, min_samples_leaf=5, max_features=auto, max_depth=64, total=  11.2s\n",
            "[CV] n_estimators=500, min_samples_split=2, min_samples_leaf=5, max_features=auto, max_depth=64 \n",
            "[CV]  n_estimators=500, min_samples_split=2, min_samples_leaf=5, max_features=auto, max_depth=64, total=  11.1s\n",
            "[CV] n_estimators=500, min_samples_split=2, min_samples_leaf=5, max_features=auto, max_depth=64 \n",
            "[CV]  n_estimators=500, min_samples_split=2, min_samples_leaf=5, max_features=auto, max_depth=64, total=  11.2s\n",
            "[CV] n_estimators=500, min_samples_split=2, min_samples_leaf=5, max_features=auto, max_depth=64 \n",
            "[CV]  n_estimators=500, min_samples_split=2, min_samples_leaf=5, max_features=auto, max_depth=64, total=  11.1s\n",
            "[CV] n_estimators=500, min_samples_split=2, min_samples_leaf=5, max_features=auto, max_depth=64 \n",
            "[CV]  n_estimators=500, min_samples_split=2, min_samples_leaf=5, max_features=auto, max_depth=64, total=  11.2s\n",
            "[CV] n_estimators=900, min_samples_split=10, min_samples_leaf=10, max_features=sqrt, max_depth=82 \n",
            "[CV]  n_estimators=900, min_samples_split=10, min_samples_leaf=10, max_features=sqrt, max_depth=82, total=   4.4s\n",
            "[CV] n_estimators=900, min_samples_split=10, min_samples_leaf=10, max_features=sqrt, max_depth=82 \n",
            "[CV]  n_estimators=900, min_samples_split=10, min_samples_leaf=10, max_features=sqrt, max_depth=82, total=   4.4s\n",
            "[CV] n_estimators=900, min_samples_split=10, min_samples_leaf=10, max_features=sqrt, max_depth=82 \n",
            "[CV]  n_estimators=900, min_samples_split=10, min_samples_leaf=10, max_features=sqrt, max_depth=82, total=   4.4s\n",
            "[CV] n_estimators=900, min_samples_split=10, min_samples_leaf=10, max_features=sqrt, max_depth=82 \n",
            "[CV]  n_estimators=900, min_samples_split=10, min_samples_leaf=10, max_features=sqrt, max_depth=82, total=   4.4s\n",
            "[CV] n_estimators=900, min_samples_split=10, min_samples_leaf=10, max_features=sqrt, max_depth=82 \n",
            "[CV]  n_estimators=900, min_samples_split=10, min_samples_leaf=10, max_features=sqrt, max_depth=82, total=   4.4s\n",
            "[CV] n_estimators=900, min_samples_split=10, min_samples_leaf=10, max_features=sqrt, max_depth=82 \n",
            "[CV]  n_estimators=900, min_samples_split=10, min_samples_leaf=10, max_features=sqrt, max_depth=82, total=   4.4s\n",
            "[CV] n_estimators=900, min_samples_split=10, min_samples_leaf=10, max_features=sqrt, max_depth=82 \n",
            "[CV]  n_estimators=900, min_samples_split=10, min_samples_leaf=10, max_features=sqrt, max_depth=82, total=   4.4s\n",
            "[CV] n_estimators=900, min_samples_split=10, min_samples_leaf=10, max_features=sqrt, max_depth=82 \n",
            "[CV]  n_estimators=900, min_samples_split=10, min_samples_leaf=10, max_features=sqrt, max_depth=82, total=   4.5s\n",
            "[CV] n_estimators=900, min_samples_split=10, min_samples_leaf=10, max_features=sqrt, max_depth=82 \n",
            "[CV]  n_estimators=900, min_samples_split=10, min_samples_leaf=10, max_features=sqrt, max_depth=82, total=   4.4s\n",
            "[CV] n_estimators=900, min_samples_split=10, min_samples_leaf=10, max_features=sqrt, max_depth=82 \n",
            "[CV]  n_estimators=900, min_samples_split=10, min_samples_leaf=10, max_features=sqrt, max_depth=82, total=   4.4s\n",
            "[CV] n_estimators=1200, min_samples_split=15, min_samples_leaf=5, max_features=auto, max_depth=100 \n",
            "[CV]  n_estimators=1200, min_samples_split=15, min_samples_leaf=5, max_features=auto, max_depth=100, total=  25.7s\n",
            "[CV] n_estimators=1200, min_samples_split=15, min_samples_leaf=5, max_features=auto, max_depth=100 \n",
            "[CV]  n_estimators=1200, min_samples_split=15, min_samples_leaf=5, max_features=auto, max_depth=100, total=  25.7s\n",
            "[CV] n_estimators=1200, min_samples_split=15, min_samples_leaf=5, max_features=auto, max_depth=100 \n",
            "[CV]  n_estimators=1200, min_samples_split=15, min_samples_leaf=5, max_features=auto, max_depth=100, total=  25.6s\n",
            "[CV] n_estimators=1200, min_samples_split=15, min_samples_leaf=5, max_features=auto, max_depth=100 \n",
            "[CV]  n_estimators=1200, min_samples_split=15, min_samples_leaf=5, max_features=auto, max_depth=100, total=  25.7s\n",
            "[CV] n_estimators=1200, min_samples_split=15, min_samples_leaf=5, max_features=auto, max_depth=100 \n",
            "[CV]  n_estimators=1200, min_samples_split=15, min_samples_leaf=5, max_features=auto, max_depth=100, total=  25.5s\n",
            "[CV] n_estimators=1200, min_samples_split=15, min_samples_leaf=5, max_features=auto, max_depth=100 \n",
            "[CV]  n_estimators=1200, min_samples_split=15, min_samples_leaf=5, max_features=auto, max_depth=100, total=  25.6s\n",
            "[CV] n_estimators=1200, min_samples_split=15, min_samples_leaf=5, max_features=auto, max_depth=100 \n",
            "[CV]  n_estimators=1200, min_samples_split=15, min_samples_leaf=5, max_features=auto, max_depth=100, total=  25.6s\n",
            "[CV] n_estimators=1200, min_samples_split=15, min_samples_leaf=5, max_features=auto, max_depth=100 \n",
            "[CV]  n_estimators=1200, min_samples_split=15, min_samples_leaf=5, max_features=auto, max_depth=100, total=  25.6s\n",
            "[CV] n_estimators=1200, min_samples_split=15, min_samples_leaf=5, max_features=auto, max_depth=100 \n",
            "[CV]  n_estimators=1200, min_samples_split=15, min_samples_leaf=5, max_features=auto, max_depth=100, total=  25.6s\n",
            "[CV] n_estimators=1200, min_samples_split=15, min_samples_leaf=5, max_features=auto, max_depth=100 \n",
            "[CV]  n_estimators=1200, min_samples_split=15, min_samples_leaf=5, max_features=auto, max_depth=100, total=  25.6s\n",
            "[CV] n_estimators=900, min_samples_split=10, min_samples_leaf=1, max_features=auto, max_depth=82 \n",
            "[CV]  n_estimators=900, min_samples_split=10, min_samples_leaf=1, max_features=auto, max_depth=82, total=  21.1s\n",
            "[CV] n_estimators=900, min_samples_split=10, min_samples_leaf=1, max_features=auto, max_depth=82 \n",
            "[CV]  n_estimators=900, min_samples_split=10, min_samples_leaf=1, max_features=auto, max_depth=82, total=  21.1s\n",
            "[CV] n_estimators=900, min_samples_split=10, min_samples_leaf=1, max_features=auto, max_depth=82 \n",
            "[CV]  n_estimators=900, min_samples_split=10, min_samples_leaf=1, max_features=auto, max_depth=82, total=  21.0s\n",
            "[CV] n_estimators=900, min_samples_split=10, min_samples_leaf=1, max_features=auto, max_depth=82 \n",
            "[CV]  n_estimators=900, min_samples_split=10, min_samples_leaf=1, max_features=auto, max_depth=82, total=  21.1s\n",
            "[CV] n_estimators=900, min_samples_split=10, min_samples_leaf=1, max_features=auto, max_depth=82 \n",
            "[CV]  n_estimators=900, min_samples_split=10, min_samples_leaf=1, max_features=auto, max_depth=82, total=  20.9s\n",
            "[CV] n_estimators=900, min_samples_split=10, min_samples_leaf=1, max_features=auto, max_depth=82 \n",
            "[CV]  n_estimators=900, min_samples_split=10, min_samples_leaf=1, max_features=auto, max_depth=82, total=  21.1s\n",
            "[CV] n_estimators=900, min_samples_split=10, min_samples_leaf=1, max_features=auto, max_depth=82 \n",
            "[CV]  n_estimators=900, min_samples_split=10, min_samples_leaf=1, max_features=auto, max_depth=82, total=  21.1s\n",
            "[CV] n_estimators=900, min_samples_split=10, min_samples_leaf=1, max_features=auto, max_depth=82 \n",
            "[CV]  n_estimators=900, min_samples_split=10, min_samples_leaf=1, max_features=auto, max_depth=82, total=  21.0s\n",
            "[CV] n_estimators=900, min_samples_split=10, min_samples_leaf=1, max_features=auto, max_depth=82 \n",
            "[CV]  n_estimators=900, min_samples_split=10, min_samples_leaf=1, max_features=auto, max_depth=82, total=  21.0s\n",
            "[CV] n_estimators=900, min_samples_split=10, min_samples_leaf=1, max_features=auto, max_depth=82 \n",
            "[CV]  n_estimators=900, min_samples_split=10, min_samples_leaf=1, max_features=auto, max_depth=82, total=  21.1s\n",
            "[CV] n_estimators=600, min_samples_split=5, min_samples_leaf=5, max_features=sqrt, max_depth=28 \n",
            "[CV]  n_estimators=600, min_samples_split=5, min_samples_leaf=5, max_features=sqrt, max_depth=28, total=   3.4s\n",
            "[CV] n_estimators=600, min_samples_split=5, min_samples_leaf=5, max_features=sqrt, max_depth=28 \n",
            "[CV]  n_estimators=600, min_samples_split=5, min_samples_leaf=5, max_features=sqrt, max_depth=28, total=   3.5s\n",
            "[CV] n_estimators=600, min_samples_split=5, min_samples_leaf=5, max_features=sqrt, max_depth=28 \n",
            "[CV]  n_estimators=600, min_samples_split=5, min_samples_leaf=5, max_features=sqrt, max_depth=28, total=   3.4s\n",
            "[CV] n_estimators=600, min_samples_split=5, min_samples_leaf=5, max_features=sqrt, max_depth=28 \n",
            "[CV]  n_estimators=600, min_samples_split=5, min_samples_leaf=5, max_features=sqrt, max_depth=28, total=   3.4s\n",
            "[CV] n_estimators=600, min_samples_split=5, min_samples_leaf=5, max_features=sqrt, max_depth=28 \n",
            "[CV]  n_estimators=600, min_samples_split=5, min_samples_leaf=5, max_features=sqrt, max_depth=28, total=   3.4s\n",
            "[CV] n_estimators=600, min_samples_split=5, min_samples_leaf=5, max_features=sqrt, max_depth=28 \n",
            "[CV]  n_estimators=600, min_samples_split=5, min_samples_leaf=5, max_features=sqrt, max_depth=28, total=   3.4s\n",
            "[CV] n_estimators=600, min_samples_split=5, min_samples_leaf=5, max_features=sqrt, max_depth=28 \n",
            "[CV]  n_estimators=600, min_samples_split=5, min_samples_leaf=5, max_features=sqrt, max_depth=28, total=   3.4s\n",
            "[CV] n_estimators=600, min_samples_split=5, min_samples_leaf=5, max_features=sqrt, max_depth=28 \n",
            "[CV]  n_estimators=600, min_samples_split=5, min_samples_leaf=5, max_features=sqrt, max_depth=28, total=   3.4s\n",
            "[CV] n_estimators=600, min_samples_split=5, min_samples_leaf=5, max_features=sqrt, max_depth=28 \n",
            "[CV]  n_estimators=600, min_samples_split=5, min_samples_leaf=5, max_features=sqrt, max_depth=28, total=   3.4s\n",
            "[CV] n_estimators=600, min_samples_split=5, min_samples_leaf=5, max_features=sqrt, max_depth=28 \n",
            "[CV]  n_estimators=600, min_samples_split=5, min_samples_leaf=5, max_features=sqrt, max_depth=28, total=   3.4s\n",
            "[CV] n_estimators=800, min_samples_split=5, min_samples_leaf=5, max_features=sqrt, max_depth=82 \n",
            "[CV]  n_estimators=800, min_samples_split=5, min_samples_leaf=5, max_features=sqrt, max_depth=82, total=   4.5s\n",
            "[CV] n_estimators=800, min_samples_split=5, min_samples_leaf=5, max_features=sqrt, max_depth=82 \n",
            "[CV]  n_estimators=800, min_samples_split=5, min_samples_leaf=5, max_features=sqrt, max_depth=82, total=   4.5s\n",
            "[CV] n_estimators=800, min_samples_split=5, min_samples_leaf=5, max_features=sqrt, max_depth=82 \n",
            "[CV]  n_estimators=800, min_samples_split=5, min_samples_leaf=5, max_features=sqrt, max_depth=82, total=   4.5s\n",
            "[CV] n_estimators=800, min_samples_split=5, min_samples_leaf=5, max_features=sqrt, max_depth=82 \n",
            "[CV]  n_estimators=800, min_samples_split=5, min_samples_leaf=5, max_features=sqrt, max_depth=82, total=   4.5s\n",
            "[CV] n_estimators=800, min_samples_split=5, min_samples_leaf=5, max_features=sqrt, max_depth=82 \n",
            "[CV]  n_estimators=800, min_samples_split=5, min_samples_leaf=5, max_features=sqrt, max_depth=82, total=   4.5s\n",
            "[CV] n_estimators=800, min_samples_split=5, min_samples_leaf=5, max_features=sqrt, max_depth=82 \n",
            "[CV]  n_estimators=800, min_samples_split=5, min_samples_leaf=5, max_features=sqrt, max_depth=82, total=   4.5s\n",
            "[CV] n_estimators=800, min_samples_split=5, min_samples_leaf=5, max_features=sqrt, max_depth=82 \n",
            "[CV]  n_estimators=800, min_samples_split=5, min_samples_leaf=5, max_features=sqrt, max_depth=82, total=   4.5s\n",
            "[CV] n_estimators=800, min_samples_split=5, min_samples_leaf=5, max_features=sqrt, max_depth=82 \n",
            "[CV]  n_estimators=800, min_samples_split=5, min_samples_leaf=5, max_features=sqrt, max_depth=82, total=   4.5s\n",
            "[CV] n_estimators=800, min_samples_split=5, min_samples_leaf=5, max_features=sqrt, max_depth=82 \n",
            "[CV]  n_estimators=800, min_samples_split=5, min_samples_leaf=5, max_features=sqrt, max_depth=82, total=   4.5s\n",
            "[CV] n_estimators=800, min_samples_split=5, min_samples_leaf=5, max_features=sqrt, max_depth=82 \n",
            "[CV]  n_estimators=800, min_samples_split=5, min_samples_leaf=5, max_features=sqrt, max_depth=82, total=   4.5s\n",
            "[CV] n_estimators=500, min_samples_split=2, min_samples_leaf=5, max_features=auto, max_depth=10 \n",
            "[CV]  n_estimators=500, min_samples_split=2, min_samples_leaf=5, max_features=auto, max_depth=10, total=  10.7s\n",
            "[CV] n_estimators=500, min_samples_split=2, min_samples_leaf=5, max_features=auto, max_depth=10 \n",
            "[CV]  n_estimators=500, min_samples_split=2, min_samples_leaf=5, max_features=auto, max_depth=10, total=  10.8s\n",
            "[CV] n_estimators=500, min_samples_split=2, min_samples_leaf=5, max_features=auto, max_depth=10 \n",
            "[CV]  n_estimators=500, min_samples_split=2, min_samples_leaf=5, max_features=auto, max_depth=10, total=  10.8s\n",
            "[CV] n_estimators=500, min_samples_split=2, min_samples_leaf=5, max_features=auto, max_depth=10 \n",
            "[CV]  n_estimators=500, min_samples_split=2, min_samples_leaf=5, max_features=auto, max_depth=10, total=  10.7s\n",
            "[CV] n_estimators=500, min_samples_split=2, min_samples_leaf=5, max_features=auto, max_depth=10 \n",
            "[CV]  n_estimators=500, min_samples_split=2, min_samples_leaf=5, max_features=auto, max_depth=10, total=  10.7s\n",
            "[CV] n_estimators=500, min_samples_split=2, min_samples_leaf=5, max_features=auto, max_depth=10 \n",
            "[CV]  n_estimators=500, min_samples_split=2, min_samples_leaf=5, max_features=auto, max_depth=10, total=  10.7s\n",
            "[CV] n_estimators=500, min_samples_split=2, min_samples_leaf=5, max_features=auto, max_depth=10 \n",
            "[CV]  n_estimators=500, min_samples_split=2, min_samples_leaf=5, max_features=auto, max_depth=10, total=  10.7s\n",
            "[CV] n_estimators=500, min_samples_split=2, min_samples_leaf=5, max_features=auto, max_depth=10 \n",
            "[CV]  n_estimators=500, min_samples_split=2, min_samples_leaf=5, max_features=auto, max_depth=10, total=  10.8s\n",
            "[CV] n_estimators=500, min_samples_split=2, min_samples_leaf=5, max_features=auto, max_depth=10 \n",
            "[CV]  n_estimators=500, min_samples_split=2, min_samples_leaf=5, max_features=auto, max_depth=10, total=  10.7s\n",
            "[CV] n_estimators=500, min_samples_split=2, min_samples_leaf=5, max_features=auto, max_depth=10 \n",
            "[CV]  n_estimators=500, min_samples_split=2, min_samples_leaf=5, max_features=auto, max_depth=10, total=  10.7s\n",
            "[CV] n_estimators=800, min_samples_split=100, min_samples_leaf=2, max_features=sqrt, max_depth=82 \n",
            "[CV]  n_estimators=800, min_samples_split=100, min_samples_leaf=2, max_features=sqrt, max_depth=82, total=   3.4s\n",
            "[CV] n_estimators=800, min_samples_split=100, min_samples_leaf=2, max_features=sqrt, max_depth=82 \n",
            "[CV]  n_estimators=800, min_samples_split=100, min_samples_leaf=2, max_features=sqrt, max_depth=82, total=   3.4s\n",
            "[CV] n_estimators=800, min_samples_split=100, min_samples_leaf=2, max_features=sqrt, max_depth=82 \n",
            "[CV]  n_estimators=800, min_samples_split=100, min_samples_leaf=2, max_features=sqrt, max_depth=82, total=   3.4s\n",
            "[CV] n_estimators=800, min_samples_split=100, min_samples_leaf=2, max_features=sqrt, max_depth=82 \n",
            "[CV]  n_estimators=800, min_samples_split=100, min_samples_leaf=2, max_features=sqrt, max_depth=82, total=   3.4s\n",
            "[CV] n_estimators=800, min_samples_split=100, min_samples_leaf=2, max_features=sqrt, max_depth=82 \n",
            "[CV]  n_estimators=800, min_samples_split=100, min_samples_leaf=2, max_features=sqrt, max_depth=82, total=   3.4s\n",
            "[CV] n_estimators=800, min_samples_split=100, min_samples_leaf=2, max_features=sqrt, max_depth=82 \n",
            "[CV]  n_estimators=800, min_samples_split=100, min_samples_leaf=2, max_features=sqrt, max_depth=82, total=   3.4s\n",
            "[CV] n_estimators=800, min_samples_split=100, min_samples_leaf=2, max_features=sqrt, max_depth=82 \n",
            "[CV]  n_estimators=800, min_samples_split=100, min_samples_leaf=2, max_features=sqrt, max_depth=82, total=   3.4s\n",
            "[CV] n_estimators=800, min_samples_split=100, min_samples_leaf=2, max_features=sqrt, max_depth=82 \n",
            "[CV]  n_estimators=800, min_samples_split=100, min_samples_leaf=2, max_features=sqrt, max_depth=82, total=   3.4s\n",
            "[CV] n_estimators=800, min_samples_split=100, min_samples_leaf=2, max_features=sqrt, max_depth=82 \n",
            "[CV]  n_estimators=800, min_samples_split=100, min_samples_leaf=2, max_features=sqrt, max_depth=82, total=   3.4s\n",
            "[CV] n_estimators=800, min_samples_split=100, min_samples_leaf=2, max_features=sqrt, max_depth=82 \n",
            "[CV]  n_estimators=800, min_samples_split=100, min_samples_leaf=2, max_features=sqrt, max_depth=82, total=   3.4s\n",
            "[CV] n_estimators=1200, min_samples_split=2, min_samples_leaf=5, max_features=sqrt, max_depth=100 \n",
            "[CV]  n_estimators=1200, min_samples_split=2, min_samples_leaf=5, max_features=sqrt, max_depth=100, total=   6.8s\n",
            "[CV] n_estimators=1200, min_samples_split=2, min_samples_leaf=5, max_features=sqrt, max_depth=100 \n",
            "[CV]  n_estimators=1200, min_samples_split=2, min_samples_leaf=5, max_features=sqrt, max_depth=100, total=   6.8s\n",
            "[CV] n_estimators=1200, min_samples_split=2, min_samples_leaf=5, max_features=sqrt, max_depth=100 \n",
            "[CV]  n_estimators=1200, min_samples_split=2, min_samples_leaf=5, max_features=sqrt, max_depth=100, total=   6.7s\n",
            "[CV] n_estimators=1200, min_samples_split=2, min_samples_leaf=5, max_features=sqrt, max_depth=100 \n",
            "[CV]  n_estimators=1200, min_samples_split=2, min_samples_leaf=5, max_features=sqrt, max_depth=100, total=   6.8s\n",
            "[CV] n_estimators=1200, min_samples_split=2, min_samples_leaf=5, max_features=sqrt, max_depth=100 \n",
            "[CV]  n_estimators=1200, min_samples_split=2, min_samples_leaf=5, max_features=sqrt, max_depth=100, total=   6.7s\n",
            "[CV] n_estimators=1200, min_samples_split=2, min_samples_leaf=5, max_features=sqrt, max_depth=100 \n",
            "[CV]  n_estimators=1200, min_samples_split=2, min_samples_leaf=5, max_features=sqrt, max_depth=100, total=   6.7s\n",
            "[CV] n_estimators=1200, min_samples_split=2, min_samples_leaf=5, max_features=sqrt, max_depth=100 \n",
            "[CV]  n_estimators=1200, min_samples_split=2, min_samples_leaf=5, max_features=sqrt, max_depth=100, total=   6.8s\n",
            "[CV] n_estimators=1200, min_samples_split=2, min_samples_leaf=5, max_features=sqrt, max_depth=100 \n",
            "[CV]  n_estimators=1200, min_samples_split=2, min_samples_leaf=5, max_features=sqrt, max_depth=100, total=   6.7s\n",
            "[CV] n_estimators=1200, min_samples_split=2, min_samples_leaf=5, max_features=sqrt, max_depth=100 \n",
            "[CV]  n_estimators=1200, min_samples_split=2, min_samples_leaf=5, max_features=sqrt, max_depth=100, total=   6.7s\n",
            "[CV] n_estimators=1200, min_samples_split=2, min_samples_leaf=5, max_features=sqrt, max_depth=100 \n",
            "[CV]  n_estimators=1200, min_samples_split=2, min_samples_leaf=5, max_features=sqrt, max_depth=100, total=   6.8s\n",
            "[CV] n_estimators=600, min_samples_split=10, min_samples_leaf=1, max_features=sqrt, max_depth=100 \n",
            "[CV]  n_estimators=600, min_samples_split=10, min_samples_leaf=1, max_features=sqrt, max_depth=100, total=   3.8s\n",
            "[CV] n_estimators=600, min_samples_split=10, min_samples_leaf=1, max_features=sqrt, max_depth=100 \n",
            "[CV]  n_estimators=600, min_samples_split=10, min_samples_leaf=1, max_features=sqrt, max_depth=100, total=   3.8s\n",
            "[CV] n_estimators=600, min_samples_split=10, min_samples_leaf=1, max_features=sqrt, max_depth=100 \n",
            "[CV]  n_estimators=600, min_samples_split=10, min_samples_leaf=1, max_features=sqrt, max_depth=100, total=   3.8s\n",
            "[CV] n_estimators=600, min_samples_split=10, min_samples_leaf=1, max_features=sqrt, max_depth=100 \n",
            "[CV]  n_estimators=600, min_samples_split=10, min_samples_leaf=1, max_features=sqrt, max_depth=100, total=   3.8s\n",
            "[CV] n_estimators=600, min_samples_split=10, min_samples_leaf=1, max_features=sqrt, max_depth=100 \n",
            "[CV]  n_estimators=600, min_samples_split=10, min_samples_leaf=1, max_features=sqrt, max_depth=100, total=   3.8s\n",
            "[CV] n_estimators=600, min_samples_split=10, min_samples_leaf=1, max_features=sqrt, max_depth=100 \n",
            "[CV]  n_estimators=600, min_samples_split=10, min_samples_leaf=1, max_features=sqrt, max_depth=100, total=   3.8s\n",
            "[CV] n_estimators=600, min_samples_split=10, min_samples_leaf=1, max_features=sqrt, max_depth=100 \n",
            "[CV]  n_estimators=600, min_samples_split=10, min_samples_leaf=1, max_features=sqrt, max_depth=100, total=   3.8s\n",
            "[CV] n_estimators=600, min_samples_split=10, min_samples_leaf=1, max_features=sqrt, max_depth=100 \n",
            "[CV]  n_estimators=600, min_samples_split=10, min_samples_leaf=1, max_features=sqrt, max_depth=100, total=   3.8s\n",
            "[CV] n_estimators=600, min_samples_split=10, min_samples_leaf=1, max_features=sqrt, max_depth=100 \n",
            "[CV]  n_estimators=600, min_samples_split=10, min_samples_leaf=1, max_features=sqrt, max_depth=100, total=   3.8s\n",
            "[CV] n_estimators=600, min_samples_split=10, min_samples_leaf=1, max_features=sqrt, max_depth=100 \n",
            "[CV]  n_estimators=600, min_samples_split=10, min_samples_leaf=1, max_features=sqrt, max_depth=100, total=   3.8s\n",
            "[CV] n_estimators=900, min_samples_split=10, min_samples_leaf=1, max_features=auto, max_depth=64 \n",
            "[CV]  n_estimators=900, min_samples_split=10, min_samples_leaf=1, max_features=auto, max_depth=64, total=  21.1s\n",
            "[CV] n_estimators=900, min_samples_split=10, min_samples_leaf=1, max_features=auto, max_depth=64 \n",
            "[CV]  n_estimators=900, min_samples_split=10, min_samples_leaf=1, max_features=auto, max_depth=64, total=  21.2s\n",
            "[CV] n_estimators=900, min_samples_split=10, min_samples_leaf=1, max_features=auto, max_depth=64 \n",
            "[CV]  n_estimators=900, min_samples_split=10, min_samples_leaf=1, max_features=auto, max_depth=64, total=  21.0s\n",
            "[CV] n_estimators=900, min_samples_split=10, min_samples_leaf=1, max_features=auto, max_depth=64 \n",
            "[CV]  n_estimators=900, min_samples_split=10, min_samples_leaf=1, max_features=auto, max_depth=64, total=  21.1s\n",
            "[CV] n_estimators=900, min_samples_split=10, min_samples_leaf=1, max_features=auto, max_depth=64 \n",
            "[CV]  n_estimators=900, min_samples_split=10, min_samples_leaf=1, max_features=auto, max_depth=64, total=  21.0s\n",
            "[CV] n_estimators=900, min_samples_split=10, min_samples_leaf=1, max_features=auto, max_depth=64 \n",
            "[CV]  n_estimators=900, min_samples_split=10, min_samples_leaf=1, max_features=auto, max_depth=64, total=  21.0s\n",
            "[CV] n_estimators=900, min_samples_split=10, min_samples_leaf=1, max_features=auto, max_depth=64 \n",
            "[CV]  n_estimators=900, min_samples_split=10, min_samples_leaf=1, max_features=auto, max_depth=64, total=  21.1s\n",
            "[CV] n_estimators=900, min_samples_split=10, min_samples_leaf=1, max_features=auto, max_depth=64 \n",
            "[CV]  n_estimators=900, min_samples_split=10, min_samples_leaf=1, max_features=auto, max_depth=64, total=  21.1s\n",
            "[CV] n_estimators=900, min_samples_split=10, min_samples_leaf=1, max_features=auto, max_depth=64 \n",
            "[CV]  n_estimators=900, min_samples_split=10, min_samples_leaf=1, max_features=auto, max_depth=64, total=  21.0s\n",
            "[CV] n_estimators=900, min_samples_split=10, min_samples_leaf=1, max_features=auto, max_depth=64 \n",
            "[CV]  n_estimators=900, min_samples_split=10, min_samples_leaf=1, max_features=auto, max_depth=64, total=  21.1s\n",
            "[CV] n_estimators=200, min_samples_split=2, min_samples_leaf=5, max_features=sqrt, max_depth=46 \n",
            "[CV]  n_estimators=200, min_samples_split=2, min_samples_leaf=5, max_features=sqrt, max_depth=46, total=   1.1s\n",
            "[CV] n_estimators=200, min_samples_split=2, min_samples_leaf=5, max_features=sqrt, max_depth=46 \n",
            "[CV]  n_estimators=200, min_samples_split=2, min_samples_leaf=5, max_features=sqrt, max_depth=46, total=   1.1s\n",
            "[CV] n_estimators=200, min_samples_split=2, min_samples_leaf=5, max_features=sqrt, max_depth=46 \n",
            "[CV]  n_estimators=200, min_samples_split=2, min_samples_leaf=5, max_features=sqrt, max_depth=46, total=   1.1s\n",
            "[CV] n_estimators=200, min_samples_split=2, min_samples_leaf=5, max_features=sqrt, max_depth=46 \n",
            "[CV]  n_estimators=200, min_samples_split=2, min_samples_leaf=5, max_features=sqrt, max_depth=46, total=   1.1s\n",
            "[CV] n_estimators=200, min_samples_split=2, min_samples_leaf=5, max_features=sqrt, max_depth=46 \n",
            "[CV]  n_estimators=200, min_samples_split=2, min_samples_leaf=5, max_features=sqrt, max_depth=46, total=   1.1s\n",
            "[CV] n_estimators=200, min_samples_split=2, min_samples_leaf=5, max_features=sqrt, max_depth=46 \n",
            "[CV]  n_estimators=200, min_samples_split=2, min_samples_leaf=5, max_features=sqrt, max_depth=46, total=   1.1s\n",
            "[CV] n_estimators=200, min_samples_split=2, min_samples_leaf=5, max_features=sqrt, max_depth=46 \n",
            "[CV]  n_estimators=200, min_samples_split=2, min_samples_leaf=5, max_features=sqrt, max_depth=46, total=   1.2s\n",
            "[CV] n_estimators=200, min_samples_split=2, min_samples_leaf=5, max_features=sqrt, max_depth=46 \n",
            "[CV]  n_estimators=200, min_samples_split=2, min_samples_leaf=5, max_features=sqrt, max_depth=46, total=   1.1s\n",
            "[CV] n_estimators=200, min_samples_split=2, min_samples_leaf=5, max_features=sqrt, max_depth=46 \n",
            "[CV]  n_estimators=200, min_samples_split=2, min_samples_leaf=5, max_features=sqrt, max_depth=46, total=   1.1s\n",
            "[CV] n_estimators=200, min_samples_split=2, min_samples_leaf=5, max_features=sqrt, max_depth=46 \n",
            "[CV]  n_estimators=200, min_samples_split=2, min_samples_leaf=5, max_features=sqrt, max_depth=46, total=   1.1s\n",
            "[CV] n_estimators=700, min_samples_split=10, min_samples_leaf=10, max_features=sqrt, max_depth=82 \n",
            "[CV]  n_estimators=700, min_samples_split=10, min_samples_leaf=10, max_features=sqrt, max_depth=82, total=   3.4s\n",
            "[CV] n_estimators=700, min_samples_split=10, min_samples_leaf=10, max_features=sqrt, max_depth=82 \n",
            "[CV]  n_estimators=700, min_samples_split=10, min_samples_leaf=10, max_features=sqrt, max_depth=82, total=   3.5s\n",
            "[CV] n_estimators=700, min_samples_split=10, min_samples_leaf=10, max_features=sqrt, max_depth=82 \n",
            "[CV]  n_estimators=700, min_samples_split=10, min_samples_leaf=10, max_features=sqrt, max_depth=82, total=   3.4s\n",
            "[CV] n_estimators=700, min_samples_split=10, min_samples_leaf=10, max_features=sqrt, max_depth=82 \n",
            "[CV]  n_estimators=700, min_samples_split=10, min_samples_leaf=10, max_features=sqrt, max_depth=82, total=   3.5s\n",
            "[CV] n_estimators=700, min_samples_split=10, min_samples_leaf=10, max_features=sqrt, max_depth=82 \n",
            "[CV]  n_estimators=700, min_samples_split=10, min_samples_leaf=10, max_features=sqrt, max_depth=82, total=   3.4s\n",
            "[CV] n_estimators=700, min_samples_split=10, min_samples_leaf=10, max_features=sqrt, max_depth=82 \n",
            "[CV]  n_estimators=700, min_samples_split=10, min_samples_leaf=10, max_features=sqrt, max_depth=82, total=   3.4s\n",
            "[CV] n_estimators=700, min_samples_split=10, min_samples_leaf=10, max_features=sqrt, max_depth=82 \n",
            "[CV]  n_estimators=700, min_samples_split=10, min_samples_leaf=10, max_features=sqrt, max_depth=82, total=   3.4s\n",
            "[CV] n_estimators=700, min_samples_split=10, min_samples_leaf=10, max_features=sqrt, max_depth=82 \n",
            "[CV]  n_estimators=700, min_samples_split=10, min_samples_leaf=10, max_features=sqrt, max_depth=82, total=   3.4s\n",
            "[CV] n_estimators=700, min_samples_split=10, min_samples_leaf=10, max_features=sqrt, max_depth=82 \n",
            "[CV]  n_estimators=700, min_samples_split=10, min_samples_leaf=10, max_features=sqrt, max_depth=82, total=   3.4s\n",
            "[CV] n_estimators=700, min_samples_split=10, min_samples_leaf=10, max_features=sqrt, max_depth=82 \n",
            "[CV]  n_estimators=700, min_samples_split=10, min_samples_leaf=10, max_features=sqrt, max_depth=82, total=   3.4s\n",
            "[CV] n_estimators=200, min_samples_split=10, min_samples_leaf=10, max_features=sqrt, max_depth=46 \n",
            "[CV]  n_estimators=200, min_samples_split=10, min_samples_leaf=10, max_features=sqrt, max_depth=46, total=   1.0s\n",
            "[CV] n_estimators=200, min_samples_split=10, min_samples_leaf=10, max_features=sqrt, max_depth=46 \n",
            "[CV]  n_estimators=200, min_samples_split=10, min_samples_leaf=10, max_features=sqrt, max_depth=46, total=   1.0s\n",
            "[CV] n_estimators=200, min_samples_split=10, min_samples_leaf=10, max_features=sqrt, max_depth=46 \n",
            "[CV]  n_estimators=200, min_samples_split=10, min_samples_leaf=10, max_features=sqrt, max_depth=46, total=   1.0s\n",
            "[CV] n_estimators=200, min_samples_split=10, min_samples_leaf=10, max_features=sqrt, max_depth=46 \n",
            "[CV]  n_estimators=200, min_samples_split=10, min_samples_leaf=10, max_features=sqrt, max_depth=46, total=   1.0s\n",
            "[CV] n_estimators=200, min_samples_split=10, min_samples_leaf=10, max_features=sqrt, max_depth=46 \n",
            "[CV]  n_estimators=200, min_samples_split=10, min_samples_leaf=10, max_features=sqrt, max_depth=46, total=   1.0s\n",
            "[CV] n_estimators=200, min_samples_split=10, min_samples_leaf=10, max_features=sqrt, max_depth=46 \n",
            "[CV]  n_estimators=200, min_samples_split=10, min_samples_leaf=10, max_features=sqrt, max_depth=46, total=   1.0s\n",
            "[CV] n_estimators=200, min_samples_split=10, min_samples_leaf=10, max_features=sqrt, max_depth=46 \n",
            "[CV]  n_estimators=200, min_samples_split=10, min_samples_leaf=10, max_features=sqrt, max_depth=46, total=   1.0s\n",
            "[CV] n_estimators=200, min_samples_split=10, min_samples_leaf=10, max_features=sqrt, max_depth=46 \n",
            "[CV]  n_estimators=200, min_samples_split=10, min_samples_leaf=10, max_features=sqrt, max_depth=46, total=   1.0s\n",
            "[CV] n_estimators=200, min_samples_split=10, min_samples_leaf=10, max_features=sqrt, max_depth=46 \n",
            "[CV]  n_estimators=200, min_samples_split=10, min_samples_leaf=10, max_features=sqrt, max_depth=46, total=   1.0s\n",
            "[CV] n_estimators=200, min_samples_split=10, min_samples_leaf=10, max_features=sqrt, max_depth=46 \n",
            "[CV]  n_estimators=200, min_samples_split=10, min_samples_leaf=10, max_features=sqrt, max_depth=46, total=   1.0s\n",
            "[CV] n_estimators=200, min_samples_split=100, min_samples_leaf=2, max_features=auto, max_depth=82 \n",
            "[CV]  n_estimators=200, min_samples_split=100, min_samples_leaf=2, max_features=auto, max_depth=82, total=   3.0s\n",
            "[CV] n_estimators=200, min_samples_split=100, min_samples_leaf=2, max_features=auto, max_depth=82 \n",
            "[CV]  n_estimators=200, min_samples_split=100, min_samples_leaf=2, max_features=auto, max_depth=82, total=   3.0s\n",
            "[CV] n_estimators=200, min_samples_split=100, min_samples_leaf=2, max_features=auto, max_depth=82 \n",
            "[CV]  n_estimators=200, min_samples_split=100, min_samples_leaf=2, max_features=auto, max_depth=82, total=   3.0s\n",
            "[CV] n_estimators=200, min_samples_split=100, min_samples_leaf=2, max_features=auto, max_depth=82 \n",
            "[CV]  n_estimators=200, min_samples_split=100, min_samples_leaf=2, max_features=auto, max_depth=82, total=   3.0s\n",
            "[CV] n_estimators=200, min_samples_split=100, min_samples_leaf=2, max_features=auto, max_depth=82 \n",
            "[CV]  n_estimators=200, min_samples_split=100, min_samples_leaf=2, max_features=auto, max_depth=82, total=   3.0s\n",
            "[CV] n_estimators=200, min_samples_split=100, min_samples_leaf=2, max_features=auto, max_depth=82 \n",
            "[CV]  n_estimators=200, min_samples_split=100, min_samples_leaf=2, max_features=auto, max_depth=82, total=   3.0s\n",
            "[CV] n_estimators=200, min_samples_split=100, min_samples_leaf=2, max_features=auto, max_depth=82 \n",
            "[CV]  n_estimators=200, min_samples_split=100, min_samples_leaf=2, max_features=auto, max_depth=82, total=   3.0s\n",
            "[CV] n_estimators=200, min_samples_split=100, min_samples_leaf=2, max_features=auto, max_depth=82 \n",
            "[CV]  n_estimators=200, min_samples_split=100, min_samples_leaf=2, max_features=auto, max_depth=82, total=   3.0s\n",
            "[CV] n_estimators=200, min_samples_split=100, min_samples_leaf=2, max_features=auto, max_depth=82 \n",
            "[CV]  n_estimators=200, min_samples_split=100, min_samples_leaf=2, max_features=auto, max_depth=82, total=   3.0s\n",
            "[CV] n_estimators=200, min_samples_split=100, min_samples_leaf=2, max_features=auto, max_depth=82 \n",
            "[CV]  n_estimators=200, min_samples_split=100, min_samples_leaf=2, max_features=auto, max_depth=82, total=   3.0s\n",
            "[CV] n_estimators=400, min_samples_split=2, min_samples_leaf=5, max_features=sqrt, max_depth=64 \n",
            "[CV]  n_estimators=400, min_samples_split=2, min_samples_leaf=5, max_features=sqrt, max_depth=64, total=   2.3s\n",
            "[CV] n_estimators=400, min_samples_split=2, min_samples_leaf=5, max_features=sqrt, max_depth=64 \n",
            "[CV]  n_estimators=400, min_samples_split=2, min_samples_leaf=5, max_features=sqrt, max_depth=64, total=   2.3s\n",
            "[CV] n_estimators=400, min_samples_split=2, min_samples_leaf=5, max_features=sqrt, max_depth=64 \n",
            "[CV]  n_estimators=400, min_samples_split=2, min_samples_leaf=5, max_features=sqrt, max_depth=64, total=   2.2s\n",
            "[CV] n_estimators=400, min_samples_split=2, min_samples_leaf=5, max_features=sqrt, max_depth=64 \n",
            "[CV]  n_estimators=400, min_samples_split=2, min_samples_leaf=5, max_features=sqrt, max_depth=64, total=   2.3s\n",
            "[CV] n_estimators=400, min_samples_split=2, min_samples_leaf=5, max_features=sqrt, max_depth=64 \n",
            "[CV]  n_estimators=400, min_samples_split=2, min_samples_leaf=5, max_features=sqrt, max_depth=64, total=   2.3s\n",
            "[CV] n_estimators=400, min_samples_split=2, min_samples_leaf=5, max_features=sqrt, max_depth=64 \n",
            "[CV]  n_estimators=400, min_samples_split=2, min_samples_leaf=5, max_features=sqrt, max_depth=64, total=   2.3s\n",
            "[CV] n_estimators=400, min_samples_split=2, min_samples_leaf=5, max_features=sqrt, max_depth=64 \n",
            "[CV]  n_estimators=400, min_samples_split=2, min_samples_leaf=5, max_features=sqrt, max_depth=64, total=   2.3s\n",
            "[CV] n_estimators=400, min_samples_split=2, min_samples_leaf=5, max_features=sqrt, max_depth=64 \n",
            "[CV]  n_estimators=400, min_samples_split=2, min_samples_leaf=5, max_features=sqrt, max_depth=64, total=   2.3s\n",
            "[CV] n_estimators=400, min_samples_split=2, min_samples_leaf=5, max_features=sqrt, max_depth=64 \n",
            "[CV]  n_estimators=400, min_samples_split=2, min_samples_leaf=5, max_features=sqrt, max_depth=64, total=   2.2s\n",
            "[CV] n_estimators=400, min_samples_split=2, min_samples_leaf=5, max_features=sqrt, max_depth=64 \n",
            "[CV]  n_estimators=400, min_samples_split=2, min_samples_leaf=5, max_features=sqrt, max_depth=64, total=   2.2s\n",
            "[CV] n_estimators=900, min_samples_split=100, min_samples_leaf=1, max_features=sqrt, max_depth=10 \n",
            "[CV]  n_estimators=900, min_samples_split=100, min_samples_leaf=1, max_features=sqrt, max_depth=10, total=   3.7s\n",
            "[CV] n_estimators=900, min_samples_split=100, min_samples_leaf=1, max_features=sqrt, max_depth=10 \n",
            "[CV]  n_estimators=900, min_samples_split=100, min_samples_leaf=1, max_features=sqrt, max_depth=10, total=   3.7s\n",
            "[CV] n_estimators=900, min_samples_split=100, min_samples_leaf=1, max_features=sqrt, max_depth=10 \n",
            "[CV]  n_estimators=900, min_samples_split=100, min_samples_leaf=1, max_features=sqrt, max_depth=10, total=   3.7s\n",
            "[CV] n_estimators=900, min_samples_split=100, min_samples_leaf=1, max_features=sqrt, max_depth=10 \n",
            "[CV]  n_estimators=900, min_samples_split=100, min_samples_leaf=1, max_features=sqrt, max_depth=10, total=   3.7s\n",
            "[CV] n_estimators=900, min_samples_split=100, min_samples_leaf=1, max_features=sqrt, max_depth=10 \n",
            "[CV]  n_estimators=900, min_samples_split=100, min_samples_leaf=1, max_features=sqrt, max_depth=10, total=   3.7s\n",
            "[CV] n_estimators=900, min_samples_split=100, min_samples_leaf=1, max_features=sqrt, max_depth=10 \n",
            "[CV]  n_estimators=900, min_samples_split=100, min_samples_leaf=1, max_features=sqrt, max_depth=10, total=   3.7s\n",
            "[CV] n_estimators=900, min_samples_split=100, min_samples_leaf=1, max_features=sqrt, max_depth=10 \n",
            "[CV]  n_estimators=900, min_samples_split=100, min_samples_leaf=1, max_features=sqrt, max_depth=10, total=   3.7s\n",
            "[CV] n_estimators=900, min_samples_split=100, min_samples_leaf=1, max_features=sqrt, max_depth=10 \n",
            "[CV]  n_estimators=900, min_samples_split=100, min_samples_leaf=1, max_features=sqrt, max_depth=10, total=   3.7s\n",
            "[CV] n_estimators=900, min_samples_split=100, min_samples_leaf=1, max_features=sqrt, max_depth=10 \n",
            "[CV]  n_estimators=900, min_samples_split=100, min_samples_leaf=1, max_features=sqrt, max_depth=10, total=   3.7s\n",
            "[CV] n_estimators=900, min_samples_split=100, min_samples_leaf=1, max_features=sqrt, max_depth=10 \n",
            "[CV]  n_estimators=900, min_samples_split=100, min_samples_leaf=1, max_features=sqrt, max_depth=10, total=   3.8s\n",
            "[CV] n_estimators=900, min_samples_split=100, min_samples_leaf=1, max_features=sqrt, max_depth=100 \n",
            "[CV]  n_estimators=900, min_samples_split=100, min_samples_leaf=1, max_features=sqrt, max_depth=100, total=   3.9s\n",
            "[CV] n_estimators=900, min_samples_split=100, min_samples_leaf=1, max_features=sqrt, max_depth=100 \n",
            "[CV]  n_estimators=900, min_samples_split=100, min_samples_leaf=1, max_features=sqrt, max_depth=100, total=   3.9s\n",
            "[CV] n_estimators=900, min_samples_split=100, min_samples_leaf=1, max_features=sqrt, max_depth=100 \n",
            "[CV]  n_estimators=900, min_samples_split=100, min_samples_leaf=1, max_features=sqrt, max_depth=100, total=   3.8s\n",
            "[CV] n_estimators=900, min_samples_split=100, min_samples_leaf=1, max_features=sqrt, max_depth=100 \n",
            "[CV]  n_estimators=900, min_samples_split=100, min_samples_leaf=1, max_features=sqrt, max_depth=100, total=   3.9s\n",
            "[CV] n_estimators=900, min_samples_split=100, min_samples_leaf=1, max_features=sqrt, max_depth=100 \n",
            "[CV]  n_estimators=900, min_samples_split=100, min_samples_leaf=1, max_features=sqrt, max_depth=100, total=   3.8s\n",
            "[CV] n_estimators=900, min_samples_split=100, min_samples_leaf=1, max_features=sqrt, max_depth=100 \n",
            "[CV]  n_estimators=900, min_samples_split=100, min_samples_leaf=1, max_features=sqrt, max_depth=100, total=   3.9s\n",
            "[CV] n_estimators=900, min_samples_split=100, min_samples_leaf=1, max_features=sqrt, max_depth=100 \n",
            "[CV]  n_estimators=900, min_samples_split=100, min_samples_leaf=1, max_features=sqrt, max_depth=100, total=   3.8s\n",
            "[CV] n_estimators=900, min_samples_split=100, min_samples_leaf=1, max_features=sqrt, max_depth=100 \n",
            "[CV]  n_estimators=900, min_samples_split=100, min_samples_leaf=1, max_features=sqrt, max_depth=100, total=   3.9s\n",
            "[CV] n_estimators=900, min_samples_split=100, min_samples_leaf=1, max_features=sqrt, max_depth=100 \n",
            "[CV]  n_estimators=900, min_samples_split=100, min_samples_leaf=1, max_features=sqrt, max_depth=100, total=   3.8s\n",
            "[CV] n_estimators=900, min_samples_split=100, min_samples_leaf=1, max_features=sqrt, max_depth=100 \n",
            "[CV]  n_estimators=900, min_samples_split=100, min_samples_leaf=1, max_features=sqrt, max_depth=100, total=   3.8s\n",
            "[CV] n_estimators=200, min_samples_split=5, min_samples_leaf=1, max_features=sqrt, max_depth=46 \n",
            "[CV]  n_estimators=200, min_samples_split=5, min_samples_leaf=1, max_features=sqrt, max_depth=46, total=   1.4s\n",
            "[CV] n_estimators=200, min_samples_split=5, min_samples_leaf=1, max_features=sqrt, max_depth=46 \n",
            "[CV]  n_estimators=200, min_samples_split=5, min_samples_leaf=1, max_features=sqrt, max_depth=46, total=   1.5s\n",
            "[CV] n_estimators=200, min_samples_split=5, min_samples_leaf=1, max_features=sqrt, max_depth=46 \n",
            "[CV]  n_estimators=200, min_samples_split=5, min_samples_leaf=1, max_features=sqrt, max_depth=46, total=   1.4s\n",
            "[CV] n_estimators=200, min_samples_split=5, min_samples_leaf=1, max_features=sqrt, max_depth=46 \n",
            "[CV]  n_estimators=200, min_samples_split=5, min_samples_leaf=1, max_features=sqrt, max_depth=46, total=   1.4s\n",
            "[CV] n_estimators=200, min_samples_split=5, min_samples_leaf=1, max_features=sqrt, max_depth=46 \n",
            "[CV]  n_estimators=200, min_samples_split=5, min_samples_leaf=1, max_features=sqrt, max_depth=46, total=   1.4s\n",
            "[CV] n_estimators=200, min_samples_split=5, min_samples_leaf=1, max_features=sqrt, max_depth=46 \n",
            "[CV]  n_estimators=200, min_samples_split=5, min_samples_leaf=1, max_features=sqrt, max_depth=46, total=   1.4s\n",
            "[CV] n_estimators=200, min_samples_split=5, min_samples_leaf=1, max_features=sqrt, max_depth=46 \n",
            "[CV]  n_estimators=200, min_samples_split=5, min_samples_leaf=1, max_features=sqrt, max_depth=46, total=   1.4s\n",
            "[CV] n_estimators=200, min_samples_split=5, min_samples_leaf=1, max_features=sqrt, max_depth=46 \n",
            "[CV]  n_estimators=200, min_samples_split=5, min_samples_leaf=1, max_features=sqrt, max_depth=46, total=   1.4s\n",
            "[CV] n_estimators=200, min_samples_split=5, min_samples_leaf=1, max_features=sqrt, max_depth=46 \n",
            "[CV]  n_estimators=200, min_samples_split=5, min_samples_leaf=1, max_features=sqrt, max_depth=46, total=   1.5s\n",
            "[CV] n_estimators=200, min_samples_split=5, min_samples_leaf=1, max_features=sqrt, max_depth=46 \n",
            "[CV]  n_estimators=200, min_samples_split=5, min_samples_leaf=1, max_features=sqrt, max_depth=46, total=   1.5s\n"
          ],
          "name": "stdout"
        },
        {
          "output_type": "stream",
          "text": [
            "[Parallel(n_jobs=1)]: Done 500 out of 500 | elapsed: 52.6min finished\n"
          ],
          "name": "stderr"
        },
        {
          "output_type": "execute_result",
          "data": {
            "text/plain": [
              "RandomizedSearchCV(cv=10, error_score=nan,\n",
              "                   estimator=RandomForestRegressor(bootstrap=True,\n",
              "                                                   ccp_alpha=0.0,\n",
              "                                                   criterion='mse',\n",
              "                                                   max_depth=None,\n",
              "                                                   max_features='auto',\n",
              "                                                   max_leaf_nodes=None,\n",
              "                                                   max_samples=None,\n",
              "                                                   min_impurity_decrease=0.0,\n",
              "                                                   min_impurity_split=None,\n",
              "                                                   min_samples_leaf=1,\n",
              "                                                   min_samples_split=2,\n",
              "                                                   min_weight_fraction_leaf=0.0,\n",
              "                                                   n_estimators=100,\n",
              "                                                   n_jobs=None, oob_score=Fal...\n",
              "                   iid='deprecated', n_iter=50, n_jobs=1,\n",
              "                   param_distributions={'max_depth': [10, 28, 46, 64, 82, 100],\n",
              "                                        'max_features': ['auto', 'sqrt'],\n",
              "                                        'min_samples_leaf': [1, 2, 5, 10],\n",
              "                                        'min_samples_split': [2, 5, 10, 15,\n",
              "                                                              100],\n",
              "                                        'n_estimators': [100, 200, 300, 400,\n",
              "                                                         500, 600, 700, 800,\n",
              "                                                         900, 1000, 1100,\n",
              "                                                         1200]},\n",
              "                   pre_dispatch='2*n_jobs', random_state=42, refit=True,\n",
              "                   return_train_score=False, scoring='neg_mean_squared_error',\n",
              "                   verbose=2)"
            ]
          },
          "metadata": {
            "tags": []
          },
          "execution_count": 0
        }
      ]
    },
    {
      "cell_type": "code",
      "metadata": {
        "colab": {
          "background_save": true
        },
        "id": "qNWndr6JRpev",
        "outputId": "88e885d4-5e57-47f3-f964-023a5f0dbff2"
      },
      "source": [
        "rf_random.best_params_"
      ],
      "execution_count": null,
      "outputs": [
        {
          "output_type": "execute_result",
          "data": {
            "text/plain": [
              "{'max_depth': 28,\n",
              " 'max_features': 'auto',\n",
              " 'min_samples_leaf': 1,\n",
              " 'min_samples_split': 5,\n",
              " 'n_estimators': 700}"
            ]
          },
          "metadata": {
            "tags": []
          },
          "execution_count": 0
        }
      ]
    },
    {
      "cell_type": "code",
      "metadata": {
        "colab": {
          "background_save": true
        },
        "id": "jvRpm8y_TDXn"
      },
      "source": [
        "prediction = rf_random.predict(X_test)"
      ],
      "execution_count": null,
      "outputs": []
    },
    {
      "cell_type": "code",
      "metadata": {
        "colab": {
          "background_save": true
        },
        "id": "mK6ZRDwpTDyw",
        "outputId": "c5506a9d-ce97-474d-ff0c-e4326561a755"
      },
      "source": [
        "plt.figure(figsize = (8,8))\n",
        "sns.distplot(y_test-prediction)\n",
        "plt.show()"
      ],
      "execution_count": null,
      "outputs": [
        {
          "output_type": "stream",
          "text": [
            "/usr/local/lib/python3.7/dist-packages/seaborn/distributions.py:2557: FutureWarning: `distplot` is a deprecated function and will be removed in a future version. Please adapt your code to use either `displot` (a figure-level function with similar flexibility) or `histplot` (an axes-level function for histograms).\n",
            "  warnings.warn(msg, FutureWarning)\n"
          ],
          "name": "stderr"
        },
        {
          "output_type": "display_data",
          "data": {
            "image/png": "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\n",
            "text/plain": [
              "<Figure size 576x576 with 1 Axes>"
            ]
          },
          "metadata": {
            "tags": []
          }
        }
      ]
    },
    {
      "cell_type": "code",
      "metadata": {
        "colab": {
          "background_save": true
        },
        "id": "1Ko-5zgmTEFW",
        "outputId": "da9ffc27-f464-4e92-809a-0ac8dfd7960f"
      },
      "source": [
        "plt.figure(figsize = (8,8))\n",
        "plt.scatter(y_test, prediction, alpha = 0.5)\n",
        "plt.xlabel(\"y_test\")\n",
        "plt.ylabel(\"y_pred\")\n",
        "plt.show()\n"
      ],
      "execution_count": null,
      "outputs": [
        {
          "output_type": "display_data",
          "data": {
            "image/png": "iVBORw0KGgoAAAANSUhEUgAAAgoAAAHlCAYAAACUO9SfAAAABHNCSVQICAgIfAhkiAAAAAlwSFlzAAALEgAACxIB0t1+/AAAADh0RVh0U29mdHdhcmUAbWF0cGxvdGxpYiB2ZXJzaW9uMy4yLjIsIGh0dHA6Ly9tYXRwbG90bGliLm9yZy+WH4yJAAAgAElEQVR4nO3de3RU9b338c9ckhkSEkJuZLgVoUdOvCEmoKcWL2BP0GJCV+3B5oHWAvJ4aD20VR7xcsCD2mWAxx67pPVYOa6uLpa0ep4CppTUSvWgFgUCVQqCcEAiCSRMiLmRSWZmP38EIgg7M0Oy55b3ay2WZv/2JN98neAnv99v720zDMMQAADARdhjXQAAAIhfBAUAAGCKoAAAAEwRFAAAgCmCAgAAMEVQAAAAppyxLiBenTrVpmDwwitHc3IGy+ttjUFFiYMehUaPQqNH4aFPodGj3tntNg0dmm46TlAwEQwaFw0KZ8fQO3oUGj0KjR6Fhz6FRo8uHUsPAADAFEEBAACYIigAAABTBAUAAGCKoAAAAEwRFAAAgCmCAgAAMEVQAAAApggKAADAFEEBAACYIigAAABTBAUAAGCKoAAAAEwRFAAAgKmoPWba5/PpJz/5if7yl7/I5XLp2muv1RNPPKHDhw9ryZIlampqUlZWlioqKjRmzBhJsmQMAIBEVVPfop37G+Rt7lBOpltF4/M0Kj/D0q8ZtRmFlStXyuVyqaqqSq+99poWLVokSVq2bJnKy8tVVVWl8vJyLV26tOc1VowBAJCIaupbtPn9o2rr6FJ2hkttHV3a/P5R1dS3WPp1oxIU2tratH79ei1atEg2m02SlJubK6/Xq71792rGjBmSpBkzZmjv3r1qbGy0ZAwAgES1c3+D0lxOpbtTZLPZlO5OUZrLqZ37Gyz9ulFZeqipqVFWVpaee+45vffee0pPT9eiRYvkdrs1bNgwORwOSZLD4VB+fr7q6upkGEa/j2VnZ0fj2wUAoN95mzuUneE671iayylvc4elXzcqQSEQCKimpkZXXHGFHnroIf31r3/Vfffdp2effTYaX/6S5OQMNh3Ly7N2PSgZ0KPQ6FFo9Cg89Cm0ZOjRaM8QtbZ3Kj0ttedYa3unRnuGWPr9RSUoeDweOZ3OnuWACRMmaOjQoXK73Tpx4oQCgYAcDocCgYDq6+vl8XhkGEa/j0XC621VMGhccDwvL0MNDdauByU6ehQaPQqNHoWHPoWWLD36+5GZ2vz+UbWf7lSay6l2n1/tPr+KL8/t0/dnt9t6/eU4KnsUsrOzdf311+udd96R1H1Vgtfr1ZgxY1RYWKjKykpJUmVlpQoLC5Wdna2cnJx+HwMAIFGNys/Q9Mmjle5OUWOLT+nuFE2fPNryqx5shmFc+GuzBWpqavTII4+oqalJTqdTP/zhD3XzzTfr0KFDWrJkiZqbm5WZmamKigqNHTtWkiwZCxczCpeOHoVGj0KjR+GhT6HRo96FmlGIWlBINASFS0ePQqNHodGj8NCn0OhR7+Ji6QEAACQmggIAADBFUAAAAKYICgAAwBRBAQAAmCIoAAAAUwQFAABgiqAAAABMERQAAIApggIAADBFUAAAAKYICgAAwBRBAQAAmCIoAAAAUwQFAABgiqAAAABMERQAAIApggIAADBFUAAAAKYICgAAwBRBAQAAmCIoAAAAUwQFAABgiqAAAABMERQAAIApggIAADBFUAAAAKYICgAAwBRBAQAAmCIoAAAAUwQFAABgiqAAAABMERQAAIApggIAADBFUAAAAKYICgAAwBRBAQAAmCIoAAAAUwQFAABgiqAAAABMERQAAIApggIAADBFUAAAAKYICgAAwBRBAQAAmCIoAAAAUwQFAABgiqAAAABMERQAAIApggIAADBFUAAAAKYICgAAwBRBAQAAmCIoAAAAUwQFAABgiqAAAABMERQAAIApggIAADBFUAAAAKaiFhSmTp2q6dOnq6ysTGVlZdq6daskaffu3SotLVVJSYnmzp0rr9fb8xorxgAAQPiiOqPws5/9TBs2bNCGDRs0ZcoUBYNBLV68WEuXLlVVVZWKi4u1atUqSbJkDAAARCamSw979uyRy+VScXGxJOnuu+/W5s2bLRsDAACRcUbziz344IMyDENFRUX68Y9/rLq6Og0fPrxnPDs7W8FgUE1NTZaMZWVlhV1rTs5g07G8vIywP89ARY9Co0eh0aPw0KfQ6NGli1pQWLt2rTwejzo7O/XUU09p+fLl+trXvhatLx8xr7dVwaBxwfG8vAw1NLTEoKLEQY9Co0eh0aPw0KfQ6FHv7HZbr78cR23pwePxSJJSU1NVXl6u6upqeTwe1dbW9pzT2Ngou92urKwsS8YAAEBkohIU2tvb1dLSneYMw9CmTZtUWFioq666Sh0dHdqxY4ckad26dZo+fbokWTIGAAAiE5WlB6/Xq/vvv1+BQEDBYFDjxo3TsmXLZLfbtWLFCi1btkw+n08jRozQypUrJcmSMQAAEBmbYRgXLsSDPQp9QI9Co0eh0aPw0KfQ6FHv4maPAgAASDwEBQAAYIqgAAAATBEUAACAKYICAAAwRVAAAACmCAoAAMAUQQEAAJgiKAAAAFMEBQAAYIqgAAAATBEUAACAKYICAAAwRVAAAACmCAoAAMAUQQEAAJgiKAAAAFMEBQAAYIqgAAAATBEUAACAKYICAAAwRVAAAACmCAoAAMAUQQEAAJgiKAAAAFMEBQAAYIqgAAAATBEUAACAKYICAAAwRVAAAACmCAoAAMAUQQEAAJgiKAAAAFMEBQAAYIqgAAAATBEUAACAKYICAAAwRVAAAACmCAoAAMAUQQEAAJgiKAAAAFMEBQAAYIqgAAAATBEUAACAKYICAAAwRVAAAACmCAoAAMAUQQEAAJgiKAAAAFMEBQAAYIqgAAAATBEUAACAKYICAAAwRVAAAACmCAoAAMAUQQEAAJgiKAAAAFMEBQAAYIqgAAAATEU9KDz33HMaP368Dhw4IEnavXu3SktLVVJSorlz58rr9faca8UYAAAIX1SDwt/+9jft3r1bI0aMkCQFg0EtXrxYS5cuVVVVlYqLi7Vq1SrLxgAAQGSiFhQ6Ozu1fPlyPf744z3H9uzZI5fLpeLiYknS3Xffrc2bN1s2BgAAIuOM1hd69tlnVVpaqpEjR/Ycq6ur0/Dhw3s+zs7OVjAYVFNTkyVjWVlZYdebkzPYdCwvLyPszzNQ0aPQ6FFo9Cg89Ck0enTpohIUdu3apT179ujBBx+MxpfrF15vq4JB44LjeXkZamhoiUFFiYMehUaPQqNH4aFPodGj3tnttl5/OY5KUNi+fbsOHTqkadOmSZKOHz+uefPmac6cOaqtre05r7GxUXa7XVlZWfJ4PP0+BgAAIhOVPQoLFizQ22+/rS1btmjLli0qKCjQmjVrNH/+fHV0dGjHjh2SpHXr1mn69OmSpKuuuqrfxwAAQGSitkfhYux2u1asWKFly5bJ5/NpxIgRWrlypWVjAAAgMjbDMC5ciAd7FPqAHoVGj0KjR+GhT6HRo96F2qPAnRkBAIApggIAADBFUAAAAKYICgAAwBRBAQAAmCIoAAAAUwQFAABgiqAAAABMERQAAIApggIAADBFUAAAAKYICgAAwBRBAQAAmCIoAAAAUwQFAABgiqAAAABMERQAAIApggIAADBFUAAAAKYICgAAwBRBAQAAmCIoAAAAUwQFAABgiqAAAABMOWNdAAAkg5r6Fu3c3yBvc4dyMt0qGp+nUfkZsS4L6DNmFACgj2rqW7T5/aNq6+hSdoZLbR1d2vz+UdXUt8S6NKDPCAoA0Ec79zcozeVUujtFNptN6e4Upbmc2rm/IdalAX1GUACAPvI2dyjNdf5KbprLKW9zR4wqAvoPQQEA+ign0612n/+8Y+0+v3Iy3TGqCOg/bGYEgHNcyqbEovF52vz+UUndMwntPr/afX7dNGF4NEoGLMWMAgCccambEkflZ2j65NFKd6eoscWndHeKpk8ezVUPSArMKADAGeduSpTU88+d+xtC/k9/VH4GwQBJiRkFADiDTYnAhQgKAHAGmxKBCxEUAOCMovF5avf51dbRJcMw1NbRpXafX0Xj82JdGhAzBAUAOINNicCF2MwIAOdgUyJwPmYUAACAKWYUACQFnt4IWKPXoPDqq6+G9UnuuuuufikGAC7F2Rslpbmc590oif0FQN/1GhQ2bNhw3sfV1dXKzc2Vx+NRXV2dvF6vJk6cSFAAEFN9uVESgN71GhR+/etf9/z7E088oWnTpumee+7pOfarX/1KNTU1lhUHAOHwNncoO8N13jFulAT0j7A3M27cuFFz5sw579js2bMvmHUAgGjjRkmAdcIOCrm5udqyZct5x/785z8rOzu734sCgEhwoyTAOmFf9fDYY4/p/vvv15o1a1RQUKC6ujodPHhQzz77rJX1AUBIZ2+UdO5VDzdNGM7+BKAfhB0UbrzxRv3pT3/Sf//3f6u+vl633HKLbr75Zg0dOtTK+gAgLMe9bfro6Ck1tXaqYfBpjchNIygA/SCi+yhkZ2fr+uuv14kTJ3TttddaVRMARGT7vuN65c1Dcqc6NSQtRe0dfr3y5iFJ0qTCghhXByS2sPco1NbW6u6779btt9+u733ve5KkzZs369FHH7WsOAAIxxvVx+ROdSrN7ZTNblOa2yl3qlNvVB+LdWlAwgs7KCxdulS33HKLqqur5XR2T0TceOONevfddy0rDgDC0dTaqUGpjvOODUp1qKm1M0YVAckj7KDw4YcfasGCBbLb7bLZbJKkjIwMtbS0WFYcAIQja3CqTncGzjt2ujOgrMGpMaoISB5hB4WcnBx98skn5x07ePCgPB5PvxcFAJGYdt0IdXT61d7hlxE01N7hV0enX9OuGxHr0oCEF/Zmxrlz5+q+++7TggUL5Pf7VVlZqf/4j//Qvffea2V9ABDS2Q2Lb1QfU1Nrp7IGp+rOr3yJjYxAPwg7KNx1113KysrSb37zG3k8Hq1fv16LFi3SbbfdZmV9ABCWSYUFBAPAAmEFhUAgoHvuuUdr1qwhGAAAMICEtUfB4XDo008/VTAYtLoeAAAQR8LezPj9739fjz/+uI4dO6ZAIKBgMNjzBwAAJKeInvUg6bynRRqGIZvNpn379vV/ZQAAIObCDgpvvPGGlXUAAIA4FHZQGDGi+3pkwzB06tQpDR06tOfGSwAAIDmFvUehublZixcv1tVXX62vfOUruuaaa7R48WI1NTWF9fqFCxeqtLRUM2fOVHl5ec9yxeHDhzVr1iyVlJRo1qxZOnLkSM9rrBgDAADhCzsoPPzww/L5fNqwYYN27dql9evXq7OzU4888khYr6+oqNDGjRu1fv16zZ07t+d1y5YtU3l5uaqqqlReXq6lS5f2vMaKMQAAEL6wg8K2bdu0YsUKjRs3ToMGDdK4ceP09NNP6/333w/r9RkZnz8XvrW1VTabTV6vV3v37tWMGTMkSTNmzNDevXvV2NhoyRgAAIhM2HsUxo4dq2PHjmncuHE9x2pra3XZZZeF/cUeffRRvfPOOzIMQy+++KLq6uo0bNgwORzdT31zOBzKz89XXV2dDMPo97Hs7Oywa83JGWw6lpeXYTqGbvQoNHoUGj0KD30KjR5durCDwj/8wz9o7ty5KisrU0FBgY4fP66NGzeqrKxMr776as95d911l+nneOqppyRJ69ev14oVK7Ro0aI+lG4tr7dVwaBxwfG8vAw1NPDEzN7Qo9DoUWj0KDz0KTR61Du73dbrL8dhB4Vdu3Zp9OjR2rVrV8+xUaNGqbq6WtXV1ZIkm83Wa1A4a+bMmVq6dKkKCgp04sQJBQIBORwOBQIB1dfXy+PxyDCMfh8DAACRCTso/PrXvw55zs6dOy96vK2tTc3NzT3/s96yZYuGDBminJwcFRYWqrKyUmVlZaqsrFRhYWHPEoEVYwAAIHw2wzAunF+/RNddd13P7MK5Tp48qYULF+r06dOy2+0aMmSIHnroIV155ZU6dOiQlixZoubmZmVmZqqiokJjx46VJEvGwsXSw6WjR6HRo9DoUXjoU2j0qHehlh76NShMnDjxvKWJREZQuHT0KDR6FBo9Cg99Co0e9S5UUAj78shwcKdGAACSS78GBQAAkFwICgAAwFTYQeEnP/lJyMdJ9+N2BwAAEAfCvjwyGAxq3rx5ys7OVmlpqUpLS1VQUHDeOcmykRFA372w4QNt339SwaBkt0uTxudqQdk1sS4LQITCnlF47LHHtHXrVj3wwAP66KOPdPvtt+uee+7R+vXr1dbWZmWNABLMCxs+0LZ9JxUISjZJgaC0bd9JvbDhg1iXBiBCEe1RcDgcuvXWW/XMM8/ot7/9rRobG7VkyRJ99atf1aOPPqoTJ05YVSeABLJ9/0lJksNuk81uk8NuO+84gMQRUVBobW3VK6+8ojlz5mj27NmaMGGC1q5dq02bNiktLU3z58+3qk4ACSQYvPAvF/uZ4wASS9h7FP7lX/5FW7du1aRJk/Ttb39bt912m1JTU3vGH374YRUVFVlSJIDEYrd3Lzc4zjkWlOTgOisg4YQdFCZMmKB//dd/VV5e3kXH7Xa73n333X4rDEDimjQ+98weBaN7JuGc4wASS9hBYd68eSHPGTRoUJ+KAZB4aupbtHN/g7zNHcrJdKtofN6Zqxs+v+rBwVUPQMIKOygAwBfV1Ldo8/tHleZyKjvDpbaOLm1+/6imTx6tBWXXaEGsCwTQZwQFAJdkyc+3qr65q+djt1P6x+vHSJJ27m/QqPyMGFUGoD+xtQhAxL4YEiSpwy/98b0jSnM55W3uiFFlAPobQQFAxL4YEs7q8EvtPr9yMt1RrgiAVQgKAPpVu8+vovEXvzoKQOIhKADoV9Mnj2Z/ApBECAoAIpafmWJ6nJAAJBeCAoCIPb1wygVhIT8zRU8vnBKjigBYhcsjAVwSQgEwMBAUAFzg5dc/0lt/rVOX35DNLn0pf7DuuaOQZQVgAGLpAcB5Xn79I/1pZ606/Yak7ic+Hj7eql+s/1A19S0xrg5AtBEUAPSoqW/Rll21Ms58bLdLDrtNNkn1TR3aub8hluUBiAGCAgBJnz+3IRj8/FggKEmGbLbumQXuuAgMPAQFAJK6n8+Q5nLKfs7fCjZ1BwTD6J5d4I6LwMBDUAAgqXu2IM3l1Ki89J5jxjl/8rPc3HERGIC46gGApO7ZgraOLl3z5e4wcLS+TUGje1ZhTAFXPQADFUEBgCSpaHyeNr9/VJJ09bhcjRuZpXafn1syAwMcSw8AJEmj8jM0ffJopbtT1NjiU7o7hZAAgBkFAJ8blZ9BMABwHmYUAACAKWYUgAGkpr5FO/c3yNvcoZzM7qsYmEEA0BtmFIAB4uwNldo6upSd4VJbR5c2v3+U2zID6BVBARggzt5QKd2dIpvNpnR3itJcTm7LDKBXBAVggDh7Q6Vzpbmc3JYZQK/YowAkqS/uR3DabWr3+ZXuTuk5p93n57bMAHpFUACSxLnBwGm3qam1U7lZ7p79CE2tnTJkSFndMwntPr/afX7dNGF4rEsHEMcICkASOLtRMc3lVHaGS3sON+q0z6+hGa6e/QjKkgIBQ+nulJ5ZhpsmDOeqBwC9IigASeDcjYqS5A8Ycqc6VOttU2Z6qqTuWYTGFp9mThkby1IBJBiCApAEjta3qu10pzo6Axrkcspuk2yy6bTP33MO+xEAXAquegASXE19i042ndZpX0CDUp3q8gd12udXc3unnA67DMNQW0eX2n1+HhMNIGIEBSDB7dzfoOG5aZKkrkBQTodNqSkOOew2fWlYBg94AtAnLD0ACc7b3KFhQ9M0KNWpusZ2nfYFlOZyKmeIS9+Z/vexLg9AgiMoAAnG7P4IQwa7NGSwS5LU1tF13v0SAOBSERSABLJ933H95o2DajndJUOSO9Wh7AyXsjJc3B8BgCUICkCC2L7vuF7a9JE6uoKy2yS7Terw+XXCH9TgQU7ujwDAEgQFIM7V1Ldo49uH9cEhr7oChiTJkBQ0JLtdMgxDnza068FvF8W2UABJiaAAxLGa+hb9v7f+RwePfSbDMHqOG4Ykm2QYNgUNQ/6gYf5JAKAPuDwSiGN/rj6mIyda5OsK6ItZwDC6ZxNkk/KGcCMlANYgKABxqqa+RX870ii/PyCnwybHRX5aDUMa5ErRHTeMjn6BAAYElh6AOLVx6/+oua1Tnf6gpO5Un+KQugLd4zZJw7IH6RtTLtOkwoKY1QkguREUgDhzdvPiroPe7mc2GFJQUkCSgpLDLuVkuvXNm8cSEABYjqAAxJGzj4s+VNssp8MmqTspONT9REhD0si8dM37+hVc/gggKtijAMSRs4+L7vQH5U51SJLsNpscDrsy0pxKSXEQEgBEFTMKQBz4w7bDeqO6Vp+1dirFaZMkGXaHBrkc8nUF5A8EleJ0qmCom5AAIKoICkCM/WHbYW185xM5HXY57ZLfH5Q/2P3PQe4UuZwOpTglV4qdqxsARB1BAYixN6pr5XTY5Up1yOmw6bQvIKeCkk1y2G063RlQwdBBuuOG0WxeBBB1BAUgxto7/BqU2r1dyOGwa5BL6vAZ8gelmyYMV9H4PJYbAMQMQQGIspr6Fr1efUxH6z5TTqZbqU6bOv2GXKnd4w6HXU6nQ+mpDs2cMja2xQIY8KJy1cOpU6d07733qqSkRHfeead+8IMfqLGxUZK0e/dulZaWqqSkRHPnzpXX6+15nRVjQCydvfyxtb1T2RkutXV0aWiGS74uv3ydARnBoHyd3ZsXp13HY6IBxF5UgoLNZtP8+fNVVVWl1157TaNGjdKqVasUDAa1ePFiLV26VFVVVSouLtaqVaskyZIxIJZq6lu09vUDOlLXosO1zWpu61S6O0VfHpmly0dmyZXq0OnOoFypDpXe+CXdfsNlsS4ZAKITFLKysnT99df3fHzttdeqtrZWe/bskcvlUnFxsSTp7rvv1ubNmyXJkjEg2rbvO65HXviL5q/Yosdf2q6Dxz5TMBhUZ1dAh2qb9VmrT2kup4ZmurVq4Y36+Y9v1qqFNxISAMSNqO9RCAaDevnllzV16lTV1dVp+PDPp1ezs7MVDAbV1NRkyVhWVlbYdebkDDYdy8tjY1ko9Eh6e/enWvv6AbV1BCRDkiEFDamhqUMpKQ6luVPkbelUZoZboz1D6NlF0JPw0KfQ6NGli3pQeOKJJ5SWlqbZs2fr9ddfj/aXD5vX26rgF5/rq+43W0NDSwwqShz0qNvv3jyojs6gHHbJH5Tstu6gEDSkk02nNSrPIe9nncpIc6r48lx69gW8j8JDn0KjR72z2229/nIc1aBQUVGhTz75RM8//7zsdrs8Ho9qa2t7xhsbG2W325WVlWXJGBAtNfUt+rShTV2BoGxnjhm27rAQMKRgUGrt6FJGWqqmTx7N5Y8A4lbUnvXwzDPPaM+ePVq9erVSU7uvA7vqqqvU0dGhHTt2SJLWrVun6dOnWzYGRMPZKxtSnHbZJBlnJqYMo/uPTdLgtBSN8WTqf33tckICgLhmMwzjwvn1fvbxxx9rxowZGjNmjNxutyRp5MiRWr16taqrq7Vs2TL5fD6NGDFCK1euVG5uriRZMhYulh4u3UDv0fqt/6O2ji591urT7oMnFQh0Hz/7bkpx2DTpymEqKR5FSOjFQH8fhYs+hUaPehdq6SEqQSERERQu3UDt0QsbPtD2/ScVCHZ/PCJnkDy56dr3ySm1dwQkm1QwdJBmTrlMd9z0dwOyR5EYqO+jSNGn0OhR7+JqjwKQrF7Y8IG27Tt53rFj3tOSpGlFo9TW0aV0dwp3WgSQcKK2RwFIVtv3Hb8gJJx1zHtabR1davf5VTQ+L8qVAUDfMaMA9MELGz7QeyYh4ax0d4pumjCc/QgAEhJBAYhQTX2Ldu5vUNV7R+Tz936uwy6WGwAkNIICEIGzlz4ePHoqZEiQpEnjI7vaBgDiDXsUgAjs3N+gQCCohubOkOcOz3ZrQdk1UagKAKzDjAIQgU9ONMvb5At53t+NzNTsfxwfhYoAwFoEBSBM2/cd1/6jTeryB0OeO/sfx7N5EUBSICgAYVj6y3f1qbcjrHNvKMwlJABIGgQFoBcXu5FSb24ozGVfAoCkQlAATIQTEtypDk28PJcnQAJIWlz1AFzEy69/FNZMQprbSUgAkNSYUQC+YMnPt6q+uSusc2fdOo6QACCpERSAc8x9ekvY547McWtSYYGF1QBA7BEUgDMWRBASrh4zRD+6u8jCagAgPhAUAEl/2HZYYdyRWZL0z2VXMJMAYMAgKGDAu2/FFnWGvoeSJGlomoOQAGBAIShgwHrgZ2/pVHsg7PNH5ri1/N6vWFgRAMQfggIGpEhDwn8umWphNQAQv7iPAgacFzZ8EHZIcIqQAGBgY0YBA8pP1+3Uh0c+C+vcb91ymW6/4TKLKwKA+MaMAgaMP2w7HHZISLWLkAAAYkYBA0QkT3+UpOf/D8sNACARFDAARHJL5vzMFD29cIrFFQFA4iAoIKlFcktm9iQAwIXYo4CkRUgAgL4jKCApRRIS2LgIAOYICkg6kYYENi4CgDn2KCCpRBISvuxJ1yPfvd7CagAg8REUkBT+sO2wXnnzcESvISQAQGgEBSS8FzZ8oG37ToZ9PssNABA+ggIS2vZ9xyMKCf82d5JG5WdYWBEAJBeCAhJWpE+AJCQAQOQICkhIkWxalHgCJABcKi6PRMIhJABA9BAUkFAICQAQXQQFJAxCAgBEH0EBCYGQAACxQVBA3CMkAEDsEBQQ1wgJABBbXB6JuLTk51tV39wV9vn5mSl6euEUCysCgIGJoIC4s+inf1aLz4joNYQEALAGQQFxJdKlBonlBgCwEkEBcSPSkPCtWy7T7TdcZlE1AACJoIA48f1VkYWEfy67QpMKCyyqBgBwFkEBMRfpTAIPdwKA6CEoIKa4/BEA4hv3UUDMEBIAIP4RFBAThAQASAwEBUQdIQEAEgdBAVFFSACAxEJQQNREEhKcIiQAQDzgqgdYrqa+Rcv+c3tEr3mBkAAAcYGgAEtt33dcv9iwN6LXMJMAAPGDpQdYpqa+hZAAAAmOGQVY4ie/eoTD4VEAAA46SURBVE8H69rCPj/DZdOzP7rVwooAAJeCoIB+d+cDGyI6/4bCXC0ou8aiagAAfcHSA/pVpJc/EhIAIL5FJShUVFRo6tSpGj9+vA4cONBz/PDhw5o1a5ZKSko0a9YsHTlyxNIxWOtS7pFASACA+BaVoDBt2jStXbtWI0aMOO/4smXLVF5erqqqKpWXl2vp0qWWjsE63EgJAJJTVIJCcXGxPB7Pece8Xq/27t2rGTNmSJJmzJihvXv3qrGx0ZIxWIeQAADJK2abGevq6jRs2DA5HA5JksPhUH5+vurq6mQYRr+PZWdnx+YbTXKEBABIblz1YCInZ7DpWF5eRhQriV+RXt3w2v8ts6iSxMT7KDR6FB76FBo9unQxCwoej0cnTpxQIBCQw+FQIBBQfX29PB6PDMPo97FIeb2tCgaNC47n5WWooaGlP1qQ0C5lJoG+fY73UWj0KDz0KTR61Du73dbrL8cxuzwyJydHhYWFqqyslCRVVlaqsLBQ2dnZloyh/0QSEvIzU1huAIAEZjMM48Jfm/vZk08+qT/+8Y86efKkhg4dqqysLP3+97/XoUOHtGTJEjU3NyszM1MVFRUaO3asJFkyFglmFC4U6XMbBjml1Q8SEi5mIL+PwkWPwkOfQqNHvQs1oxCVoJCICArnW/rLd/WptyPs80fmuLX83q9YWFFiG6jvo0jQo/DQp9DoUe9CBQU2MyKk+1ZsUWcw/PM92S5CAgAkCW7hjF7NfTqykGCX9MKj0y2rBwAQXcwowFSkVzZ82ZOuR757vUXVAABigaCAi4o0JPxz2RWaVFhgUTUAgFhh6QEXmE9IAACcwYwCzsMtmQEA52JGAT0ICQCALyIoQBIhAQBwcQQFEBIAAKYICgMcIQEA0Bs2Mw5QkQYEiZAAAAMRMwoDECEBABAugsIAQ0gAAESCoDCARBoSBjkJCQAw0LFHYYCINCTkZ6bo6YVTLKoGAJAoCAoDQKQh4d/mTtKo/AyLqgEAJBKCQpLj8kcAQF+wRyGJERIAAH1FUEhShAQAQH8gKCQhQgIAoL8QFJIMIQEA0J8ICkmEkAAA6G8EhSRBSAAAWIHLIxNcTX2Llv3n9oheQ0gAAISLoJDAFjy9Rf4IX0NIAABEgqCQoHi4EwAgGtijkIAiDQmpdkICAODSMKOQYCINCV8rGq5vf+3vLaoGAJDsCAoJhIc7AQCijaCQILj8EQAQC+xRSACEBABArBAU4hwhAQAQSwSFOEZIAADEGkEhThESAADxgKAQhwgJAIB4wVUPcWT+01sUjPA1hAQAgJWYUYgThAQAQDwiKMSB7fuORxQS8jNTCAkAgKhg6SHGIt2PMDLHreX3fsWiagAAOB9BIYZ4bgMAIN4RFBIESw0AgFhgj0KMRDKbQEgAAMQKMwpR9vLrH+n1nbVhn09IAADEEkEhipb+8l196u0I+3xCAgAg1ggKURLJUkOqXXr+/xASAACxR1CIAvYjAAASFZsZLRbpJZAAAMQTgoKFeLgTACDRsfQQY3ZJ/7vsCk0qLIh1KQAAXICgYJGa+pawznuRWQQAQBxj6cEiO/c3hDyHpQYAQLwjKFjE29z7/RK+dctlUaoEAIBLR1CwSE6mW9OKRlx07Fu3XKbbbyAoAADiH3sULFI0Pk+b3z+qaUUjlOZyqt3nV7vPr+mTR2tUfkasywMAICzMKFhkVH6Gpk8erXR3ihpbfEp3pxASAAAJhxkFC43KzyAYAAASGjMKAADAFEEBAACYIigAAABTSRsUDh8+rFmzZqmkpESzZs3SkSNHYl0SAAAJJ2mDwrJly1ReXq6qqiqVl5dr6dKlsS4JAICEk5RBwev1au/evZoxY4YkacaMGdq7d68aGxtjXBkAAIklKYNCXV2dhg0bJofDIUlyOBzKz89XXV1djCsDACCxcB8FEzk5g03H8vK4N0Io9Cg0ehQaPQoPfQqNHl26pAwKHo9HJ06cUCAQkMPhUCAQUH19vTweT9ifw+ttVTBoXHA8Ly9DDQ3hPUJ6oKJHodGj0OhReOhTaPSod3a7rddfjpNy6SEnJ0eFhYWqrKyUJFVWVqqwsFDZ2dkxrgwAgMSSlDMKkvT4449ryZIl+vnPf67MzExVVFTEuiQAABJO0gaFcePG6ZVXXol1GQAAJLSkXHoAAAD9I2lnFPrKbrdd0hi60aPQ6FFo9Cg89Ck0emQuVG9shmFcuLUfAABALD0AAIBeEBQAAIApggIAADBFUAAAAKYICgAAwBRBAQAAmCIoAAAAUwQFAABgiqAAAABMERQAAIApgkKYDh8+rFmzZqmkpESzZs3SkSNHYl2SZSoqKjR16lSNHz9eBw4c6DneWw+sGItXp06d0r333quSkhLdeeed+sEPfqDGxkZJ0u7du1VaWqqSkhLNnTtXXq+353VWjMW7hQsXqrS0VDNnzlR5ebn27dsniffSxTz33HPn/czxXvrc1KlTNX36dJWVlamsrExbt26VRI+ixkBY5syZY6xfv94wDMNYv369MWfOnBhXZJ3t27cbtbW1xq233mrs37+/53hvPbBiLF6dOnXK2LZtW8/HTz/9tPHwww8bgUDAuO2224zt27cbhmEYq1evNpYsWWIYhmHJWCJobm7u+ffXX3/dmDlzpmEYvJe+aM+ePca8efN6fuZ4L53vi38XGYY1fUjkHlmJoBCGkydPGkVFRYbf7zcMwzD8fr9RVFRkeL3eGFdmrXN/OHvrgRVjiWTz5s3Gd7/7XeOvf/2r8fWvf73nuNfrNa699lrDMAxLxhLN7373O+Mb3/gG76Uv8Pl8xj/90z8ZNTU1PT9zvJfOd7GgQI+ih8dMh6Gurk7Dhg2Tw+GQJDkcDuXn56uurk7Z2dkxri46euuBYRj9PpYofQ0Gg3r55Zc1depU1dXVafjw4T1j2dnZCgaDampqsmQsKysrOt9kHz366KN65513ZBiGXnzxRd5LX/Dss8+qtLRUI0eO7DnGe+lCDz74oAzDUFFRkX784x/ToyhijwLQB0888YTS0tI0e/bsWJcSt5566im9+eab+tGPfqQVK1bEupy4smvXLu3Zs0fl5eWxLiWurV27Vhs3btR//dd/yTAMLV++PNYlDSgEhTB4PB6dOHFCgUBAkhQIBFRfXy+PxxPjyqKntx5YMZYIKioq9Mknn+jf//3fZbfb5fF4VFtb2zPe2Ngou92urKwsS8YSzcyZM/Xee++poKCA99IZ27dv16FDhzRt2jRNnTpVx48f17x58/TJJ5/wXjrH2f+OqampKi8vV3V1NT9vUURQCENOTo4KCwtVWVkpSaqsrFRhYWHcT2n2p956YMVYvHvmmWe0Z88erV69WqmpqZKkq666Sh0dHdqxY4ckad26dZo+fbplY/Gura1NdXV1PR9v2bJFQ4YM4b10jgULFujtt9/Wli1btGXLFhUUFGjNmjWaP38+76Uz2tvb1dLSIkkyDEObNm1SYWEhP29RZDMMw4h1EYng0KFDWrJkiZqbm5WZmamKigqNHTs21mVZ4sknn9Qf//hHnTx5UkOHDlVWVpZ+//vf99oDK8bi1ccff6wZM2ZozJgxcrvdkqSRI0dq9erVqq6u1rJly+Tz+TRixAitXLlSubm5kmTJWDw7efKkFi5cqNOnT8tut2vIkCF66KGHdOWVV/JeMjF16lQ9//zzuvzyy3kvnVFTU6P7779fgUBAwWBQ48aN02OPPab8/Hx6FCUEBQAAYIqlBwAAYIqgAAAATBEUAACAKYICAAAwRVAAAACmCAoAAMAUQQFATMyZM0evvPJKnz/Pe++9p5tuuqkfKgJwMQQFAABgiqAAoM9efPFF3X///ecde/LJJ/Xkk09e9Pyf/vSn2rFjh5YvX66JEyf2POTn0KFD+t73vqfJkyerpKREmzZt6nnNW2+9pTvuuEMTJ07UlClTtGbNGrW3t+vee+9VfX29Jk6cqIkTJ+rEiRPWfaPAQBSLZ1sDSC4nTpwwJkyYYHz22WeGYRhGV1eXccMNNxgffvih6Wtmz55t/Pa3v+35uK2tzbjpppuMV1991ejq6jL+9re/GZMnTzY+/vhjwzAM48YbbzS2b99uGIZhNDU1GXv27DEMwzC2bdtmTJkyxapvDRjwmFEA0Gf5+fkqLi7W5s2bJUlbt27V0KFDddVVV4X9Od58802NGDFC3/zmN+V0OnXFFVeopKSk53M6nU4dPHhQra2tGjJkiK688kpLvhcA5yMoAOgX3/jGN7Rx40ZJ0saNG1VWVhbR648dO6YPPvhAxcXFPX9ee+01NTQ0SJJ+9rOf6a233tKtt96q2bNna9euXf3+PQC4kDPWBQBIDrfddpsef/xxHThwQG+++aYWL14c0es9Ho8mTZqkl1566aLj11xzjX7xi1+oq6tLa9eu1Q9/+EO99dZbstls/VE+ABPMKADoFy6XSyUlJXrggQd09dVXa/jw4b2en5ubq5qamp6Pb7nlFh05ckTr169XV1eXurq69MEHH+jQoUPq7OzUxo0b1dLSopSUFKWnp8tu7/7rKycnR01NTWppabH0+wMGKoICgH4zc+ZMHThwIKxlh+985zuqqqrSpEmT9OSTT2rw4MFas2aNNm3apClTpuirX/2qVq1apc7OTknShg0bNHXqVF133XVat26dVq5cKUkaN26cvv71r+u2225TcXExVz0A/cxmGIYR6yIAJIfa2lrdfvvteueddzR48OBYlwOgHzCjAKBfBINBvfTSS7rjjjsICUASYTMjgD5rb2/XjTfeqOHDh+vFF1/sOT5x4sSLnv/LX/5SxcXF0SoPQB+w9AAAAEyx9AAAAEwRFAAAgCmCAgAAMEVQAAAApggKAADA1P8HPXh3Osh4qOEAAAAASUVORK5CYII=\n",
            "text/plain": [
              "<Figure size 576x576 with 1 Axes>"
            ]
          },
          "metadata": {
            "tags": []
          }
        }
      ]
    },
    {
      "cell_type": "code",
      "metadata": {
        "colab": {
          "background_save": true
        },
        "id": "S5mme3cnTER7",
        "outputId": "87a0175e-1c23-4fcf-8cb8-110c9768a8ad"
      },
      "source": [
        "print('MAE:', metrics.mean_absolute_error(y_test, prediction))\n",
        "print('MSE:', metrics.mean_squared_error(y_test, prediction))\n",
        "print('RMSE:', np.sqrt(metrics.mean_squared_error(y_test, prediction)))"
      ],
      "execution_count": null,
      "outputs": [
        {
          "output_type": "stream",
          "text": [
            "MAE: 4.040173515112511\n",
            "MSE: 3541.1953950509273\n",
            "RMSE: 59.50794396591876\n"
          ],
          "name": "stdout"
        }
      ]
    },
    {
      "cell_type": "code",
      "metadata": {
        "colab": {
          "background_save": true
        },
        "id": "qS8httplTEkA"
      },
      "source": [
        "import pickle\n",
        "# open a file, where you ant to store the data\n",
        "file = open('flight_rf.pkl', 'wb')\n",
        "\n",
        "# dump information to that file\n",
        "pickle.dump(rf_random, file)"
      ],
      "execution_count": null,
      "outputs": []
    },
    {
      "cell_type": "code",
      "metadata": {
        "colab": {
          "background_save": true
        },
        "id": "do537cQeTEzg"
      },
      "source": [
        "model = open('flight_rf.pkl','rb')\n",
        "forest = pickle.load(model)"
      ],
      "execution_count": null,
      "outputs": []
    },
    {
      "cell_type": "code",
      "metadata": {
        "colab": {
          "background_save": true
        },
        "id": "8n0hqr7ATKRN"
      },
      "source": [
        "y_prediction = forest.predict(X_test)"
      ],
      "execution_count": null,
      "outputs": []
    },
    {
      "cell_type": "code",
      "metadata": {
        "colab": {
          "background_save": true
        },
        "id": "Ng4gJIvqULuv",
        "outputId": "202f6a5a-7107-419c-ba69-e9076f6edb96"
      },
      "source": [
        "metrics.r2_score(y_test, y_prediction)"
      ],
      "execution_count": null,
      "outputs": [
        {
          "output_type": "execute_result",
          "data": {
            "text/plain": [
              "0.9998264198745443"
            ]
          },
          "metadata": {
            "tags": []
          },
          "execution_count": 0
        }
      ]
    },
    {
      "cell_type": "code",
      "metadata": {
        "colab": {
          "background_save": true
        },
        "id": "VsFc64q8UN5y"
      },
      "source": [
        ""
      ],
      "execution_count": null,
      "outputs": []
    }
  ]
}